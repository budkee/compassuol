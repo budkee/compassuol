{
 "cells": [
  {
   "cell_type": "markdown",
   "id": "df04c849",
   "metadata": {},
   "source": [
    "# Fundamentos\n",
    "\n",
    "## Sumário\n",
    "\n",
    "- Operadores Aritmético\n",
    "- Operadores de Atribuição\n",
    "- Operadores Relacionais\n",
    "- Operadores Lógicos\n",
    "- Operadores Unários\n",
    "- Operadores Ternários\n",
    "- Operadores de Membro \n",
    "- Operadores de Identidade\n",
    "- Builtins\n",
    "- Coerção Automática\n",
    "- Conversão de Tipos\n",
    "- Números\n",
    "- Strings\n",
    "- Substrings\n",
    "- Listas\n",
    "- Sublistas\n",
    "- Tuplas\n",
    "- Dicionários\n",
    "- Conjuntos\n",
    "- Interpolação\n",
    "\n",
    "### Outras referências\n",
    "\n",
    "- [Roadmap Python Developer](https://roadmap.sh/python)\n",
    "- [Exercícios | Kaggle](https://www.kaggle.com/learn/python) \n",
    "- [Métodos Mágicos | dir()](https://python-course.eu/oop/magic-methods.php)\n",
    "- [Tabela Verdade | Operadores Lógicos](https://www.notion.so/siriusb/Aula-1-L-gica-Proposicional-0b5a677aed5b4c7f82749ea5229caa03?pvs=4)"
   ]
  },
  {
   "cell_type": "markdown",
   "id": "9dfef39b",
   "metadata": {},
   "source": [
    "## Operadores Aritméticos"
   ]
  },
  {
   "cell_type": "code",
   "execution_count": 14,
   "id": "ddcd304c",
   "metadata": {},
   "outputs": [
    {
     "name": "stdout",
     "output_type": "stream",
     "text": [
      "5\n",
      "-3\n",
      "0.25\n",
      "0\n",
      "4\n",
      "2\n"
     ]
    }
   ],
   "source": [
    "print(1 + 4)\n",
    "print(1 - 4)\n",
    "print(1 / 4)\n",
    "print(1 // 4)\n",
    "print(1 * 4)\n",
    "print(10 % 4)"
   ]
  },
  {
   "cell_type": "markdown",
   "id": "bcb2899c",
   "metadata": {},
   "source": [
    "## Operadores de Atribuição"
   ]
  },
  {
   "cell_type": "code",
   "execution_count": 12,
   "id": "f32b9a0c",
   "metadata": {},
   "outputs": [
    {
     "name": "stdout",
     "output_type": "stream",
     "text": [
      "7\n",
      "8\n",
      "6\n",
      "2.0\n",
      "0.0\n"
     ]
    }
   ],
   "source": [
    "a = 7\n",
    "print(a)\n",
    "a += 1\n",
    "print(a)\n",
    "a -= 2\n",
    "print(a)\n",
    "a /= 3\n",
    "print(a)\n",
    "a //= 3\n",
    "print(a)"
   ]
  },
  {
   "cell_type": "markdown",
   "id": "a6932136",
   "metadata": {},
   "source": [
    "## Operadores Relacionais"
   ]
  },
  {
   "cell_type": "code",
   "execution_count": 20,
   "id": "a0e3fc00",
   "metadata": {},
   "outputs": [
    {
     "name": "stdout",
     "output_type": "stream",
     "text": [
      "False\n",
      "True\n",
      "False\n",
      "True\n",
      "True\n",
      "False\n",
      "False\n"
     ]
    }
   ],
   "source": [
    "print(7 > 8)\n",
    "print(7 < 8)\n",
    "print(7 >= 8)\n",
    "print(7 <= 8)\n",
    "print(7 != 8)\n",
    "print(7 == 8)\n",
    "print(7 == '8')"
   ]
  },
  {
   "cell_type": "markdown",
   "id": "8f480910",
   "metadata": {},
   "source": [
    "## Operadores Lógicos\n",
    "\n",
    "### Tabela Verdade E | and | &&\n",
    "\n",
    "| V | F | Valor |\n",
    "| -- | -- | --- |\n",
    "| V | V | V |\n",
    "| V | F | F |\n",
    "| F | V | F |\n",
    "| F | F | F |\n",
    "\n",
    "### Tabela Verdade Ou | or | || |\n",
    "\n",
    "| V | F | Valor |\n",
    "| -- | -- | --- |\n",
    "| V | V | V |\n",
    "| V | F | V |\n",
    "| F | V | V |\n",
    "| F | F | F |"
   ]
  },
  {
   "cell_type": "code",
   "execution_count": null,
   "id": "b4efd093",
   "metadata": {},
   "outputs": [],
   "source": [
    "True or False\n",
    "7 != 3 and 2 > 3\n",
    "\n",
    "# Tabela verdade do AND\n",
    "True and True\n",
    "True and False\n",
    "False and True\n",
    "False and False\n",
    "True and True and False and True and True and True\n",
    "\n",
    "# Tabela verdade do OR\n",
    "True or True\n",
    "True or False\n",
    "False or True\n",
    "False or False\n",
    "False or False or True or False or False or False\n",
    "\n",
    "# Tabela verdade do XOR\n",
    "# True != True\n",
    "# True != False\n",
    "# False != True\n",
    "# False != False\n",
    "\n",
    "# Operador de Negação (unário)\n",
    "not True\n",
    "not False\n",
    "\n",
    "not 0\n",
    "not 1\n",
    "not not -1\n",
    "not not True\n",
    "\n",
    "# Cuidado!\n",
    "True & False\n",
    "False | True\n",
    "True ^ False\n",
    "\n",
    "# AND Bit-a-bit\n",
    "# 3 = 11\n",
    "# 2 = 10\n",
    "# _ = 10\n",
    "3 & 2\n",
    "\n",
    "# OR Bit-a-bit\n",
    "# 3 = 11\n",
    "# 2 = 10\n",
    "# _ = 11\n",
    "3 | 2\n",
    "\n",
    "# XOR Bit-a-bit\n",
    "# 3 = 11\n",
    "# 2 = 10\n",
    "# _ = 01\n",
    "3 ^ 2\n",
    "\n",
    "# Um pouco de realidade\n",
    "saldo = 1000\n",
    "salario = 4000\n",
    "despesas = 3900\n",
    "\n",
    "saldo_positivo = saldo > 0\n",
    "despesas_controladas = salario - despesas >= 0.2 * salario\n",
    "\n",
    "meta = saldo_positivo and despesas_controladas\n",
    "meta\n",
    "\n"
   ]
  },
  {
   "cell_type": "markdown",
   "id": "3f030d13",
   "metadata": {},
   "source": [
    "# Operadores Unários"
   ]
  },
  {
   "cell_type": "code",
   "execution_count": null,
   "id": "62b7f056",
   "metadata": {},
   "outputs": [],
   "source": []
  },
  {
   "cell_type": "markdown",
   "id": "d2c888f4",
   "metadata": {},
   "source": [
    "# Operadores Ternários"
   ]
  },
  {
   "cell_type": "code",
   "execution_count": null,
   "id": "1d8764dc",
   "metadata": {},
   "outputs": [],
   "source": [
    "esta_chovendo = True\n",
    "\n",
    "print('Hoje estou com as roupas ' + ('secas.', 'molhadas.')[esta_chovendo])\n",
    "print('Hoje estou com as roupas ' + ('molhadas.' if esta_chovendo else 'secas.'))"
   ]
  },
  {
   "cell_type": "markdown",
   "id": "7dbcb54f",
   "metadata": {},
   "source": [
    "# Outros Operadores"
   ]
  },
  {
   "cell_type": "code",
   "execution_count": null,
   "id": "63f01982",
   "metadata": {},
   "outputs": [],
   "source": [
    "# Operador de Membro\n",
    "lista = [1, 2, 3, 'Ana', 'Banana']\n",
    "2 in lista\n",
    "'Banana' not in lista\n",
    "\n",
    "# Operador de"
   ]
  },
  {
   "cell_type": "markdown",
   "id": "d9a813e3",
   "metadata": {},
   "source": [
    "# Coerção Automática\n",
    "São coerções implícitas feitas pelo Python."
   ]
  },
  {
   "cell_type": "code",
   "execution_count": null,
   "id": "a1e9ec02",
   "metadata": {},
   "outputs": [],
   "source": [
    "10 / 2\n",
    "type(10 / 2)"
   ]
  },
  {
   "cell_type": "markdown",
   "id": "8cd66f29",
   "metadata": {},
   "source": [
    "# Tipos Numéricos"
   ]
  },
  {
   "cell_type": "code",
   "execution_count": null,
   "id": "c451b3d7",
   "metadata": {},
   "outputs": [],
   "source": [
    "dir(int)\n",
    "dir(float)"
   ]
  },
  {
   "cell_type": "markdown",
   "id": "8a669598",
   "metadata": {},
   "source": [
    "## Desafios | Udemy"
   ]
  },
  {
   "cell_type": "code",
   "execution_count": null,
   "id": "e7169c4d",
   "metadata": {},
   "outputs": [],
   "source": [
    "# Desafio 1: Qual é o percentual do salario que é comprometido com as despesas mensais?\n",
    "\n",
    "salario = 4930\n",
    "despesas = 2803\n",
    "\n",
    "percentual = despesas / salario * 100\n",
    "\n",
    "print('Percentual = {0:.2f}%'.format(percentual))\n"
   ]
  },
  {
   "cell_type": "code",
   "execution_count": null,
   "id": "8366def7",
   "metadata": {},
   "outputs": [],
   "source": [
    "# Desafio 2: Uma pessoa realiza seu trabalho na terça e na quinta. Estes podem dar ou não certo. A pessoa, seu Juracir, prometeu à familia que:\n",
    "# Caso 1: ambos os trabalhos deem certo, ele vai ao shopping com a familia comprar uma TV de 50' + sorvete\n",
    "# Caso 2: apenas um dos trabalhos dê certo, ele vai comprar a TV de 32' + sorvete\n",
    "# Caso 3: quando nenhum dos dois trabalhos dão certo e o seu Juracir fica com saúde.\n",
    "\n",
    "# Liste e imprima as possibilidades do cenário de Juracir\n",
    "trabalho_terca = True\n",
    "trabalho_quinta = False\n",
    "\n",
    "\n",
    "tv50 = trabalho_terca and trabalho_quinta\n",
    "tv32 = trabalho_terca != trabalho_quinta\n",
    "sorvete = trabalho_terca or trabalho_quinta\n",
    "saude = not sorvete\n",
    "\n",
    "print('Tv50: {}\\nTv32: {}\\nSorvete: {}\\nSaúde: {}'.format(tv50, tv32, sorvete, saude))\n"
   ]
  }
 ],
 "metadata": {
  "kernelspec": {
   "display_name": "Python 3 (ipykernel)",
   "language": "python",
   "name": "python3"
  },
  "language_info": {
   "codemirror_mode": {
    "name": "ipython",
    "version": 3
   },
   "file_extension": ".py",
   "mimetype": "text/x-python",
   "name": "python",
   "nbconvert_exporter": "python",
   "pygments_lexer": "ipython3",
   "version": "3.11.4"
  }
 },
 "nbformat": 4,
 "nbformat_minor": 5
}
