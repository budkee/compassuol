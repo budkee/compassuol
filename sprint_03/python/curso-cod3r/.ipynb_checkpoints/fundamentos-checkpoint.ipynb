{
 "cells": [
  {
   "cell_type": "markdown",
   "id": "df04c849",
   "metadata": {},
   "source": [
    "# Fundamentos\n",
    "\n",
    "## Sumário\n",
    "\n",
    "- Operadores Aritmético\n",
    "- Operadores Relacionais\n",
    "- Operadores Lógicos\n",
    "- Operadores de Atribuição\n",
    "- Operadores Unários\n",
    "- Operadores Ternários\n",
    "- Operadores de Membro \n",
    "- Operadores de Identidade\n",
    "- Builtins\n",
    "- Coerção Automática\n",
    "- Conversão de Tipos\n",
    "- Números\n",
    "- Strings\n",
    "- Substrings\n",
    "- Listas\n",
    "- Tuplas\n",
    "- Dicionários\n",
    "- Conjuntos\n",
    "- Interpolação\n",
    "\n",
    "### Outras referências\n",
    "\n",
    "- [Roadmap Python Developer](https://roadmap.sh/python)\n",
    "- [Exercícios | Python](https://www.kaggle.com/learn/python) "
   ]
  },
  {
   "cell_type": "markdown",
   "id": "9ace5d94",
   "metadata": {},
   "source": []
  },
  {
   "cell_type": "markdown",
   "id": "bcb2899c",
   "metadata": {},
   "source": [
    "## Operadores de Atribuição"
   ]
  },
  {
   "cell_type": "code",
   "execution_count": null,
   "id": "f32b9a0c",
   "metadata": {},
   "outputs": [],
   "source": [
    "a = 1\n",
    "\n",
    "a += 1\n",
    "print(a)"
   ]
  },
  {
   "cell_type": "markdown",
   "id": "8f480910",
   "metadata": {},
   "source": [
    "## Operadores Lógicos\n",
    "\n",
    "- [Tabela Verdade](https://www.notion.so/siriusb/Aula-1-L-gica-Proposicional-0b5a677aed5b4c7f82749ea5229caa03?pvs=4)\n",
    "\n",
    "### Tabela Verdade E | and | &&\n",
    "\n",
    "| V | F | Valor |\n",
    "| -- | -- | --- |\n",
    "| V | V | V |\n",
    "| V | F | F |\n",
    "| F | V | F |\n",
    "| F | F | F |\n",
    "\n",
    "### Tabela Verdade Ou | or | || |\n",
    "\n",
    "| V | F | Valor |\n",
    "| -- | -- | --- |\n",
    "| V | V | V |\n",
    "| V | F | V |\n",
    "| F | V | V |\n",
    "| F | F | F |"
   ]
  },
  {
   "cell_type": "markdown",
   "id": "3f030d13",
   "metadata": {},
   "source": [
    "# Operadores Unários"
   ]
  },
  {
   "cell_type": "code",
   "execution_count": null,
   "id": "62b7f056",
   "metadata": {},
   "outputs": [],
   "source": []
  },
  {
   "cell_type": "markdown",
   "id": "d2c888f4",
   "metadata": {},
   "source": [
    "# Operadores Ternários"
   ]
  },
  {
   "cell_type": "code",
   "execution_count": null,
   "id": "1d8764dc",
   "metadata": {},
   "outputs": [],
   "source": [
    "esta_chovendo = True\n",
    "\n",
    "print('Hoje estou com as roupas ' + ('secas.', 'molhadas.')[esta_chovendo])\n",
    "print('Hoje estou com as roupas ' + ('molhadas.' if esta_chovendo else 'secas.'))"
   ]
  },
  {
   "cell_type": "markdown",
   "id": "7dbcb54f",
   "metadata": {},
   "source": [
    "# Outros Operadores"
   ]
  },
  {
   "cell_type": "code",
   "execution_count": null,
   "id": "63f01982",
   "metadata": {},
   "outputs": [],
   "source": [
    "# Operador de Membro\n",
    "lista = [1, 2, 3, 'Ana', 'Banana']\n",
    "2 in lista\n",
    "'Banana' not in lista\n",
    "\n",
    "# Operador de"
   ]
  },
  {
   "cell_type": "markdown",
   "id": "5e723225",
   "metadata": {},
   "source": [
    "# Coerção Automática\n",
    "São coerções implícitas feitas pelo Python."
   ]
  },
  {
   "cell_type": "code",
   "execution_count": null,
   "id": "d78df6ae",
   "metadata": {},
   "outputs": [],
   "source": [
    "10 / 2\n",
    "type(10 / 2)"
   ]
  },
  {
   "cell_type": "markdown",
   "id": "c753ebfd",
   "metadata": {},
   "source": [
    "# Tipos Numéricos"
   ]
  },
  {
   "cell_type": "code",
   "execution_count": null,
   "id": "b5e211c4",
   "metadata": {},
   "outputs": [],
   "source": [
    "dir(int)\n",
    "dir(float)"
   ]
  },
  {
   "cell_type": "markdown",
   "id": "8a669598",
   "metadata": {},
   "source": [
    "## Desafios | Udemy"
   ]
  },
  {
   "cell_type": "code",
   "execution_count": null,
   "id": "e7169c4d",
   "metadata": {},
   "outputs": [],
   "source": [
    "# Desafio 1: Qual é o percentual do salario que é comprometido com as despesas mensais?\n",
    "\n",
    "salario = 4930\n",
    "despesas = 2803\n",
    "\n",
    "percentual = despesas / salario * 100\n",
    "\n",
    "print('Percentual = {0:.2f}%'.format(percentual))\n"
   ]
  },
  {
   "cell_type": "code",
   "execution_count": null,
   "id": "8366def7",
   "metadata": {},
   "outputs": [],
   "source": [
    "# Desafio 2: Uma pessoa realiza seu trabalho na terça e na quinta. Estes podem dar ou não certo. A pessoa, seu Juracir, prometeu à familia que:\n",
    "# Caso 1: ambos os trabalhos deem certo, ele vai ao shopping com a familia comprar uma TV de 50' + sorvete\n",
    "# Caso 2: apenas um dos trabalhos dê certo, ele vai comprar a TV de 32' + sorvete\n",
    "# Caso 3: quando nenhum dos dois trabalhos dão certo e o seu Juracir fica com saúde.\n",
    "\n",
    "# Liste e imprima as possibilidades do cenário de Juracir\n",
    "trabalho_terca = True\n",
    "trabalho_quinta = False\n",
    "\n",
    "\n",
    "tv50 = trabalho_terca and trabalho_quinta\n",
    "tv32 = trabalho_terca != trabalho_quinta\n",
    "sorvete = trabalho_terca or trabalho_quinta\n",
    "saude = not sorvete\n",
    "\n",
    "print('Tv50: {}\\nTv32: {}\\nSorvete: {}\\nSaúde: {}'.format(tv50, tv32, sorvete, saude))\n"
   ]
  }
 ],
 "metadata": {
  "kernelspec": {
   "display_name": "Python 3 (ipykernel)",
   "language": "python",
   "name": "python3"
  },
  "language_info": {
   "codemirror_mode": {
    "name": "ipython",
    "version": 3
   },
   "file_extension": ".py",
   "mimetype": "text/x-python",
   "name": "python",
   "nbconvert_exporter": "python",
   "pygments_lexer": "ipython3",
   "version": "3.11.4"
  }
 },
 "nbformat": 4,
 "nbformat_minor": 5
}
