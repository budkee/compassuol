{
 "cells": [
  {
   "cell_type": "markdown",
   "id": "df04c849",
   "metadata": {},
   "source": [
    "# Fundamentos | Python v3.8+\n",
    "\n",
    "\n",
    "## Sumário\n",
    "\n",
    "- [Operadores Aritmético](#operadores-aritméticos)\n",
    "- [Operadores de Atribuição](#operadores-de-atribuição)\n",
    "- [Operadores Relacionais](#operadores-relacionais)\n",
    "- [Operadores Lógicos](#operadores-lógicos)\n",
    "- [Operadores Unários](#operadores-unários)\n",
    "- [Operadores Ternários](#operadores-ternários)\n",
    "- [Operadores de Membro](#operadores-de-membro) \n",
    "- [Operadores de Identidade](#operador-de-identidade)\n",
    "- [Builtins](#builtins)\n",
    "- [Coerção Automática](#coerção-automática)\n",
    "- [Conversão de Tipos](#conversão-de-tipos)\n",
    "- [Números]()\n",
    "- Strings\n",
    "- Substrings\n",
    "- Listas\n",
    "- Sublistas\n",
    "- Tuplas\n",
    "- Dicionários\n",
    "- Conjuntos\n",
    "- Interpolação\n",
    "\n",
    "### Links de Acesso Rápido\n",
    "\n",
    "- [Apostila | Cod3r](./curso-python-versao-1.1.pdf)\n",
    "- [W3Schools | Pyhton Docs](https://www.w3schools.com/python/default.asp)\n",
    "- [Roadmap Python Developer](https://roadmap.sh/python)\n",
    "- [Exercícios | Kaggle](https://www.kaggle.com/learn/python) \n",
    "- [Métodos Mágicos | dir()](https://python-course.eu/oop/magic-methods.php)\n",
    "- [Tabela Verdade | Operadores Lógicos](https://www.notion.so/siriusb/Aula-1-L-gica-Proposicional-0b5a677aed5b4c7f82749ea5229caa03?pvs=4)"
   ]
  },
  {
   "cell_type": "markdown",
   "id": "9dfef39b",
   "metadata": {},
   "source": [
    "## Operadores Aritméticos"
   ]
  },
  {
   "cell_type": "code",
   "execution_count": 14,
   "id": "ddcd304c",
   "metadata": {},
   "outputs": [
    {
     "name": "stdout",
     "output_type": "stream",
     "text": [
      "5\n",
      "-3\n",
      "0.25\n",
      "0\n",
      "4\n",
      "2\n"
     ]
    }
   ],
   "source": [
    "print(1 + 4)\n",
    "print(1 - 4)\n",
    "print(1 / 4)\n",
    "print(1 // 4)\n",
    "print(1 * 4)\n",
    "print(10 % 4)"
   ]
  },
  {
   "cell_type": "markdown",
   "id": "bcb2899c",
   "metadata": {},
   "source": [
    "## Operadores de Atribuição"
   ]
  },
  {
   "cell_type": "code",
   "execution_count": 12,
   "id": "f32b9a0c",
   "metadata": {},
   "outputs": [
    {
     "name": "stdout",
     "output_type": "stream",
     "text": [
      "7\n",
      "8\n",
      "6\n",
      "2.0\n",
      "0.0\n"
     ]
    }
   ],
   "source": [
    "a = 7\n",
    "print(a)\n",
    "a += 1\n",
    "print(a)\n",
    "a -= 2\n",
    "print(a)\n",
    "a /= 3\n",
    "print(a)\n",
    "a //= 3\n",
    "print(a)"
   ]
  },
  {
   "cell_type": "markdown",
   "id": "a6932136",
   "metadata": {},
   "source": [
    "## Operadores Relacionais"
   ]
  },
  {
   "cell_type": "code",
   "execution_count": 20,
   "id": "a0e3fc00",
   "metadata": {},
   "outputs": [
    {
     "name": "stdout",
     "output_type": "stream",
     "text": [
      "False\n",
      "True\n",
      "False\n",
      "True\n",
      "True\n",
      "False\n",
      "False\n"
     ]
    }
   ],
   "source": [
    "print(7 > 8)\n",
    "print(7 < 8)\n",
    "print(7 >= 8)\n",
    "print(7 <= 8)\n",
    "print(7 != 8)\n",
    "print(7 == 8)\n",
    "print(7 == '8')"
   ]
  },
  {
   "cell_type": "markdown",
   "id": "8f480910",
   "metadata": {},
   "source": [
    "## Operadores Lógicos"
   ]
  },
  {
   "cell_type": "markdown",
   "id": "22c929cd",
   "metadata": {},
   "source": [
    "### Tabela Verdade Ou | or | || |\n",
    "\n",
    "| V | F | Valor |\n",
    "| -- | -- | --- |\n",
    "| V | V | V |\n",
    "| V | F | V |\n",
    "| F | V | V |\n",
    "| F | F | F |"
   ]
  },
  {
   "cell_type": "markdown",
   "id": "5edb3196",
   "metadata": {},
   "source": [
    "### Tabela Verdade E | and | &&\n",
    "\n",
    "| V | F | Valor |\n",
    "| -- | -- | --- |\n",
    "| V | V | V |\n",
    "| V | F | F |\n",
    "| F | V | F |\n",
    "| F | F | F |"
   ]
  },
  {
   "cell_type": "code",
   "execution_count": null,
   "id": "b4efd093",
   "metadata": {},
   "outputs": [],
   "source": [
    "True or False\n",
    "7 != 3 and 2 > 3\n",
    "\n",
    "# Tabela verdade do AND\n",
    "True and True\n",
    "True and False\n",
    "False and True\n",
    "False and False\n",
    "True and True and False and True and True and True\n",
    "\n",
    "# Tabela verdade do OR\n",
    "True or True\n",
    "True or False\n",
    "False or True\n",
    "False or False\n",
    "False or False or True or False or False or False\n",
    "\n",
    "# Tabela verdade do XOR\n",
    "# True != True\n",
    "# True != False\n",
    "# False != True\n",
    "# False != False\n",
    "\n",
    "# Operador de Negação (unário)\n",
    "not True\n",
    "not False\n",
    "\n",
    "not 0\n",
    "not 1\n",
    "not not -1\n",
    "not not True\n",
    "\n",
    "# Cuidado!\n",
    "True & False\n",
    "False | True\n",
    "True ^ False\n",
    "\n",
    "# AND Bit-a-bit\n",
    "# 3 = 11\n",
    "# 2 = 10\n",
    "# _ = 10\n",
    "3 & 2\n",
    "\n",
    "# OR Bit-a-bit\n",
    "# 3 = 11\n",
    "# 2 = 10\n",
    "# _ = 11\n",
    "3 | 2\n",
    "\n",
    "# XOR Bit-a-bit\n",
    "# 3 = 11\n",
    "# 2 = 10\n",
    "# _ = 01\n",
    "3 ^ 2\n",
    "\n",
    "# Um pouco de realidade\n",
    "saldo = 1000\n",
    "salario = 4000\n",
    "despesas = 3900\n",
    "\n",
    "saldo_positivo = saldo > 0\n",
    "despesas_controladas = salario - despesas >= 0.2 * salario\n",
    "\n",
    "meta = saldo_positivo and despesas_controladas\n",
    "meta\n",
    "\n"
   ]
  },
  {
   "cell_type": "markdown",
   "id": "3f030d13",
   "metadata": {},
   "source": [
    "## Operadores Unários"
   ]
  },
  {
   "cell_type": "code",
   "execution_count": 2,
   "id": "62b7f056",
   "metadata": {},
   "outputs": [
    {
     "data": {
      "text/plain": [
       "True"
      ]
     },
     "execution_count": 2,
     "metadata": {},
     "output_type": "execute_result"
    }
   ],
   "source": [
    "a = 3\n",
    "# a++\n",
    "# a += 1\n",
    "# a\n",
    "# a--\n",
    "# ++a\n",
    "# ++a\n",
    "-a\n",
    "+a\n",
    "\n",
    "not 0\n",
    "not 1\n",
    "not -2\n",
    "not False\n",
    "not not True"
   ]
  },
  {
   "cell_type": "markdown",
   "id": "d2c888f4",
   "metadata": {},
   "source": [
    "## Operadores Ternários"
   ]
  },
  {
   "cell_type": "code",
   "execution_count": null,
   "id": "1d8764dc",
   "metadata": {},
   "outputs": [],
   "source": [
    "esta_chovendo = True\n",
    "\n",
    "print('Hoje estou com as roupas ' + ('secas.', 'molhadas.')[esta_chovendo])\n",
    "print('Hoje estou com as roupas ' + ('molhadas.' if esta_chovendo else 'secas.'))"
   ]
  },
  {
   "cell_type": "markdown",
   "id": "7dbcb54f",
   "metadata": {},
   "source": []
  },
  {
   "cell_type": "markdown",
   "id": "7900e1a9",
   "metadata": {},
   "source": [
    "## Operadores de Membro"
   ]
  },
  {
   "cell_type": "code",
   "execution_count": 3,
   "id": "63f01982",
   "metadata": {},
   "outputs": [
    {
     "data": {
      "text/plain": [
       "False"
      ]
     },
     "execution_count": 3,
     "metadata": {},
     "output_type": "execute_result"
    }
   ],
   "source": [
    "# Operador de Membro\n",
    "lista = [1, 2, 3, 'Ana', 'Banana']\n",
    "2 in lista\n",
    "'Banana' not in lista"
   ]
  },
  {
   "cell_type": "markdown",
   "id": "5899d759",
   "metadata": {},
   "source": [
    "## Operador de Identidade"
   ]
  },
  {
   "cell_type": "code",
   "execution_count": 4,
   "id": "623c47be",
   "metadata": {},
   "outputs": [
    {
     "data": {
      "text/plain": [
       "True"
      ]
     },
     "execution_count": 4,
     "metadata": {},
     "output_type": "execute_result"
    }
   ],
   "source": [
    "x = 3\n",
    "y = x\n",
    "z = 3\n",
    "x is y\n",
    "y is z\n",
    "x is not z\n",
    "\n",
    "lista_a = [1, 2, 3]\n",
    "lista_b = lista_a\n",
    "lista_c = [1, 2, 3]\n",
    "\n",
    "lista_a is lista_b\n",
    "lista_b is lista_c\n",
    "lista_a is not lista_c"
   ]
  },
  {
   "cell_type": "markdown",
   "id": "fd4414a7",
   "metadata": {},
   "source": [
    "## Builtins"
   ]
  },
  {
   "cell_type": "code",
   "execution_count": 5,
   "id": "4ddc62c8",
   "metadata": {},
   "outputs": [
    {
     "name": "stdout",
     "output_type": "stream",
     "text": [
      "3.3333333333333335\n"
     ]
    },
    {
     "data": {
      "text/plain": [
       "['In',\n",
       " 'Out',\n",
       " '_',\n",
       " '_1',\n",
       " '_2',\n",
       " '_3',\n",
       " '_4',\n",
       " '__',\n",
       " '___',\n",
       " '__builtin__',\n",
       " '__builtins__',\n",
       " '__doc__',\n",
       " '__loader__',\n",
       " '__name__',\n",
       " '__package__',\n",
       " '__spec__',\n",
       " '__vsc_ipynb_file__',\n",
       " '_dh',\n",
       " '_i',\n",
       " '_i1',\n",
       " '_i2',\n",
       " '_i3',\n",
       " '_i4',\n",
       " '_i5',\n",
       " '_ih',\n",
       " '_ii',\n",
       " '_iii',\n",
       " '_oh',\n",
       " 'a',\n",
       " 'exit',\n",
       " 'get_ipython',\n",
       " 'lista',\n",
       " 'lista_a',\n",
       " 'lista_b',\n",
       " 'lista_c',\n",
       " 'nome',\n",
       " 'open',\n",
       " 'quit',\n",
       " 'x',\n",
       " 'y',\n",
       " 'z']"
      ]
     },
     "execution_count": 5,
     "metadata": {},
     "output_type": "execute_result"
    }
   ],
   "source": [
    "# type()\n",
    "type(1)\n",
    "__builtins__.type('Se eu fosse um peixinho...')\n",
    "__builtins__.print(10 / 3)\n",
    "\n",
    "# __builtins__.help(__builtins__.dir)\n",
    "\n",
    "# a = 7\n",
    "# import math\n",
    "# dir()\n",
    "# dir(__builtins__)\n",
    "\n",
    "\n",
    "nome = 'Flor'\n",
    "type(nome)\n",
    "# __builtin__.len(nome)\n",
    "\n",
    "dir()"
   ]
  },
  {
   "cell_type": "markdown",
   "id": "04318c15",
   "metadata": {},
   "source": [
    "## Conversão de Tipos"
   ]
  },
  {
   "cell_type": "code",
   "execution_count": 6,
   "id": "8fbe0f34",
   "metadata": {},
   "outputs": [
    {
     "name": "stdout",
     "output_type": "stream",
     "text": [
      "<class 'int'>\n",
      "<class 'str'>\n",
      "5\n",
      "23\n"
     ]
    },
    {
     "data": {
      "text/plain": [
       "str"
      ]
     },
     "execution_count": 6,
     "metadata": {},
     "output_type": "execute_result"
    }
   ],
   "source": [
    "2 + 3\n",
    "'2' + '3'\n",
    "# 2 + '3'\n",
    "# print(2 + '3')\n",
    "\n",
    "a = 2\n",
    "b = '3'\n",
    "\n",
    "print(type(a))\n",
    "print(type(b))\n",
    "\n",
    "print(a + int(b))\n",
    "print(str(a) + b)\n",
    "\n",
    "type(str(a))\n",
    "\n",
    "# print(2 + int('3.4'))"
   ]
  },
  {
   "cell_type": "markdown",
   "id": "d9a813e3",
   "metadata": {},
   "source": [
    "## Coerção Automática\n",
    "São coerções implícitas feitas pelo Python, coisas que linguagens de baixo nível geralmente não realizam."
   ]
  },
  {
   "cell_type": "code",
   "execution_count": 7,
   "id": "a1e9ec02",
   "metadata": {},
   "outputs": [
    {
     "data": {
      "text/plain": [
       "float"
      ]
     },
     "execution_count": 7,
     "metadata": {},
     "output_type": "execute_result"
    }
   ],
   "source": [
    "10 / 2\n",
    "type(10 / 2)\n",
    "10 / 3\n",
    "10 // 3\n",
    "type(10 // 3)\n",
    "10 // 3.3\n",
    "type(10 // 3.3)\n",
    "10 / 2.5\n",
    "2 + True\n",
    "2 + False\n",
    "type(1 + 2)\n",
    "type(1 + 2.5)"
   ]
  },
  {
   "cell_type": "markdown",
   "id": "8cd66f29",
   "metadata": {},
   "source": [
    "## Números\n",
    "\n",
    "### Tipos Numéricos"
   ]
  },
  {
   "cell_type": "code",
   "execution_count": 8,
   "id": "c451b3d7",
   "metadata": {},
   "outputs": [
    {
     "data": {
      "text/plain": [
       "3.6"
      ]
     },
     "execution_count": 8,
     "metadata": {},
     "output_type": "execute_result"
    }
   ],
   "source": [
    "dir(int)\n",
    "dir(float)\n",
    "\n",
    "a = 5\n",
    "b = 2.5\n",
    "a / b\n",
    "a + b\n",
    "a * b\n",
    "\n",
    "type(a)\n",
    "type(b)\n",
    "type(a - b)\n",
    "\n",
    "b.is_integer()\n",
    "5.0.is_integer()\n",
    "\n",
    "dir(int)\n",
    "int.__add__(2, 3)\n",
    "2 + 3\n",
    "\n",
    "(-2).__abs__()\n",
    "abs(-2)\n",
    "\n",
    "(-3.6).__abs__()\n",
    "dir(float)\n",
    "abs(-3.6)"
   ]
  },
  {
   "cell_type": "code",
   "execution_count": 16,
   "id": "077a8b2b",
   "metadata": {},
   "outputs": [],
   "source": [
    "import decimal\n",
    "from decimal import Decimal, getcontext\n",
    "\n",
    "# 1.1 + 2.2\n",
    "Decimal(1) / Decimal(7)\n",
    "\n",
    "getcontext().prec = 4\n",
    "Decimal(1) / Decimal(7)\n",
    "#Decimal.max(Decimal(1), Decimal(7))\n",
    "#dir(Decimal)\n",
    "\n",
    "1.1 + 2.2\n",
    "getcontext().prec = 10\n",
    "#Decimal(1.1) + Decimal(2.2)\n",
    "\n",
    "#dir(decimal)\n",
    "#dir()"
   ]
  },
  {
   "cell_type": "markdown",
   "id": "bca4d17c",
   "metadata": {},
   "source": [
    "## Strings\n",
    "\n",
    "### Tipos de Strings"
   ]
  },
  {
   "cell_type": "code",
   "execution_count": 17,
   "id": "5090be5d",
   "metadata": {},
   "outputs": [
    {
     "name": "stdout",
     "output_type": "stream",
     "text": [
      "Texto com múltiplas\n",
      "\t... linhas\n",
      "Texto com múltiplas\n",
      "    ... linhas\n"
     ]
    },
    {
     "data": {
      "text/plain": [
       "'Também é possível\\n... com 3 aspas simples'"
      ]
     },
     "execution_count": 17,
     "metadata": {},
     "output_type": "execute_result"
    }
   ],
   "source": [
    "dir(str)\n",
    "nome = 'Saulo Pedro'\n",
    "nome\n",
    "nome[0]\n",
    "# nome[0] = 'P'\n",
    "\n",
    "# 'marca d'água'\n",
    "\"Dias D'Avila\" == 'Dias D\\'Avila'\n",
    "\"Teste \\\" funciona!\"\n",
    "texto = 'Texto entre apostrófos pode ter \"aspas\"'\n",
    "texto\n",
    "\n",
    "doc = \"\"\"Texto com múltiplas\n",
    "    ... linhas\"\"\"\n",
    "doc\n",
    "print('Texto com múltiplas\\n\\t... linhas')\n",
    "print(doc)\n",
    "\n",
    "doc2 = '''Também é possível\n",
    "... com 3 aspas simples'''\n",
    "doc2"
   ]
  },
  {
   "cell_type": "code",
   "execution_count": 18,
   "id": "957f8d15",
   "metadata": {},
   "outputs": [
    {
     "data": {
      "text/plain": [
       "'aluaP anA'"
      ]
     },
     "execution_count": 18,
     "metadata": {},
     "output_type": "execute_result"
    }
   ],
   "source": [
    "nome = 'Ana Paula'\n",
    "nome[0]\n",
    "nome[6]\n",
    "nome[-3]\n",
    "nome[4:]\n",
    "nome[-5:]\n",
    "nome[:3]\n",
    "nome[2:5]\n",
    "\n",
    "numeros = '1234567890'\n",
    "numeros\n",
    "numeros[::]\n",
    "numeros[::2]\n",
    "numeros[1::2]\n",
    "numeros[::-1]\n",
    "numeros[::-2]\n",
    "\n",
    "nome[::-1]"
   ]
  },
  {
   "cell_type": "code",
   "execution_count": 19,
   "id": "fefa8362",
   "metadata": {},
   "outputs": [
    {
     "data": {
      "text/plain": [
       "['PYTHON É UMA LINGUAG', 'M ', 'XC', 'L', 'NT', '']"
      ]
     },
     "execution_count": 19,
     "metadata": {},
     "output_type": "execute_result"
    }
   ],
   "source": [
    "# %%\n",
    "frase = 'Python é uma linguagem excelente'\n",
    "'py' not in frase\n",
    "'ing' in frase\n",
    "len(frase)\n",
    "frase.lower()\n",
    "frase\n",
    "frase = frase.upper()\n",
    "frase\n",
    "\n",
    "frase.split()\n",
    "frase.split('E')\n",
    "\n",
    "# dir(str)\n",
    "# help(str.center)"
   ]
  },
  {
   "cell_type": "code",
   "execution_count": 20,
   "id": "39e103a2",
   "metadata": {},
   "outputs": [
    {
     "data": {
      "text/plain": [
       "['__add__',\n",
       " '__class__',\n",
       " '__contains__',\n",
       " '__delattr__',\n",
       " '__dir__',\n",
       " '__doc__',\n",
       " '__eq__',\n",
       " '__format__',\n",
       " '__ge__',\n",
       " '__getattribute__',\n",
       " '__getitem__',\n",
       " '__getnewargs__',\n",
       " '__getstate__',\n",
       " '__gt__',\n",
       " '__hash__',\n",
       " '__init__',\n",
       " '__init_subclass__',\n",
       " '__iter__',\n",
       " '__le__',\n",
       " '__len__',\n",
       " '__lt__',\n",
       " '__mod__',\n",
       " '__mul__',\n",
       " '__ne__',\n",
       " '__new__',\n",
       " '__reduce__',\n",
       " '__reduce_ex__',\n",
       " '__repr__',\n",
       " '__rmod__',\n",
       " '__rmul__',\n",
       " '__setattr__',\n",
       " '__sizeof__',\n",
       " '__str__',\n",
       " '__subclasshook__',\n",
       " 'capitalize',\n",
       " 'casefold',\n",
       " 'center',\n",
       " 'count',\n",
       " 'encode',\n",
       " 'endswith',\n",
       " 'expandtabs',\n",
       " 'find',\n",
       " 'format',\n",
       " 'format_map',\n",
       " 'index',\n",
       " 'isalnum',\n",
       " 'isalpha',\n",
       " 'isascii',\n",
       " 'isdecimal',\n",
       " 'isdigit',\n",
       " 'isidentifier',\n",
       " 'islower',\n",
       " 'isnumeric',\n",
       " 'isprintable',\n",
       " 'isspace',\n",
       " 'istitle',\n",
       " 'isupper',\n",
       " 'join',\n",
       " 'ljust',\n",
       " 'lower',\n",
       " 'lstrip',\n",
       " 'maketrans',\n",
       " 'partition',\n",
       " 'removeprefix',\n",
       " 'removesuffix',\n",
       " 'replace',\n",
       " 'rfind',\n",
       " 'rindex',\n",
       " 'rjust',\n",
       " 'rpartition',\n",
       " 'rsplit',\n",
       " 'rstrip',\n",
       " 'split',\n",
       " 'splitlines',\n",
       " 'startswith',\n",
       " 'strip',\n",
       " 'swapcase',\n",
       " 'title',\n",
       " 'translate',\n",
       " 'upper',\n",
       " 'zfill']"
      ]
     },
     "execution_count": 20,
     "metadata": {},
     "output_type": "execute_result"
    }
   ],
   "source": [
    "a = '123'\n",
    "b = ' de Oliveira 4'\n",
    "a + b\n",
    "a.__add__(b)\n",
    "str.__add__(a, b)\n",
    "\n",
    "len(a)\n",
    "a.__len__()\n",
    "'1' in a\n",
    "a.__contains__('1')\n",
    "\n",
    "dir(str)"
   ]
  },
  {
   "cell_type": "markdown",
   "id": "e0dc6fa2",
   "metadata": {},
   "source": [
    "## Listas"
   ]
  },
  {
   "cell_type": "code",
   "execution_count": 25,
   "id": "e26cb2b0",
   "metadata": {},
   "outputs": [
    {
     "data": {
      "text/plain": [
       "['Bia', 'Ana', 1]"
      ]
     },
     "execution_count": 25,
     "metadata": {},
     "output_type": "execute_result"
    }
   ],
   "source": [
    "lista = []\n",
    "type(lista)\n",
    "dir(lista)\n",
    "# help(list)\n",
    "len(lista)\n",
    "lista.append(1)\n",
    "lista.append(5)\n",
    "lista\n",
    "len(lista)\n",
    "\n",
    "nova_lista = [1, 5, 'Ana', 'Bia']\n",
    "nova_lista\n",
    "nova_lista.remove(5)\n",
    "nova_lista\n",
    "nova_lista.reverse()\n",
    "nova_lista"
   ]
  },
  {
   "cell_type": "code",
   "execution_count": 24,
   "id": "283a152b",
   "metadata": {},
   "outputs": [
    {
     "data": {
      "text/plain": [
       "1"
      ]
     },
     "execution_count": 24,
     "metadata": {},
     "output_type": "execute_result"
    }
   ],
   "source": [
    "lista = [1, 5, 'Rebeca', 'Guilherme', 3.1415]\n",
    "lista.index('Guilherme')\n",
    "# lista.index(42)\n",
    "lista[2]\n",
    "1 in lista\n",
    "'Rebeca' in lista\n",
    "'Pedro' not in lista\n",
    "lista[0]\n",
    "lista[4]\n",
    "# lista[5]\n",
    "lista[-1]\n",
    "lista[-5]"
   ]
  },
  {
   "cell_type": "code",
   "execution_count": 23,
   "id": "7dff863c",
   "metadata": {},
   "outputs": [
    {
     "data": {
      "text/plain": [
       "['Ana']"
      ]
     },
     "execution_count": 23,
     "metadata": {},
     "output_type": "execute_result"
    }
   ],
   "source": [
    "lista = ['Ana', 'Lia', 'Rui', 'Paulo', 'Dani']\n",
    "lista[1:3]\n",
    "lista[1:-1]\n",
    "lista[1:]\n",
    "lista[:-1]\n",
    "lista[:]\n",
    "lista[::2]\n",
    "lista[::-1]\n",
    "del lista[2]\n",
    "lista\n",
    "del lista[1:]\n",
    "lista"
   ]
  },
  {
   "cell_type": "markdown",
   "id": "954af88e",
   "metadata": {},
   "source": [
    "## Tuplas"
   ]
  },
  {
   "cell_type": "code",
   "execution_count": 26,
   "id": "4f717fad",
   "metadata": {},
   "outputs": [
    {
     "data": {
      "text/plain": [
       "4"
      ]
     },
     "execution_count": 26,
     "metadata": {},
     "output_type": "execute_result"
    }
   ],
   "source": [
    "tupla = tuple()\n",
    "tupla = ()\n",
    "type(tupla)\n",
    "dir(tupla)\n",
    "# help(tuple)\n",
    "type(tupla)\n",
    "tupla = ('um')\n",
    "type(tupla)\n",
    "tupla = ('um',)\n",
    "type(tupla)\n",
    "tupla[0]\n",
    "# tupla[0] = 'novo'\n",
    "cores = ('verde', 'amarelo', 'azul', 'branco')\n",
    "cores[0]\n",
    "cores[-1]\n",
    "cores[1:]\n",
    "\n",
    "cores.index('amarelo')\n",
    "cores.count('Azul')\n",
    "len(cores)"
   ]
  },
  {
   "cell_type": "markdown",
   "id": "05999e43",
   "metadata": {},
   "source": [
    "## Dicionários"
   ]
  },
  {
   "cell_type": "code",
   "execution_count": 28,
   "id": "a45432cf",
   "metadata": {},
   "outputs": [
    {
     "data": {
      "text/plain": [
       "[]"
      ]
     },
     "execution_count": 28,
     "metadata": {},
     "output_type": "execute_result"
    }
   ],
   "source": [
    "pessoa = {'nome': 'Prof(a). Ana', 'idade': 38,\n",
    "          'cursos': ['Inglês', 'Português']}\n",
    "type(pessoa)\n",
    "dir(dict)\n",
    "len(pessoa)\n",
    "\n",
    "pessoa\n",
    "pessoa['nome']\n",
    "pessoa['idade']\n",
    "pessoa['cursos']\n",
    "pessoa['cursos'][1]\n",
    "# pessoa['tags']\n",
    "pessoa.keys()\n",
    "pessoa.values()\n",
    "pessoa.items()\n",
    "pessoa.get('idade')\n",
    "pessoa.get('tags')\n",
    "pessoa.get('tags', [])"
   ]
  },
  {
   "cell_type": "code",
   "execution_count": 29,
   "id": "c6a717bc",
   "metadata": {},
   "outputs": [
    {
     "data": {
      "text/plain": [
       "{}"
      ]
     },
     "execution_count": 29,
     "metadata": {},
     "output_type": "execute_result"
    }
   ],
   "source": [
    "pessoa = {'nome': 'Prof. Alberto', 'idade': 43, 'cursos': ['React', 'Python']}\n",
    "pessoa['idade'] = 44\n",
    "pessoa['cursos'].append('Angular')\n",
    "pessoa\n",
    "pessoa.pop('idade')\n",
    "pessoa\n",
    "pessoa.update({'idade': 40, 'Sexo': 'M'})\n",
    "pessoa\n",
    "del pessoa['cursos']\n",
    "pessoa\n",
    "pessoa.clear()\n",
    "pessoa"
   ]
  },
  {
   "cell_type": "markdown",
   "id": "c02820bd",
   "metadata": {},
   "source": [
    "## Conjuntos | Set()"
   ]
  },
  {
   "cell_type": "code",
   "execution_count": 30,
   "id": "1bababe5",
   "metadata": {},
   "outputs": [
    {
     "name": "stdout",
     "output_type": "stream",
     "text": [
      "{'c', 'r', 'o', '3', 'd'}\n",
      "True True\n"
     ]
    },
    {
     "data": {
      "text/plain": [
       "{1, 3}"
      ]
     },
     "execution_count": 30,
     "metadata": {},
     "output_type": "execute_result"
    }
   ],
   "source": [
    "a = {1, 2, 3}\n",
    "type(a)\n",
    "# a[0]\n",
    "a = set('coddddd3r')\n",
    "print(a)\n",
    "print('3' in a, 4 not in a)\n",
    "{1, 2, 3} == {3, 2, 1, 3}\n",
    "\n",
    "# operacoes\n",
    "c1 = {1, 2}\n",
    "c2 = {2, 3}\n",
    "c1.union(c2)\n",
    "c1.intersection(c2)\n",
    "c1.update(c2)\n",
    "c1\n",
    "c2 <= c1\n",
    "c1 >= c2\n",
    "\n",
    "{1, 2, 3} - {2}\n",
    "c1 - c2\n",
    "c1 -= {2}\n",
    "c1"
   ]
  },
  {
   "cell_type": "markdown",
   "id": "edf38dd5",
   "metadata": {},
   "source": [
    "## Interpolação"
   ]
  },
  {
   "cell_type": "code",
   "execution_count": 31,
   "id": "ccf79318",
   "metadata": {},
   "outputs": [
    {
     "name": "stdout",
     "output_type": "stream",
     "text": [
      "Nome: Ana Idade: 30\n",
      "Nome: Ana Idade: 30\n",
      "Nome: Ana Idade: 30\n",
      "Nome: Ana Idade: 30\n"
     ]
    }
   ],
   "source": [
    "from string import Template\n",
    "\n",
    "nome, idade = 'Ana', 30\n",
    "\n",
    "print('Nome: %s Idade: %d' % (nome, idade))  # mais antiga\n",
    "print('Nome: {0} Idade: {1}'.format(nome, idade))  # python < 3.6\n",
    "print(f'Nome: {nome} Idade: {idade}')  # python >= 3.6\n",
    "\n",
    "\n",
    "s = Template('Nome: $nome Idade: $idade')\n",
    "print(s.substitute(nome=nome, idade=idade))"
   ]
  },
  {
   "cell_type": "markdown",
   "id": "cec1a148",
   "metadata": {},
   "source": [
    "# Estruturas de Controle"
   ]
  },
  {
   "cell_type": "markdown",
   "id": "1c4babbe",
   "metadata": {},
   "source": [
    "## If Else"
   ]
  },
  {
   "cell_type": "markdown",
   "id": "827384e4",
   "metadata": {},
   "source": [
    "## For"
   ]
  },
  {
   "cell_type": "markdown",
   "id": "b40bb5ff",
   "metadata": {},
   "source": [
    "### For sem Else"
   ]
  },
  {
   "cell_type": "code",
   "execution_count": null,
   "id": "f87abf39",
   "metadata": {},
   "outputs": [],
   "source": []
  },
  {
   "cell_type": "markdown",
   "id": "fd29a341",
   "metadata": {},
   "source": [
    "## While"
   ]
  },
  {
   "cell_type": "markdown",
   "id": "736af830",
   "metadata": {},
   "source": [
    "## Switch"
   ]
  },
  {
   "cell_type": "code",
   "execution_count": 39,
   "id": "c19969ab",
   "metadata": {},
   "outputs": [
    {
     "name": "stdout",
     "output_type": "stream",
     "text": [
      "0: **Inválido**\n",
      "1: Domingo\n",
      "2: Segunda\n",
      "3: Terça\n",
      "4: Quarta\n",
      "5: Quinta\n",
      "6: Sexta\n",
      "7: Sábado\n",
      "8: **Inválido**\n"
     ]
    }
   ],
   "source": [
    "def get_dia_semana(dia):\n",
    "    dias = {\n",
    "        1: 'Domingo',\n",
    "        2: 'Segunda',\n",
    "        3: 'Terça',\n",
    "        4: 'Quarta',\n",
    "        5: 'Quinta',\n",
    "        6: 'Sexta',\n",
    "        7: 'Sábado'\n",
    "\n",
    "    }\n",
    "    return dias.get(dia, \"**Inválido**\")\n",
    "\n",
    "\n",
    "if __name__ == '__main__':\n",
    "    \n",
    "    for dia in range(0, 9):\n",
    "        print(f'{dia}: {get_dia_semana(dia)}')"
   ]
  },
  {
   "cell_type": "code",
   "execution_count": 40,
   "id": "bcaaca95",
   "metadata": {},
   "outputs": [
    {
     "name": "stdout",
     "output_type": "stream",
     "text": [
      "0: ** inválido **\n",
      "1: Fim de semana\n",
      "2: Dia de semana\n",
      "3: Dia de semana\n",
      "4: Dia de semana\n",
      "5: Dia de semana\n",
      "6: Dia de semana\n",
      "7: Fim de semana\n"
     ]
    }
   ],
   "source": [
    "def get_tipo_dia(dia):\n",
    "    dias = {\n",
    "        1: 'Fim de semana',\n",
    "        2: 'Dia de semana',\n",
    "        3: 'Dia de semana',\n",
    "        4: 'Dia de semana',\n",
    "        5: 'Dia de semana',\n",
    "        6: 'Dia de semana',\n",
    "        7: 'Fim de semana',\n",
    "    }\n",
    "    return dias.get(dia, '** inválido **')\n",
    "\n",
    "\n",
    "if __name__ == '__main__':\n",
    "    for dia in range(8):\n",
    "        print(f'{dia}: {get_tipo_dia(dia)}')"
   ]
  },
  {
   "cell_type": "markdown",
   "id": "604e6916",
   "metadata": {},
   "source": [
    "### Match case | Python 3.10"
   ]
  },
  {
   "cell_type": "code",
   "execution_count": null,
   "id": "f447b306",
   "metadata": {},
   "outputs": [],
   "source": [
    "# Sintaxe\n",
    "\n",
    "case padrao_1:\n",
    "    <codigo_caso_padrao_1>\n",
    "    case padrao_2:\n",
    "    <codigo_caso_padrao_2>\n",
    "    case padrao_3:\n",
    "    <codigo_caso_padrao_3>\n",
    "case _:\n",
    "    <codigo_caso_nenhum_padrao_definido>"
   ]
  },
  {
   "cell_type": "code",
   "execution_count": 45,
   "id": "bd5c4eb7",
   "metadata": {},
   "outputs": [
    {
     "name": "stdout",
     "output_type": "stream",
     "text": [
      "0: ** inválido **\n",
      "1: Domingo\n",
      "2: Segunda\n",
      "3: Terça\n",
      "4: Quarta\n",
      "5: Quinta\n",
      "6: Sexta\n",
      "7: Sabado\n",
      "8: ** inválido **\n"
     ]
    }
   ],
   "source": [
    "def get_dia_semana(dia):\n",
    "    match dia:\n",
    "        case 1:\n",
    "            return 'Domingo'\n",
    "        case 2:\n",
    "            return 'Segunda'\n",
    "        case 3:\n",
    "            return 'Terça'\n",
    "        case 4:\n",
    "            return 'Quarta'\n",
    "        case 5:\n",
    "            return 'Quinta'\n",
    "        case 6:\n",
    "            return 'Sexta'\n",
    "        case 7:\n",
    "            return 'Sabado'\n",
    "        case _:\n",
    "            return '** inválido **'\n",
    "            \n",
    "    \n",
    " \n",
    "if __name__ == '__main__':\n",
    "    for dia in range(0, 9):\n",
    "        print(f'{dia}: {get_dia_semana(dia)}')"
   ]
  },
  {
   "cell_type": "code",
   "execution_count": 46,
   "id": "2071fc45",
   "metadata": {},
   "outputs": [
    {
     "name": "stdout",
     "output_type": "stream",
     "text": [
      "0: ** inválido **\n",
      "1: Fim de semana\n",
      "2: Dia de semana\n",
      "3: Dia de semana\n",
      "4: Dia de semana\n",
      "5: Dia de semana\n",
      "6: Dia de semana\n",
      "7: Fim de semana\n",
      "8: ** inválido **\n"
     ]
    }
   ],
   "source": [
    "def get_tipo_dia(dia):\n",
    "    match dia:\n",
    "        case 2 | 3 | 4 | 5 | 6 :\n",
    "            return 'Dia de semana'\n",
    "        case 1 | 7:\n",
    "            return 'Fim de semana'\n",
    "        case _:\n",
    "            return '** inválido **'\n",
    "            \n",
    " \n",
    " \n",
    "if __name__ == '__main__':\n",
    "    for dia in range(0, 9):\n",
    "        print(f'{dia}: {get_tipo_dia(dia)}')"
   ]
  },
  {
   "cell_type": "markdown",
   "id": "0aff7020",
   "metadata": {},
   "source": [
    "# Manipulação de Arquivos"
   ]
  },
  {
   "cell_type": "markdown",
   "id": "30b9fa1a",
   "metadata": {},
   "source": [
    "## Criando .csv"
   ]
  },
  {
   "cell_type": "code",
   "execution_count": 44,
   "id": "c91e4545",
   "metadata": {},
   "outputs": [
    {
     "name": "stdout",
     "output_type": "stream",
     "text": [
      "Pato vestido de Banana\n",
      "Banana vestido de Pato\n",
      "\n",
      "Cachoeira é tão bom quanto Praia\n",
      "Praia é tão bom quanto Cachoeira\n"
     ]
    }
   ],
   "source": [
    "# Extraindo dados de uma tupla:\n",
    "\n",
    "# Forma 1\n",
    "print('{} vestido de {}'.format(*(\"Pato\", \"Banana\")))\n",
    "print('{1} vestido de {0}\\n'.format(*(\"Pato\", \"Banana\")))\n",
    "\n",
    "# Forma 2\n",
    "valores = (\"Cachoeira\", \"Praia\")\n",
    "print('{} é tão bom quanto {}'.format(*valores))\n",
    "print('{1} é tão bom quanto {0}'.format(*valores))\n"
   ]
  },
  {
   "cell_type": "markdown",
   "id": "8a669598",
   "metadata": {},
   "source": [
    "## Desafios | Udemy"
   ]
  },
  {
   "cell_type": "code",
   "execution_count": null,
   "id": "e7169c4d",
   "metadata": {},
   "outputs": [],
   "source": [
    "# Desafio 1: Qual é o percentual do salario que é comprometido com as despesas mensais?\n",
    "\n",
    "salario = 4930\n",
    "despesas = 2803\n",
    "\n",
    "percentual = despesas / salario * 100\n",
    "\n",
    "print('Percentual = {0:.2f}%'.format(percentual))\n"
   ]
  },
  {
   "cell_type": "code",
   "execution_count": null,
   "id": "8366def7",
   "metadata": {},
   "outputs": [],
   "source": [
    "# Desafio 2: Uma pessoa realiza seu trabalho na terça e na quinta. Estes podem dar ou não certo. A pessoa, seu Juracir, prometeu à familia que:\n",
    "# Caso 1: ambos os trabalhos deem certo, ele vai ao shopping com a familia comprar uma TV de 50' + sorvete\n",
    "# Caso 2: apenas um dos trabalhos dê certo, ele vai comprar a TV de 32' + sorvete\n",
    "# Caso 3: quando nenhum dos dois trabalhos dão certo e o seu Juracir fica com saúde.\n",
    "\n",
    "# Liste e imprima as possibilidades do cenário de Juracir\n",
    "trabalho_terca = True\n",
    "trabalho_quinta = False\n",
    "\n",
    "\n",
    "tv50 = trabalho_terca and trabalho_quinta\n",
    "tv32 = trabalho_terca != trabalho_quinta\n",
    "sorvete = trabalho_terca or trabalho_quinta\n",
    "saude = not sorvete\n",
    "\n",
    "print('Tv50: {}\\nTv32: {}\\nSorvete: {}\\nSaúde: {}'.format(tv50, tv32, sorvete, saude))\n"
   ]
  },
  {
   "cell_type": "code",
   "execution_count": null,
   "id": "683520e5",
   "metadata": {},
   "outputs": [],
   "source": [
    "# Desafio 3: If / Else\n",
    "\n",
    "if "
   ]
  },
  {
   "cell_type": "code",
   "execution_count": 38,
   "id": "5b5e0835",
   "metadata": {},
   "outputs": [
    {
     "name": "stdout",
     "output_type": "stream",
     "text": [
      "Não acertou o número\n"
     ]
    }
   ],
   "source": [
    "# Desafio 4: For\n",
    "from random import randint\n",
    "\n",
    "def sortear_dado():\n",
    "    return randint(1,6)\n",
    "\n",
    "valor_sorteado = sortear_dado()\n",
    "\n",
    "for i in range(1,7):\n",
    "        \n",
    "    if i % 2 != 0:\n",
    "        continue\n",
    "    \n",
    "    if i == valor_sorteado:\n",
    "        print('Acertou!', i)\n",
    "        break\n",
    "\n",
    "else:\n",
    "    print('Não acertou o número')\n"
   ]
  },
  {
   "cell_type": "code",
   "execution_count": null,
   "id": "34d8d5c4",
   "metadata": {},
   "outputs": [],
   "source": [
    "# Desafio SET: Palavras proibidas\n",
    "\n",
    "PALAVRAS_PROIBIDAS = {'política', 'religião', 'futebol' }"
   ]
  }
 ],
 "metadata": {
  "kernelspec": {
   "display_name": "Python 3 (ipykernel)",
   "language": "python",
   "name": "python3"
  },
  "language_info": {
   "codemirror_mode": {
    "name": "ipython",
    "version": 3
   },
   "file_extension": ".py",
   "mimetype": "text/x-python",
   "name": "python",
   "nbconvert_exporter": "python",
   "pygments_lexer": "ipython3",
   "version": "3.11.4"
  }
 },
 "nbformat": 4,
 "nbformat_minor": 5
}
