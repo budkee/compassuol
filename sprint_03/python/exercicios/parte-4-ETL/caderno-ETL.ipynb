{
 "cells": [
  {
   "cell_type": "markdown",
   "id": "26d80e1b",
   "metadata": {},
   "source": []
  },
  {
   "cell_type": "markdown",
   "id": "890bd840",
   "metadata": {},
   "source": [
    "### 1. Apresente o ator/atriz com maior número de filmes e a respectiva quantidade."
   ]
  },
  {
   "cell_type": "code",
   "execution_count": null,
   "id": "93b4fc68",
   "metadata": {},
   "outputs": [],
   "source": [
    "# Robert DeNiro: 79 filmes\n",
    "\n",
    "# Criando o dicionário de Atores\n",
    "atores = {\n",
    "    \"nome\": \"Robert DeNiro\"\n",
    "Samuel L. Jackson\n",
    "Liam Neeson\n",
    "Morgan Freeman\n",
    "Bruce Willis\n",
    "Michael Caine\n",
    "Robert Downey, Jr.\n",
    "Stanley Tucci\n",
    "Woody Harrelson\n",
    "Robin Williams\n",
    "Tommy Lee Jones\n",
    "Johnny Depp\n",
    "Tom Hanks\n",
    "Stellan Skarsgard\n",
    "Dustin Hoffman\n",
    "Julia Roberts\n",
    "Harrison Ford\n",
    "Brad Pitt\n",
    "Philip Seymour Hoffman\n",
    "Matt Damon\n",
    "Cate Blanchett\n",
    "Owen Wilson\n",
    "Eddie Murphy\n",
    "Gary Oldman\n",
    "Scarlett Johansson\n",
    "Ben Stiller\n",
    "Tom Cruise\n",
    "Helena Bonham Carter\n",
    "Ralph Fiennes\n",
    "Mark Wahlberg\n",
    "Elizabeth Banks\n",
    "Sandra Bullock\n",
    "Cameron Diaz\n",
    "Don Cheadle\n",
    "Adam Sandler\n",
    "Ian McKellen\n",
    "Jonah Hill\n",
    "Jim Carrey\n",
    "Idris Elba\n",
    "Bradley Cooper\n",
    "Leonardo DiCaprio\n",
    "Anne Hathaway\n",
    "Will Smith\n",
    "Andy Serkis\n",
    "Chris Evans\n",
    "Jeremy Renner\n",
    "Orlando Bloom\n",
    "Emma Watson\n",
    "Daniel Radcliffe\n",
    "Anthony Daniels\n",
    "\n",
    "}"
   ]
  },
  {
   "cell_type": "markdown",
   "id": "91d180da",
   "metadata": {},
   "source": [
    "### 2. Apresente a  média de faturamento bruto por ator."
   ]
  },
  {
   "cell_type": "code",
   "execution_count": null,
   "id": "f3168898",
   "metadata": {},
   "outputs": [],
   "source": []
  },
  {
   "cell_type": "markdown",
   "id": "47c2dc39",
   "metadata": {},
   "source": [
    "### 3. Apresente o ator/atriz com a maior média de faturamento por filme."
   ]
  },
  {
   "cell_type": "code",
   "execution_count": null,
   "id": "544b81ed",
   "metadata": {},
   "outputs": [],
   "source": []
  },
  {
   "cell_type": "markdown",
   "id": "8747d1ca",
   "metadata": {},
   "source": [
    "### 4. O nome do(s) filme(s) mais frequente(s) e sua respectiva frequência."
   ]
  },
  {
   "cell_type": "code",
   "execution_count": null,
   "id": "5a781469",
   "metadata": {},
   "outputs": [],
   "source": []
  },
  {
   "cell_type": "markdown",
   "id": "463384f3",
   "metadata": {},
   "source": [
    "### 5. A lista dos atores ordenada pelo faturamento bruto total, em ordem decrescente."
   ]
  },
  {
   "cell_type": "code",
   "execution_count": null,
   "id": "3ed20fff",
   "metadata": {},
   "outputs": [],
   "source": []
  }
 ],
 "metadata": {
  "kernelspec": {
   "display_name": "Python 3 (ipykernel)",
   "language": "python",
   "name": "python3"
  },
  "language_info": {
   "codemirror_mode": {
    "name": "ipython",
    "version": 3
   },
   "file_extension": ".py",
   "mimetype": "text/x-python",
   "name": "python",
   "nbconvert_exporter": "python",
   "pygments_lexer": "ipython3",
   "version": "3.11.4"
  }
 },
 "nbformat": 4,
 "nbformat_minor": 5
}
