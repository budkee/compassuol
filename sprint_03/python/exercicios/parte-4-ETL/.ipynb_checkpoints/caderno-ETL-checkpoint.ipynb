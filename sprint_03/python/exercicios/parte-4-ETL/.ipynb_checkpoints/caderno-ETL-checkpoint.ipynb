{
 "cells": [
  {
   "cell_type": "markdown",
   "id": "26d80e1b",
   "metadata": {},
   "source": [
    "## Extração, Transformação e Carregamento | ETL\n",
    "\n",
    "### Atividade\n",
    "\n",
    "Armazene o arquivo actors.csv (disponível para download ao final da página) em um diretório local de seu computador. Após, crie 5 novos arquivos com extensão .txt, todos vazios. Você pode nomeá-los de etapa-1.txt, etapa-2.txt,..., etapa-5.txt.\n",
    "\n",
    "A sequência de perguntas irá orientar o processamento a ser feito sobre o conteúdo do arquivo actors.csv. As respostas obtidas em cada etapa devem ser armazenadas no respectivo arquivo de texto.\n",
    "\n",
    "Nosso modelo de processamento será semelhante ao diagramação abaixo. Nele há uma entrada (extração), representando o arquivo actors.csv. A camada de transformação será realizada pelo seu script Python, assim como o carregamento, que corresponde aos arquivos etapa-*.txt.\n",
    "\n",
    "### Processo\n",
    "\n",
    "![processo-etl](/sprint_03/python/img/processo-ETL.png)\n",
    "\n",
    "### Importante:\n",
    "\n",
    "- Para desenvolvimento deste exercício, não utilize bibliotecas como Pandas, Polars, NumPy e/ou outras bibliotecas e engines que abstraem o processamento de dados.\n",
    "- Todas as transformações que julgarem necessárias devem ser feitas por meio dos scripts Python. Nenhuma modificação deve ser feita no arquivo actors.csv.\n",
    "- Para leitura do arquivo actors.csv, não utilize o módulo csv nativo do Python.\n",
    "\n",
    "### Perguntas dessa tarefa\n",
    "\n",
    "1. Apresente o ator/atriz com maior número de filmes e a respectiva quantidade.\n",
    "2. Apresente a  média de faturamento bruto por ator.\n",
    "3. Apresente o ator/atriz com a maior média de faturamento por filme.\n",
    "4. O nome do(s) filme(s) mais frequente(s) e sua respectiva frequência.\n",
    "5. A lista dos atores ordenada pelo faturamento bruto total, em ordem decrescente."
   ]
  },
  {
   "cell_type": "markdown",
   "id": "890bd840",
   "metadata": {},
   "source": [
    "### 1. Apresente o ator/atriz com maior número de filmes e a respectiva quantidade."
   ]
  },
  {
   "cell_type": "code",
   "execution_count": null,
   "id": "93b4fc68",
   "metadata": {},
   "outputs": [],
   "source": []
  },
  {
   "cell_type": "markdown",
   "id": "91d180da",
   "metadata": {},
   "source": [
    "### 2. Apresente a  média de faturamento bruto por ator."
   ]
  },
  {
   "cell_type": "code",
   "execution_count": null,
   "id": "f3168898",
   "metadata": {},
   "outputs": [],
   "source": []
  },
  {
   "cell_type": "markdown",
   "id": "47c2dc39",
   "metadata": {},
   "source": [
    "### 3. Apresente o ator/atriz com a maior média de faturamento por filme."
   ]
  },
  {
   "cell_type": "code",
   "execution_count": null,
   "id": "544b81ed",
   "metadata": {},
   "outputs": [],
   "source": []
  },
  {
   "cell_type": "markdown",
   "id": "8747d1ca",
   "metadata": {},
   "source": [
    "### 4. O nome do(s) filme(s) mais frequente(s) e sua respectiva frequência."
   ]
  },
  {
   "cell_type": "code",
   "execution_count": null,
   "id": "5a781469",
   "metadata": {},
   "outputs": [],
   "source": []
  },
  {
   "cell_type": "markdown",
   "id": "463384f3",
   "metadata": {},
   "source": [
    "### 5. A lista dos atores ordenada pelo faturamento bruto total, em ordem decrescente."
   ]
  },
  {
   "cell_type": "code",
   "execution_count": null,
   "id": "3ed20fff",
   "metadata": {},
   "outputs": [],
   "source": []
  }
 ],
 "metadata": {
  "kernelspec": {
   "display_name": "Python 3 (ipykernel)",
   "language": "python",
   "name": "python3"
  },
  "language_info": {
   "codemirror_mode": {
    "name": "ipython",
    "version": 3
   },
   "file_extension": ".py",
   "mimetype": "text/x-python",
   "name": "python",
   "nbconvert_exporter": "python",
   "pygments_lexer": "ipython3",
   "version": "3.11.4"
  }
 },
 "nbformat": 4,
 "nbformat_minor": 5
}
