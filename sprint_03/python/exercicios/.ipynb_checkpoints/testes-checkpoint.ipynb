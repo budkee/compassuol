{
 "cells": [
  {
   "cell_type": "markdown",
   "id": "d03a6c9e",
   "metadata": {},
   "source": [
    "## Caderno de Testes\n",
    "### Acesso Rápido\n",
    "\n",
    "\n",
    "- [Roadmap Python Developer](https://roadmap.sh/python)\n",
    "- [Exercícios | Kaggle](https://www.kaggle.com/learn/python) \n",
    "- [Métodos Mágicos](https://python-course.eu/oop/magic-methods.php)\n",
    "- [Tabela Verdade | Operadores Lógicos](https://www.notion.so/siriusb/Aula-1-L-gica-Proposicional-0b5a677aed5b4c7f82749ea5229caa03?pvs=4)\n",
    "- [Estrutura de Dados | Docs Python](https://docs.python.org/pt-br/3/tutorial/datastructures.html)\n",
    "- [Classes | Docs Python](https://docs.python.org/pt-br/3/tutorial/classes.html)"
   ]
  },
  {
   "cell_type": "markdown",
   "id": "8c19fc56",
   "metadata": {},
   "source": [
    "### Ex. 16 - Soma string"
   ]
  },
  {
   "cell_type": "code",
   "execution_count": 12,
   "id": "83b059a2",
   "metadata": {},
   "outputs": [
    {
     "name": "stdout",
     "output_type": "stream",
     "text": [
      "100\n"
     ]
    }
   ],
   "source": [
    "lista = \"1,3,4,6,10,76\"\n",
    "separador = lista.split(',')\n",
    "numeros_str = separador\n",
    "numeros_tratados = []\n",
    "for i in range(len(numeros_str)):\n",
    "    numeros_int = int(numeros_str[i])\n",
    "    numeros_tratados.append(numeros_int)\n",
    "\n",
    "\n",
    "##type(numeros_tratados[0])\n",
    "##print(numeros_tratados)\n",
    "\n",
    "\n",
    "soma = sum(numeros_tratados)\n",
    "print(soma)\n"
   ]
  },
  {
   "cell_type": "markdown",
   "id": "798f7e46",
   "metadata": {},
   "source": [
    "### Ex. 18 - Dicionários e Remoção de Duplicação"
   ]
  },
  {
   "cell_type": "code",
   "execution_count": 5,
   "id": "9a88e845",
   "metadata": {},
   "outputs": [
    {
     "name": "stdout",
     "output_type": "stream",
     "text": [
      "[1, 4, 5, 7]\n"
     ]
    }
   ],
   "source": [
    "def remover_repeticoes(lista):\n",
    "    elementos_unicos = []\n",
    "    elementos_repetidos = []\n",
    "\n",
    "    for elemento in lista:\n",
    "        if elemento not in elementos_unicos:\n",
    "            elementos_unicos.append(elemento)\n",
    "        else:\n",
    "            elementos_repetidos.append(elemento)\n",
    "\n",
    "    for repetido in elementos_repetidos:\n",
    "        while repetido in lista:\n",
    "            lista.remove(repetido)\n",
    "\n",
    "# Exemplo de uso\n",
    "minha_lista = [1, 2, 3, 2, 4, 5, 3, 6, 6, 7]\n",
    "remover_repeticoes(minha_lista)\n",
    "print(minha_lista)  # A lista agora contém [1, 2, 3, 4, 5, 6, 7]\n"
   ]
  },
  {
   "cell_type": "code",
   "execution_count": 6,
   "id": "0b3fff69",
   "metadata": {},
   "outputs": [
    {
     "name": "stdout",
     "output_type": "stream",
     "text": [
      "Lista original: [10, 20, 30, 20, 40, 10, 50]\n",
      "Lista sem repetições: [10, 20, 30, 40, 50]\n"
     ]
    }
   ],
   "source": [
    "def remover_repeticoes(lista):\n",
    "    nova_lista = []\n",
    "    for elemento in lista:\n",
    "        if elemento not in nova_lista:\n",
    "            nova_lista.append(elemento)\n",
    "    return nova_lista\n",
    "\n",
    "# Exemplo de uso\n",
    "lista_original = [10, 20, 30, 20, 40, 10, 50]\n",
    "lista_sem_repeticoes = remover_repeticoes(lista_original)\n",
    "\n",
    "print(\"Lista original:\", lista_original)\n",
    "print(\"Lista sem repetições:\", lista_sem_repeticoes)\n"
   ]
  },
  {
   "cell_type": "code",
   "execution_count": null,
   "id": "87ad5aa9",
   "metadata": {},
   "outputs": [],
   "source": []
  }
 ],
 "metadata": {
  "kernelspec": {
   "display_name": "Python 3 (ipykernel)",
   "language": "python",
   "name": "python3"
  },
  "language_info": {
   "codemirror_mode": {
    "name": "ipython",
    "version": 3
   },
   "file_extension": ".py",
   "mimetype": "text/x-python",
   "name": "python",
   "nbconvert_exporter": "python",
   "pygments_lexer": "ipython3",
   "version": "3.11.4"
  }
 },
 "nbformat": 4,
 "nbformat_minor": 5
}
