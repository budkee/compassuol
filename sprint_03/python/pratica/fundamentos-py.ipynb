{
 "cells": [
  {
   "cell_type": "markdown",
   "id": "df04c849",
   "metadata": {},
   "source": [
    "# Fundamentos | Python v3.8+\n",
    "\n",
    "\n",
    "## Sumário\n",
    "- [Builtins](#builtins)\n",
    "- [Operadores](#operadores)\n",
    "- [Conversão de Tipos](#conversão-de-tipos)\n",
    "- [Números](#tipos-numéricos)\n",
    "- [Strings](#strings)\n",
    "- [Listas](#listas)\n",
    "- [Tuplas](#tuplas)\n",
    "- [Dicionários](#dicionários)\n",
    "- [Set](#conjuntos--set)\n",
    "- [Interpolação](#interpolação--print)\n",
    "- [Estruturas de Controle](#estruturas-de-controle)\n",
    "- [Manipulação de arquivos](#manipulação-de-arquivos)\n",
    "\n",
    "### Acesso Rápido\n",
    "\n",
    "> PDFs e Apostilas para consulta\n",
    "> - [PDF | Básico ao Avançado | Cod3r](./curso-python-versao-1.1.pdf)\n",
    "> - [PDF | Conceitos Básicos | Modulo I](../python-modulo-1.pdf)\n",
    "> - [PDF | Conceitos Básicos | Modulo II](../python-modulo-2.pdf)\n",
    "\n",
    "> Documentação e exercícios\n",
    "> - [W3Schools | Docs](https://www.w3schools.com/python/default.asp)\n",
    "> - [W3Schools | Palavras reservadas](https://www.w3schools.com/python/python_ref_keywords.asp)\n",
    "> - [W3Schools | Exceções](https://www.w3schools.com/python/python_ref_exceptions.asp)\n",
    "> - [W3Schools | Glossário](https://www.w3schools.com/python/python_ref_glossary.asp)\n",
    "> - [Kaggle | Exercícios](https://www.kaggle.com/learn/python) \n",
    "\n",
    "> Mapeamento de estudos\n",
    "> - [Roadmap Python Developer](https://roadmap.sh/python)"
   ]
  },
  {
   "cell_type": "markdown",
   "id": "d9a813e3",
   "metadata": {},
   "source": [
    "### Coerção Automática\n",
    "\n",
    "- São coerções, mudanças implícitas feitas pelo Python, coisas que linguagens de baixo nível geralmente não realizam."
   ]
  },
  {
   "cell_type": "code",
   "execution_count": 21,
   "id": "a1e9ec02",
   "metadata": {},
   "outputs": [
    {
     "data": {
      "text/plain": [
       "float"
      ]
     },
     "execution_count": 21,
     "metadata": {},
     "output_type": "execute_result"
    }
   ],
   "source": [
    "10 / 2\n",
    "type(10 / 2)\n",
    "10 / 3\n",
    "10 // 3\n",
    "type(10 // 3)\n",
    "10 // 3.3\n",
    "type(10 // 3.3)\n",
    "10 / 2.5\n",
    "2 + True\n",
    "2 + False\n",
    "type(1 + 2)\n",
    "type(1 + 2.5)"
   ]
  },
  {
   "cell_type": "markdown",
   "id": "fd4414a7",
   "metadata": {},
   "source": [
    "# Builtins\n",
    "\n",
    "- [W3Schools | Builtins](https://www.w3schools.com/python/python_ref_functions.asp)\n",
    "- [Métodos Mágicos | Dunder Methods](https://python-course.eu/oop/magic-methods.php)"
   ]
  },
  {
   "cell_type": "code",
   "execution_count": 41,
   "id": "4ddc62c8",
   "metadata": {},
   "outputs": [
    {
     "name": "stdout",
     "output_type": "stream",
     "text": [
      "3.3333333333333335\n"
     ]
    },
    {
     "data": {
      "text/plain": [
       "['Decimal',\n",
       " 'In',\n",
       " 'Out',\n",
       " 'Template',\n",
       " '_',\n",
       " '_14',\n",
       " '_15',\n",
       " '_17',\n",
       " '_18',\n",
       " '_19',\n",
       " '_20',\n",
       " '_21',\n",
       " '_22',\n",
       " '_24',\n",
       " '_25',\n",
       " '_26',\n",
       " '_27',\n",
       " '_29',\n",
       " '_30',\n",
       " '_31',\n",
       " '_32',\n",
       " '_33',\n",
       " '_34',\n",
       " '_35',\n",
       " '__',\n",
       " '___',\n",
       " '__builtin__',\n",
       " '__builtins__',\n",
       " '__doc__',\n",
       " '__loader__',\n",
       " '__name__',\n",
       " '__package__',\n",
       " '__spec__',\n",
       " '__vsc_ipynb_file__',\n",
       " '_dh',\n",
       " '_i',\n",
       " '_i1',\n",
       " '_i10',\n",
       " '_i11',\n",
       " '_i12',\n",
       " '_i13',\n",
       " '_i14',\n",
       " '_i15',\n",
       " '_i16',\n",
       " '_i17',\n",
       " '_i18',\n",
       " '_i19',\n",
       " '_i2',\n",
       " '_i20',\n",
       " '_i21',\n",
       " '_i22',\n",
       " '_i23',\n",
       " '_i24',\n",
       " '_i25',\n",
       " '_i26',\n",
       " '_i27',\n",
       " '_i28',\n",
       " '_i29',\n",
       " '_i3',\n",
       " '_i30',\n",
       " '_i31',\n",
       " '_i32',\n",
       " '_i33',\n",
       " '_i34',\n",
       " '_i35',\n",
       " '_i36',\n",
       " '_i37',\n",
       " '_i38',\n",
       " '_i39',\n",
       " '_i4',\n",
       " '_i40',\n",
       " '_i41',\n",
       " '_i5',\n",
       " '_i6',\n",
       " '_i7',\n",
       " '_i8',\n",
       " '_i9',\n",
       " '_ih',\n",
       " '_ii',\n",
       " '_iii',\n",
       " '_oh',\n",
       " 'a',\n",
       " 'b',\n",
       " 'c1',\n",
       " 'c2',\n",
       " 'cores',\n",
       " 'decimal',\n",
       " 'despesas',\n",
       " 'despesas_controladas',\n",
       " 'dia',\n",
       " 'doc',\n",
       " 'doc2',\n",
       " 'esta_chovendo',\n",
       " 'exit',\n",
       " 'frase',\n",
       " 'get_dia_semana',\n",
       " 'get_ipython',\n",
       " 'get_tipo_dia',\n",
       " 'getcontext',\n",
       " 'idade',\n",
       " 'lista',\n",
       " 'lista_a',\n",
       " 'lista_b',\n",
       " 'lista_c',\n",
       " 'lista_de_nomes',\n",
       " 'meta',\n",
       " 'nome',\n",
       " 'nova_lista',\n",
       " 'numeros',\n",
       " 'open',\n",
       " 'pessoa',\n",
       " 'quit',\n",
       " 'registro',\n",
       " 's',\n",
       " 'salario',\n",
       " 'saldo',\n",
       " 'saldo_positivo',\n",
       " 'texto',\n",
       " 'tupla',\n",
       " 'valores',\n",
       " 'x',\n",
       " 'y',\n",
       " 'z']"
      ]
     },
     "execution_count": 41,
     "metadata": {},
     "output_type": "execute_result"
    }
   ],
   "source": [
    "# type()\n",
    "type(1)\n",
    "__builtins__.type('Se eu fosse um peixinho...')\n",
    "__builtins__.print(10 / 3)\n",
    "\n",
    "# __builtins__.help(__builtins__.dir)\n",
    "\n",
    "# a = 7\n",
    "# import math\n",
    "# dir()\n",
    "# dir(__builtins__)\n",
    "\n",
    "\n",
    "nome = 'Flor'\n",
    "type(nome)\n",
    "# __builtin__.len(nome)\n",
    "\n",
    "dir()"
   ]
  },
  {
   "cell_type": "markdown",
   "id": "52b21775",
   "metadata": {},
   "source": [
    "# Operadores\n",
    "\n",
    "- [W3School | Operadores](https://www.w3schools.com/python/python_operators.asp)\n"
   ]
  },
  {
   "cell_type": "markdown",
   "id": "9dfef39b",
   "metadata": {},
   "source": [
    "### Operadores Aritméticos"
   ]
  },
  {
   "cell_type": "code",
   "execution_count": 11,
   "id": "ddcd304c",
   "metadata": {},
   "outputs": [
    {
     "name": "stdout",
     "output_type": "stream",
     "text": [
      "5\n",
      "-3\n",
      "0.25\n",
      "0\n",
      "4\n",
      "2\n"
     ]
    }
   ],
   "source": [
    "print(1 + 4)\n",
    "print(1 - 4)\n",
    "print(1 / 4)\n",
    "print(1 // 4)\n",
    "print(1 * 4)\n",
    "print(10 % 4)"
   ]
  },
  {
   "cell_type": "markdown",
   "id": "bcb2899c",
   "metadata": {},
   "source": [
    "### Operadores de Atribuição"
   ]
  },
  {
   "cell_type": "code",
   "execution_count": 12,
   "id": "f32b9a0c",
   "metadata": {},
   "outputs": [
    {
     "name": "stdout",
     "output_type": "stream",
     "text": [
      "7\n",
      "8\n",
      "6\n",
      "2.0\n",
      "0.0\n"
     ]
    }
   ],
   "source": [
    "a = 7\n",
    "print(a)\n",
    "a += 1\n",
    "print(a)\n",
    "a -= 2\n",
    "print(a)\n",
    "a /= 3\n",
    "print(a)\n",
    "a //= 3\n",
    "print(a)"
   ]
  },
  {
   "cell_type": "markdown",
   "id": "a6932136",
   "metadata": {},
   "source": [
    "### Operadores Relacionais"
   ]
  },
  {
   "cell_type": "code",
   "execution_count": 13,
   "id": "a0e3fc00",
   "metadata": {},
   "outputs": [
    {
     "name": "stdout",
     "output_type": "stream",
     "text": [
      "False\n",
      "True\n",
      "False\n",
      "True\n",
      "True\n",
      "False\n",
      "False\n"
     ]
    }
   ],
   "source": [
    "print(7 > 8)\n",
    "print(7 < 8)\n",
    "print(7 >= 8)\n",
    "print(7 <= 8)\n",
    "print(7 != 8)\n",
    "print(7 == 8)\n",
    "print(7 == '8')"
   ]
  },
  {
   "cell_type": "markdown",
   "id": "8f480910",
   "metadata": {},
   "source": [
    "### Operadores Lógicos\n",
    "\n",
    "- [W3Schools | Operadores Lógicos]()\n",
    "- [Tabela Verdade | Notion](https://www.notion.so/siriusb/Aula-1-L-gica-Proposicional-0b5a677aed5b4c7f82749ea5229caa03?pvs=4)"
   ]
  },
  {
   "cell_type": "code",
   "execution_count": 14,
   "id": "b4efd093",
   "metadata": {},
   "outputs": [
    {
     "data": {
      "text/plain": [
       "False"
      ]
     },
     "execution_count": 14,
     "metadata": {},
     "output_type": "execute_result"
    }
   ],
   "source": [
    "True or False\n",
    "7 != 3 and 2 > 3\n",
    "\n",
    "# Tabela verdade do AND\n",
    "True and True\n",
    "True and False\n",
    "False and True\n",
    "False and False\n",
    "True and True and False and True and True and True\n",
    "\n",
    "# Tabela verdade do OR\n",
    "True or True\n",
    "True or False\n",
    "False or True\n",
    "False or False\n",
    "False or False or True or False or False or False\n",
    "\n",
    "# Tabela verdade do XOR\n",
    "# True != True\n",
    "# True != False\n",
    "# False != True\n",
    "# False != False\n",
    "\n",
    "# Operador de Negação (unário)\n",
    "not True\n",
    "not False\n",
    "\n",
    "not 0\n",
    "not 1\n",
    "not not -1\n",
    "not not True\n",
    "\n",
    "# Cuidado!\n",
    "True & False\n",
    "False | True\n",
    "True ^ False\n",
    "\n",
    "# AND Bit-a-bit\n",
    "# 3 = 11\n",
    "# 2 = 10\n",
    "# _ = 10\n",
    "3 & 2\n",
    "\n",
    "# OR Bit-a-bit\n",
    "# 3 = 11\n",
    "# 2 = 10\n",
    "# _ = 11\n",
    "3 | 2\n",
    "\n",
    "# XOR Bit-a-bit\n",
    "# 3 = 11\n",
    "# 2 = 10\n",
    "# _ = 01\n",
    "3 ^ 2\n",
    "\n",
    "# Um pouco de realidade\n",
    "saldo = 1000\n",
    "salario = 4000\n",
    "despesas = 3900\n",
    "\n",
    "saldo_positivo = saldo > 0\n",
    "despesas_controladas = salario - despesas >= 0.2 * salario\n",
    "\n",
    "meta = saldo_positivo and despesas_controladas\n",
    "meta\n",
    "\n"
   ]
  },
  {
   "cell_type": "markdown",
   "id": "3f030d13",
   "metadata": {},
   "source": [
    "### Operadores Unários"
   ]
  },
  {
   "cell_type": "code",
   "execution_count": 15,
   "id": "62b7f056",
   "metadata": {},
   "outputs": [
    {
     "data": {
      "text/plain": [
       "True"
      ]
     },
     "execution_count": 15,
     "metadata": {},
     "output_type": "execute_result"
    }
   ],
   "source": [
    "a = 3\n",
    "# a++\n",
    "# a += 1\n",
    "# a\n",
    "# a--\n",
    "# ++a\n",
    "# ++a\n",
    "-a\n",
    "+a\n",
    "\n",
    "not 0\n",
    "not 1\n",
    "not -2\n",
    "not False\n",
    "not not True"
   ]
  },
  {
   "cell_type": "markdown",
   "id": "d2c888f4",
   "metadata": {},
   "source": [
    "### Operadores Ternários\n",
    "\n",
    "- [Medium | Operadores Ternários](https://medium.com/@nadiaaoliverr/operadores-tern%C3%A1rios-em-python-1dbb4880de7b)"
   ]
  },
  {
   "cell_type": "code",
   "execution_count": 16,
   "id": "1d8764dc",
   "metadata": {},
   "outputs": [
    {
     "name": "stdout",
     "output_type": "stream",
     "text": [
      "Hoje estou com as roupas molhadas.\n",
      "Hoje estou com as roupas molhadas.\n"
     ]
    }
   ],
   "source": [
    "esta_chovendo = True\n",
    "\n",
    "print('Hoje estou com as roupas ' + ('secas.', 'molhadas.')[esta_chovendo])\n",
    "print('Hoje estou com as roupas ' + ('molhadas.' if esta_chovendo else 'secas.'))"
   ]
  },
  {
   "cell_type": "markdown",
   "id": "7900e1a9",
   "metadata": {},
   "source": [
    "### Operadores de Membro\n",
    "\n",
    "- [W3Schools | Operadores de Membro](https://www.w3schools.com/python/python_operators.asp#:~:text=Python%20Membership%20Operators)"
   ]
  },
  {
   "cell_type": "code",
   "execution_count": 17,
   "id": "63f01982",
   "metadata": {},
   "outputs": [
    {
     "data": {
      "text/plain": [
       "False"
      ]
     },
     "execution_count": 17,
     "metadata": {},
     "output_type": "execute_result"
    }
   ],
   "source": [
    "# Operador de Membro\n",
    "lista = [1, 2, 3, 'Ana', 'Banana']\n",
    "2 in lista\n",
    "'Banana' not in lista"
   ]
  },
  {
   "cell_type": "code",
   "execution_count": 18,
   "id": "623c47be",
   "metadata": {},
   "outputs": [
    {
     "data": {
      "text/plain": [
       "True"
      ]
     },
     "execution_count": 18,
     "metadata": {},
     "output_type": "execute_result"
    }
   ],
   "source": [
    "x = 3\n",
    "y = x\n",
    "z = 3\n",
    "x is y\n",
    "y is z\n",
    "x is not z\n",
    "\n",
    "lista_a = [1, 2, 3]\n",
    "lista_b = lista_a\n",
    "lista_c = [1, 2, 3]\n",
    "\n",
    "lista_a is lista_b\n",
    "lista_b is lista_c\n",
    "lista_a is not lista_c"
   ]
  },
  {
   "cell_type": "markdown",
   "id": "5899d759",
   "metadata": {},
   "source": [
    "### Operador de Identidade\n",
    "\n",
    "- [W3Schools | Operadores de Identidade](https://www.w3schools.com/python/python_operators.asp#:~:text=Python%20Identity%20Operators)"
   ]
  },
  {
   "cell_type": "markdown",
   "id": "04318c15",
   "metadata": {},
   "source": [
    "# Conversão de Tipos\n",
    "\n",
    "- [W3Schools | Tipos de Dados](https://www.w3schools.com/python/python_datatypes.asp)\n"
   ]
  },
  {
   "cell_type": "code",
   "execution_count": 20,
   "id": "8fbe0f34",
   "metadata": {},
   "outputs": [
    {
     "name": "stdout",
     "output_type": "stream",
     "text": [
      "<class 'int'>\n",
      "<class 'str'>\n",
      "5\n",
      "23\n"
     ]
    },
    {
     "data": {
      "text/plain": [
       "str"
      ]
     },
     "execution_count": 20,
     "metadata": {},
     "output_type": "execute_result"
    }
   ],
   "source": [
    "2 + 3\n",
    "'2' + '3'\n",
    "# 2 + '3'\n",
    "# print(2 + '3')\n",
    "\n",
    "a = 2\n",
    "b = '3'\n",
    "\n",
    "print(type(a))\n",
    "print(type(b))\n",
    "\n",
    "print(a + int(b))\n",
    "print(str(a) + b)\n",
    "\n",
    "type(str(a))\n",
    "\n",
    "# print(2 + int('3.4'))"
   ]
  },
  {
   "cell_type": "markdown",
   "id": "8cd66f29",
   "metadata": {},
   "source": [
    "# Números\n",
    "\n",
    "- [W3Schools | Números](https://www.w3schools.com/python/python_numbers.asp)\n",
    "\n",
    "### Tipos numéricos\n"
   ]
  },
  {
   "cell_type": "code",
   "execution_count": 22,
   "id": "c451b3d7",
   "metadata": {},
   "outputs": [
    {
     "data": {
      "text/plain": [
       "3.6"
      ]
     },
     "execution_count": 22,
     "metadata": {},
     "output_type": "execute_result"
    }
   ],
   "source": [
    "dir(int)\n",
    "dir(float)\n",
    "\n",
    "a = 5\n",
    "b = 2.5\n",
    "a / b\n",
    "a + b\n",
    "a * b\n",
    "\n",
    "type(a)\n",
    "type(b)\n",
    "type(a - b)\n",
    "\n",
    "b.is_integer()\n",
    "5.0.is_integer()\n",
    "\n",
    "dir(int)\n",
    "int.__add__(2, 3)\n",
    "2 + 3\n",
    "\n",
    "(-2).__abs__()\n",
    "abs(-2)\n",
    "\n",
    "(-3.6).__abs__()\n",
    "dir(float)\n",
    "abs(-3.6)"
   ]
  },
  {
   "cell_type": "code",
   "execution_count": 23,
   "id": "077a8b2b",
   "metadata": {},
   "outputs": [],
   "source": [
    "import decimal\n",
    "from decimal import Decimal, getcontext\n",
    "\n",
    "# 1.1 + 2.2\n",
    "Decimal(1) / Decimal(7)\n",
    "\n",
    "getcontext().prec = 4\n",
    "Decimal(1) / Decimal(7)\n",
    "#Decimal.max(Decimal(1), Decimal(7))\n",
    "#dir(Decimal)\n",
    "\n",
    "1.1 + 2.2\n",
    "getcontext().prec = 10\n",
    "#Decimal(1.1) + Decimal(2.2)\n",
    "\n",
    "#dir(decimal)\n",
    "#dir()"
   ]
  },
  {
   "cell_type": "markdown",
   "id": "bca4d17c",
   "metadata": {},
   "source": [
    "# Strings\n",
    "\n",
    "- [W3Schools | Strings](https://www.w3schools.com/python/python_strings.asp)\n",
    "\n",
    "### Tipos de Strings\n",
    "\n"
   ]
  },
  {
   "cell_type": "code",
   "execution_count": 24,
   "id": "5090be5d",
   "metadata": {},
   "outputs": [
    {
     "name": "stdout",
     "output_type": "stream",
     "text": [
      "Texto com múltiplas\n",
      "\t... linhas\n",
      "Texto com múltiplas\n",
      "    ... linhas\n"
     ]
    },
    {
     "data": {
      "text/plain": [
       "'Também é possível\\n... com 3 aspas simples'"
      ]
     },
     "execution_count": 24,
     "metadata": {},
     "output_type": "execute_result"
    }
   ],
   "source": [
    "dir(str)\n",
    "nome = 'Saulo Pedro'\n",
    "nome\n",
    "nome[0]\n",
    "# nome[0] = 'P'\n",
    "\n",
    "# 'marca d'água'\n",
    "\"Dias D'Avila\" == 'Dias D\\'Avila'\n",
    "\"Teste \\\" funciona!\"\n",
    "texto = 'Texto entre apostrófos pode ter \"aspas\"'\n",
    "texto\n",
    "\n",
    "doc = \"\"\"Texto com múltiplas\n",
    "    ... linhas\"\"\"\n",
    "doc\n",
    "print('Texto com múltiplas\\n\\t... linhas')\n",
    "print(doc)\n",
    "\n",
    "doc2 = '''Também é possível\n",
    "... com 3 aspas simples'''\n",
    "doc2"
   ]
  },
  {
   "cell_type": "code",
   "execution_count": 25,
   "id": "957f8d15",
   "metadata": {},
   "outputs": [
    {
     "data": {
      "text/plain": [
       "'aluaP anA'"
      ]
     },
     "execution_count": 25,
     "metadata": {},
     "output_type": "execute_result"
    }
   ],
   "source": [
    "nome = 'Ana Paula'\n",
    "nome[0]\n",
    "nome[6]\n",
    "nome[-3]\n",
    "nome[4:]\n",
    "nome[-5:]\n",
    "nome[:3]\n",
    "nome[2:5]\n",
    "\n",
    "numeros = '1234567890'\n",
    "numeros\n",
    "numeros[::]\n",
    "numeros[::2]\n",
    "numeros[1::2]\n",
    "numeros[::-1]\n",
    "numeros[::-2]\n",
    "\n",
    "nome[::-1]"
   ]
  },
  {
   "cell_type": "code",
   "execution_count": 26,
   "id": "fefa8362",
   "metadata": {},
   "outputs": [
    {
     "data": {
      "text/plain": [
       "['PYTHON É UMA LINGUAG', 'M ', 'XC', 'L', 'NT', '']"
      ]
     },
     "execution_count": 26,
     "metadata": {},
     "output_type": "execute_result"
    }
   ],
   "source": [
    "frase = 'Python é uma linguagem excelente'\n",
    "'py' not in frase\n",
    "'ing' in frase\n",
    "len(frase)\n",
    "frase.lower()\n",
    "frase\n",
    "frase = frase.upper()\n",
    "frase\n",
    "\n",
    "frase.split()\n",
    "frase.split('E')\n",
    "\n",
    "# dir(str)\n",
    "# help(str.center)"
   ]
  },
  {
   "cell_type": "code",
   "execution_count": 27,
   "id": "39e103a2",
   "metadata": {},
   "outputs": [
    {
     "data": {
      "text/plain": [
       "['__add__',\n",
       " '__class__',\n",
       " '__contains__',\n",
       " '__delattr__',\n",
       " '__dir__',\n",
       " '__doc__',\n",
       " '__eq__',\n",
       " '__format__',\n",
       " '__ge__',\n",
       " '__getattribute__',\n",
       " '__getitem__',\n",
       " '__getnewargs__',\n",
       " '__getstate__',\n",
       " '__gt__',\n",
       " '__hash__',\n",
       " '__init__',\n",
       " '__init_subclass__',\n",
       " '__iter__',\n",
       " '__le__',\n",
       " '__len__',\n",
       " '__lt__',\n",
       " '__mod__',\n",
       " '__mul__',\n",
       " '__ne__',\n",
       " '__new__',\n",
       " '__reduce__',\n",
       " '__reduce_ex__',\n",
       " '__repr__',\n",
       " '__rmod__',\n",
       " '__rmul__',\n",
       " '__setattr__',\n",
       " '__sizeof__',\n",
       " '__str__',\n",
       " '__subclasshook__',\n",
       " 'capitalize',\n",
       " 'casefold',\n",
       " 'center',\n",
       " 'count',\n",
       " 'encode',\n",
       " 'endswith',\n",
       " 'expandtabs',\n",
       " 'find',\n",
       " 'format',\n",
       " 'format_map',\n",
       " 'index',\n",
       " 'isalnum',\n",
       " 'isalpha',\n",
       " 'isascii',\n",
       " 'isdecimal',\n",
       " 'isdigit',\n",
       " 'isidentifier',\n",
       " 'islower',\n",
       " 'isnumeric',\n",
       " 'isprintable',\n",
       " 'isspace',\n",
       " 'istitle',\n",
       " 'isupper',\n",
       " 'join',\n",
       " 'ljust',\n",
       " 'lower',\n",
       " 'lstrip',\n",
       " 'maketrans',\n",
       " 'partition',\n",
       " 'removeprefix',\n",
       " 'removesuffix',\n",
       " 'replace',\n",
       " 'rfind',\n",
       " 'rindex',\n",
       " 'rjust',\n",
       " 'rpartition',\n",
       " 'rsplit',\n",
       " 'rstrip',\n",
       " 'split',\n",
       " 'splitlines',\n",
       " 'startswith',\n",
       " 'strip',\n",
       " 'swapcase',\n",
       " 'title',\n",
       " 'translate',\n",
       " 'upper',\n",
       " 'zfill']"
      ]
     },
     "execution_count": 27,
     "metadata": {},
     "output_type": "execute_result"
    }
   ],
   "source": [
    "a = '123'\n",
    "b = ' de Oliveira 4'\n",
    "a + b\n",
    "a.__add__(b)\n",
    "str.__add__(a, b)\n",
    "\n",
    "len(a)\n",
    "a.__len__()\n",
    "'1' in a\n",
    "a.__contains__('1')\n",
    "\n",
    "dir(str)"
   ]
  },
  {
   "cell_type": "markdown",
   "id": "e0dc6fa2",
   "metadata": {},
   "source": [
    "# Listas\n",
    "\n",
    "- [W3Schools | Listas](https://www.w3schools.com/python/python_lists.asp)\n",
    "- [Topo do caderno](#sumário)\n"
   ]
  },
  {
   "cell_type": "code",
   "execution_count": 28,
   "id": "2f8ca7f4",
   "metadata": {},
   "outputs": [
    {
     "name": "stdout",
     "output_type": "stream",
     "text": [
      "['Ana', 'Camila', 'João', 'Lucas', 'Samuel', 'Jorge', 'Matheus']\n",
      "['12', '32', '44', '56', '12', '32', '10']\n"
     ]
    }
   ],
   "source": [
    "# Dado um registro\n",
    "lista_de_nomes = open('nomes.csv')\n",
    "\n",
    "# Imprimindo a lista (string)\n",
    "\n",
    "for registro in lista_de_nomes:\n",
    "    ## Com colchete\n",
    "    # print(registro.split(','))\n",
    "    \n",
    "    ### Sem \\n \n",
    "    print(registro.strip().split(','))\n",
    "        \n",
    "    ## Sem colchete\n",
    "    # print(*registro.split(','))"
   ]
  },
  {
   "cell_type": "code",
   "execution_count": 29,
   "id": "e26cb2b0",
   "metadata": {},
   "outputs": [
    {
     "data": {
      "text/plain": [
       "['Bia', 'Ana', 1]"
      ]
     },
     "execution_count": 29,
     "metadata": {},
     "output_type": "execute_result"
    }
   ],
   "source": [
    "lista = []\n",
    "type(lista)\n",
    "dir(lista)\n",
    "# help(list)\n",
    "len(lista)\n",
    "lista.append(1)\n",
    "lista.append(5)\n",
    "lista\n",
    "len(lista)\n",
    "\n",
    "nova_lista = [1, 5, 'Ana', 'Bia']\n",
    "nova_lista\n",
    "nova_lista.remove(5)\n",
    "nova_lista\n",
    "nova_lista.reverse()\n",
    "nova_lista"
   ]
  },
  {
   "cell_type": "code",
   "execution_count": 30,
   "id": "283a152b",
   "metadata": {},
   "outputs": [
    {
     "data": {
      "text/plain": [
       "1"
      ]
     },
     "execution_count": 30,
     "metadata": {},
     "output_type": "execute_result"
    }
   ],
   "source": [
    "lista = [1, 5, 'Rebeca', 'Guilherme', 3.1415]\n",
    "lista.index('Guilherme')\n",
    "# lista.index(42)\n",
    "lista[2]\n",
    "1 in lista\n",
    "'Rebeca' in lista\n",
    "'Pedro' not in lista\n",
    "lista[0]\n",
    "lista[4]\n",
    "# lista[5]\n",
    "lista[-1]\n",
    "lista[-5]"
   ]
  },
  {
   "cell_type": "code",
   "execution_count": 31,
   "id": "7dff863c",
   "metadata": {},
   "outputs": [
    {
     "data": {
      "text/plain": [
       "['Ana']"
      ]
     },
     "execution_count": 31,
     "metadata": {},
     "output_type": "execute_result"
    }
   ],
   "source": [
    "lista = ['Ana', 'Lia', 'Rui', 'Paulo', 'Dani']\n",
    "lista[1:3]\n",
    "lista[1:-1]\n",
    "lista[1:]\n",
    "lista[:-1]\n",
    "lista[:]\n",
    "lista[::2]\n",
    "lista[::-1]\n",
    "del lista[2]\n",
    "lista\n",
    "del lista[1:]\n",
    "lista"
   ]
  },
  {
   "cell_type": "markdown",
   "id": "954af88e",
   "metadata": {},
   "source": [
    "# Tuplas\n",
    "\n",
    "- [W3Schools | Tuplas](https://www.w3schools.com/python/python_tuples.asp)\n",
    "- [Topo do caderno](#sumário)"
   ]
  },
  {
   "cell_type": "code",
   "execution_count": 32,
   "id": "4f717fad",
   "metadata": {},
   "outputs": [
    {
     "data": {
      "text/plain": [
       "4"
      ]
     },
     "execution_count": 32,
     "metadata": {},
     "output_type": "execute_result"
    }
   ],
   "source": [
    "tupla = tuple()\n",
    "tupla = ()\n",
    "type(tupla)\n",
    "dir(tupla)\n",
    "# help(tuple)\n",
    "type(tupla)\n",
    "tupla = ('um')\n",
    "type(tupla)\n",
    "tupla = ('um',)\n",
    "type(tupla)\n",
    "tupla[0]\n",
    "# tupla[0] = 'novo'\n",
    "cores = ('verde', 'amarelo', 'azul', 'branco')\n",
    "cores[0]\n",
    "cores[-1]\n",
    "cores[1:]\n",
    "\n",
    "cores.index('amarelo')\n",
    "cores.count('Azul')\n",
    "len(cores)"
   ]
  },
  {
   "cell_type": "markdown",
   "id": "05999e43",
   "metadata": {},
   "source": [
    "# Dicionários\n",
    "\n",
    "- [W3Schools | Dicionários](https://www.w3schools.com/python/python_dictionaries.asp)\n",
    "- [Topo do caderno](#sumário)"
   ]
  },
  {
   "cell_type": "code",
   "execution_count": 33,
   "id": "a45432cf",
   "metadata": {},
   "outputs": [
    {
     "data": {
      "text/plain": [
       "[]"
      ]
     },
     "execution_count": 33,
     "metadata": {},
     "output_type": "execute_result"
    }
   ],
   "source": [
    "pessoa = {'nome': 'Prof(a). Ana', 'idade': 38,\n",
    "          'cursos': ['Inglês', 'Português']}\n",
    "type(pessoa)\n",
    "dir(dict)\n",
    "len(pessoa)\n",
    "\n",
    "pessoa\n",
    "pessoa['nome']\n",
    "pessoa['idade']\n",
    "pessoa['cursos']\n",
    "pessoa['cursos'][1]\n",
    "# pessoa['tags']\n",
    "pessoa.keys()\n",
    "pessoa.values()\n",
    "pessoa.items()\n",
    "pessoa.get('idade')\n",
    "pessoa.get('tags')\n",
    "pessoa.get('tags', [])"
   ]
  },
  {
   "cell_type": "code",
   "execution_count": 34,
   "id": "c6a717bc",
   "metadata": {},
   "outputs": [
    {
     "data": {
      "text/plain": [
       "{}"
      ]
     },
     "execution_count": 34,
     "metadata": {},
     "output_type": "execute_result"
    }
   ],
   "source": [
    "pessoa = {'nome': 'Prof. Alberto', 'idade': 43, 'cursos': ['React', 'Python']}\n",
    "pessoa['idade'] = 44\n",
    "pessoa['cursos'].append('Angular')\n",
    "pessoa\n",
    "pessoa.pop('idade')\n",
    "pessoa\n",
    "pessoa.update({'idade': 40, 'Sexo': 'M'})\n",
    "pessoa\n",
    "del pessoa['cursos']\n",
    "pessoa\n",
    "pessoa.clear()\n",
    "pessoa"
   ]
  },
  {
   "cell_type": "markdown",
   "id": "c02820bd",
   "metadata": {},
   "source": [
    "# Conjuntos | `set()`\n",
    "\n",
    "- [W3Schools | Sets](https://www.w3schools.com/python/python_sets.asp)\n",
    "- [Topo do caderno](#sumário)"
   ]
  },
  {
   "cell_type": "code",
   "execution_count": 35,
   "id": "1bababe5",
   "metadata": {},
   "outputs": [
    {
     "name": "stdout",
     "output_type": "stream",
     "text": [
      "{'r', 'o', 'c', '3', 'd'}\n",
      "True True\n"
     ]
    },
    {
     "data": {
      "text/plain": [
       "{1, 3}"
      ]
     },
     "execution_count": 35,
     "metadata": {},
     "output_type": "execute_result"
    }
   ],
   "source": [
    "a = {1, 2, 3}\n",
    "type(a)\n",
    "# a[0]\n",
    "a = set('coddddd3r')\n",
    "print(a)\n",
    "print('3' in a, 4 not in a)\n",
    "{1, 2, 3} == {3, 2, 1, 3}\n",
    "\n",
    "# operacoes\n",
    "c1 = {1, 2}\n",
    "c2 = {2, 3}\n",
    "c1.union(c2)\n",
    "c1.intersection(c2)\n",
    "c1.update(c2)\n",
    "c1\n",
    "c2 <= c1\n",
    "c1 >= c2\n",
    "\n",
    "{1, 2, 3} - {2}\n",
    "c1 - c2\n",
    "c1 -= {2}\n",
    "c1"
   ]
  },
  {
   "cell_type": "markdown",
   "id": "edf38dd5",
   "metadata": {},
   "source": [
    "# Interpolação | `print()`\n",
    "\n",
    "- [Cod3r | Interpolação](./curso-python-versao-1.1.pdf)\n",
    "- [Topo do caderno](#sumário)"
   ]
  },
  {
   "cell_type": "code",
   "execution_count": 36,
   "id": "ccf79318",
   "metadata": {},
   "outputs": [
    {
     "name": "stdout",
     "output_type": "stream",
     "text": [
      "Nome: Ana Idade: 30\n",
      "Nome: Ana Idade: 30\n",
      "Nome: Ana Idade: 30\n",
      "Nome: Ana Idade: 30\n"
     ]
    }
   ],
   "source": [
    "from string import Template\n",
    "\n",
    "nome, idade = 'Ana', 30\n",
    "\n",
    "print('Nome: %s Idade: %d' % (nome, idade))  # mais antiga\n",
    "print('Nome: {0} Idade: {1}'.format(nome, idade))  # python < 3.6\n",
    "print(f'Nome: {nome} Idade: {idade}')  # python >= 3.6\n",
    "\n",
    "\n",
    "s = Template('Nome: $nome Idade: $idade')\n",
    "print(s.substitute(nome=nome, idade=idade))"
   ]
  },
  {
   "cell_type": "markdown",
   "id": "fe013d31",
   "metadata": {},
   "source": [
    "# Métodos\n",
    "\n",
    "- [W3Schools | Built in](https://www.w3schools.com/python/python_ref_functions.asp)\n",
    "- [W3Schools | Strings](https://www.w3schools.com/python/python_ref_string.asp)\n",
    "- [W3Schools | Lista](https://www.w3schools.com/python/python_ref_list.asp)\n",
    "- [W3Schools | Dicionários](https://www.w3schools.com/python/python_ref_dictionary.asp)\n",
    "- [W3Schools | Tuplas](https://www.w3schools.com/python/python_ref_tuple.asp)\n",
    "- [W3Schools | Set](https://www.w3schools.com/python/python_ref_set.asp)\n",
    "- [W3Schools | Manipulação de Arquivos](https://www.w3schools.com/python/python_ref_file.asp)\n"
   ]
  },
  {
   "cell_type": "markdown",
   "id": "cec1a148",
   "metadata": {},
   "source": [
    "# Estruturas de Controle\n",
    "\n",
    "- [Docs Python | Estrutura de Controle](https://docs.python.org/pt-br/3/tutorial/controlflow.html)"
   ]
  },
  {
   "cell_type": "markdown",
   "id": "827384e4",
   "metadata": {},
   "source": [
    "### For com Else\n",
    "\n",
    "- [PDF | 11.4 Iterações _like a boss_| Cod3r](./curso-python-versao-1.1.pdf)\n"
   ]
  },
  {
   "cell_type": "markdown",
   "id": "b40bb5ff",
   "metadata": {},
   "source": [
    "### For sem Else\n",
    "\n",
    "- [W3Schools | For](https://www.w3schools.com/python/python_for_loops.asp)\n",
    "- [PDF | 11.4 Iterações _like a boss_| Cod3r](./curso-python-versao-1.1.pdf)\n",
    "\n"
   ]
  },
  {
   "cell_type": "markdown",
   "id": "fd29a341",
   "metadata": {},
   "source": [
    "## While | Laço Condicional\n",
    "\n",
    "- [W3Schools | For]()\n",
    "- [PDF | 11.4 Laços Condicionais _like a boss_| Cod3r](./curso-python-versao-1.1.pdf)"
   ]
  },
  {
   "cell_type": "markdown",
   "id": "736af830",
   "metadata": {},
   "source": [
    "## Switch\n",
    "\n",
    "- [W3Schools | Switch | JavaScript](https://www.w3schools.com/jsref/jsref_switch.asp)\n",
    "- [Match Case | Python 3.10](#match-case--python-310)"
   ]
  },
  {
   "cell_type": "code",
   "execution_count": 37,
   "id": "c19969ab",
   "metadata": {},
   "outputs": [
    {
     "name": "stdout",
     "output_type": "stream",
     "text": [
      "0: **Inválido**\n",
      "1: Domingo\n",
      "2: Segunda\n",
      "3: Terça\n",
      "4: Quarta\n",
      "5: Quinta\n",
      "6: Sexta\n",
      "7: Sábado\n",
      "8: **Inválido**\n"
     ]
    }
   ],
   "source": [
    "def get_dia_semana(dia):\n",
    "    dias = {\n",
    "        1: 'Domingo',\n",
    "        2: 'Segunda',\n",
    "        3: 'Terça',\n",
    "        4: 'Quarta',\n",
    "        5: 'Quinta',\n",
    "        6: 'Sexta',\n",
    "        7: 'Sábado'\n",
    "\n",
    "    }\n",
    "    return dias.get(dia, \"**Inválido**\")\n",
    "\n",
    "\n",
    "if __name__ == '__main__':\n",
    "    \n",
    "    for dia in range(0, 9):\n",
    "        print(f'{dia}: {get_dia_semana(dia)}')"
   ]
  },
  {
   "cell_type": "code",
   "execution_count": 38,
   "id": "bcaaca95",
   "metadata": {},
   "outputs": [
    {
     "name": "stdout",
     "output_type": "stream",
     "text": [
      "0: ** inválido **\n",
      "1: Fim de semana\n",
      "2: Dia de semana\n",
      "3: Dia de semana\n",
      "4: Dia de semana\n",
      "5: Dia de semana\n",
      "6: Dia de semana\n",
      "7: Fim de semana\n"
     ]
    }
   ],
   "source": [
    "def get_tipo_dia(dia):\n",
    "    dias = {\n",
    "        1: 'Fim de semana',\n",
    "        2: 'Dia de semana',\n",
    "        3: 'Dia de semana',\n",
    "        4: 'Dia de semana',\n",
    "        5: 'Dia de semana',\n",
    "        6: 'Dia de semana',\n",
    "        7: 'Fim de semana',\n",
    "    }\n",
    "    return dias.get(dia, '** inválido **')\n",
    "\n",
    "\n",
    "if __name__ == '__main__':\n",
    "    for dia in range(8):\n",
    "        print(f'{dia}: {get_tipo_dia(dia)}')"
   ]
  },
  {
   "cell_type": "markdown",
   "id": "604e6916",
   "metadata": {},
   "source": [
    "### Match case | Python 3.10"
   ]
  },
  {
   "cell_type": "code",
   "execution_count": 39,
   "id": "f447b306",
   "metadata": {},
   "outputs": [
    {
     "ename": "SyntaxError",
     "evalue": "invalid syntax (161307281.py, line 3)",
     "output_type": "error",
     "traceback": [
      "\u001b[0;36m  Cell \u001b[0;32mIn[39], line 3\u001b[0;36m\u001b[0m\n\u001b[0;31m    case padrao_1:\u001b[0m\n\u001b[0m         ^\u001b[0m\n\u001b[0;31mSyntaxError\u001b[0m\u001b[0;31m:\u001b[0m invalid syntax\n"
     ]
    }
   ],
   "source": [
    "# Sintaxe\n",
    "\n",
    "case padrao_1:\n",
    "    <codigo_caso_padrao_1>\n",
    "    case padrao_2:\n",
    "    <codigo_caso_padrao_2>\n",
    "    case padrao_3:\n",
    "    <codigo_caso_padrao_3>\n",
    "case _:\n",
    "    <codigo_caso_nenhum_padrao_definido>"
   ]
  },
  {
   "cell_type": "code",
   "execution_count": null,
   "id": "bd5c4eb7",
   "metadata": {},
   "outputs": [
    {
     "name": "stdout",
     "output_type": "stream",
     "text": [
      "0: ** inválido **\n",
      "1: Domingo\n",
      "2: Segunda\n",
      "3: Terça\n",
      "4: Quarta\n",
      "5: Quinta\n",
      "6: Sexta\n",
      "7: Sabado\n",
      "8: ** inválido **\n"
     ]
    }
   ],
   "source": [
    "def get_dia_semana(dia):\n",
    "    match dia:\n",
    "        case 1:\n",
    "            return 'Domingo'\n",
    "        case 2:\n",
    "            return 'Segunda'\n",
    "        case 3:\n",
    "            return 'Terça'\n",
    "        case 4:\n",
    "            return 'Quarta'\n",
    "        case 5:\n",
    "            return 'Quinta'\n",
    "        case 6:\n",
    "            return 'Sexta'\n",
    "        case 7:\n",
    "            return 'Sabado'\n",
    "        case _:\n",
    "            return '** inválido **'\n",
    "            \n",
    "    \n",
    " \n",
    "if __name__ == '__main__':\n",
    "    for dia in range(0, 9):\n",
    "        print(f'{dia}: {get_dia_semana(dia)}')"
   ]
  },
  {
   "cell_type": "code",
   "execution_count": 40,
   "id": "c91e4545",
   "metadata": {},
   "outputs": [
    {
     "name": "stdout",
     "output_type": "stream",
     "text": [
      "Pato vestido de Banana\n",
      "Banana vestido de Pato\n",
      "\n",
      "Cachoeira é tão bom quanto Praia\n",
      "Praia é tão bom quanto Cachoeira\n"
     ]
    }
   ],
   "source": [
    "# Extraindo dados de uma tupla:\n",
    "\n",
    "# Forma 1\n",
    "print('{} vestido de {}'.format(*(\"Pato\", \"Banana\")))\n",
    "print('{1} vestido de {0}\\n'.format(*(\"Pato\", \"Banana\")))\n",
    "\n",
    "# Forma 2\n",
    "valores = (\"Cachoeira\", \"Praia\")\n",
    "print('{} é tão bom quanto {}'.format(*valores))\n",
    "print('{1} é tão bom quanto {0}'.format(*valores))\n"
   ]
  },
  {
   "cell_type": "code",
   "execution_count": null,
   "id": "2071fc45",
   "metadata": {},
   "outputs": [
    {
     "name": "stdout",
     "output_type": "stream",
     "text": [
      "0: ** inválido **\n",
      "1: Fim de semana\n",
      "2: Dia de semana\n",
      "3: Dia de semana\n",
      "4: Dia de semana\n",
      "5: Dia de semana\n",
      "6: Dia de semana\n",
      "7: Fim de semana\n",
      "8: ** inválido **\n"
     ]
    }
   ],
   "source": [
    "def get_tipo_dia(dia):\n",
    "    match dia:\n",
    "        case 2 | 3 | 4 | 5 | 6 :\n",
    "            return 'Dia de semana'\n",
    "        case 1 | 7:\n",
    "            return 'Fim de semana'\n",
    "        case _:\n",
    "            return '** inválido **'\n",
    "            \n",
    " \n",
    " \n",
    "if __name__ == '__main__':\n",
    "    for dia in range(0, 9):\n",
    "        print(f'{dia}: {get_tipo_dia(dia)}')"
   ]
  },
  {
   "cell_type": "markdown",
   "id": "0aff7020",
   "metadata": {},
   "source": [
    "# Manipulação de Arquivos\n",
    "\n",
    "- [ W3Schools | Lidando com arquivos no Servidor](https://www.w3schools.com/python/python_file_handling.asp)\n",
    "    - [W3Schools | Verificando se um arquivo existe](https://www.w3schools.com/python/python_file_remove.asp#:~:text=Check%20if%20File%20exist%3A)\n",
    "    - [W3Schools | Deletando um diretório](https://www.w3schools.com/python/python_file_remove.asp#:~:text=not%20exist%22)\n",
    "    - [W3Schools | Abrindo um arquivo](https://www.w3schools.com/python/python_file_open.asp)\n",
    "    - [W3Schools | Escrevendo em um arquivo já existente](https://www.w3schools.com/python/python_file_write.asp)\n",
    "    - [W3Schools | Criando um arquivo](https://www.w3schools.com/python/python_file_write.asp#:~:text=the%20entire%20file.-,Create%20a%20New%20File,-To%20create%20a)\n",
    "    - [W3Schools | Deletando um arquivo](https://www.w3schools.com/python/python_file_remove.asp)\n",
    "\n",
    "\n"
   ]
  },
  {
   "cell_type": "markdown",
   "id": "fffddd66",
   "metadata": {},
   "source": [
    "## Leitura de Arquivos \n",
    "\n",
    "O procedimento padrão para leitura de arquivos engloba os seguintes passos:\n",
    "\n",
    "1. Abrir o arquivo\n",
    "2. Ler o arquivo em streamming (imprimir os dados)\n",
    "3. Fechar o arquivo\n",
    "\n",
    "### Possibilidades\n",
    "\n",
    "- [Versão 1 | On demand](#leitura-on-demand--versão-10)\n",
    "- [Versão 2 | On streamming](#leitura-on-streamming--versão-20)\n",
    "- [Versão 3 | On streamming](#leitura-on-streamming--versão-30)\n",
    "- [Versão 4 | On streamming](#leitura-on-streamming--versão-40)\n",
    "- [Versão 5 | On streamming](#leitura-on-streamming--versão-50)\n",
    "- [Versão 6 | On streamming](#escrita-on-streamming--versão-60)\n",
    "\n",
    "\n",
    "\n"
   ]
  },
  {
   "cell_type": "markdown",
   "id": "cd45d50e",
   "metadata": {},
   "source": [
    "\n",
    "### Leitura On Demand | Versão 1.0 \n",
    "\n",
    "- [W3Schools | Read()](https://www.w3schools.com/python/ref_file_read.asp)"
   ]
  },
  {
   "cell_type": "code",
   "execution_count": null,
   "id": "ba7825ea",
   "metadata": {},
   "outputs": [],
   "source": [
    "# Antes de iniciar verifique se o programa.py e o arquivo.csv estejam dentro do mesmo diretório.\n",
    "\n",
    "# Pela CLI: entre no diretório\n",
    "\n",
    "# Início do programa\n",
    "\n",
    "## Abrir o arquivo\n",
    "arquivo = open('actors.csv')\n",
    "\n",
    "## Ler o arquivo\n",
    "dados = arquivo.read()\n",
    "\n",
    "## Fechar o arquivo: libera os recursos do SO\n",
    "arquivo.close()\n",
    "\n",
    "## Percorrer cada linha do arquivo\n",
    "for registro in dados.splitlines():\n",
    "    print(registro.split(','))\n",
    "    \n",
    "    # Com colchete\n",
    "    \n",
    "    # Sem colchete\n",
    "    print(*registro.split(','))"
   ]
  },
  {
   "cell_type": "markdown",
   "id": "981c35e7",
   "metadata": {},
   "source": [
    "\n",
    "### Leitura On Streamming | Versão 2.0 \n",
    "\n",
    "- [Docs Python | Stream](https://docs.python.org/pt-br/3.8/library/asyncio-stream.html)\n",
    "\n"
   ]
  },
  {
   "cell_type": "code",
   "execution_count": null,
   "id": "91e3c013",
   "metadata": {},
   "outputs": [],
   "source": [
    "# Antes de iniciar verifique se o programa.py e o arquivo.csv estejam dentro do mesmo diretório.\n",
    "\n",
    "# Pela CLI: entre no diretório\n",
    "\n",
    "# Início do programa\n",
    "\n",
    "## Abrir o arquivo\n",
    "arquivo = open('actors.csv')\n",
    "\n",
    "## Ler o arquivo\n",
    "### Percorrer cada linha do arquivo\n",
    "for registro in arquivo:\n",
    "    \n",
    "    # Com colchete\n",
    "    # print(registro.split(','))\n",
    "    \n",
    "    # Sem colchete\n",
    "    print(*registro.split(','))\n",
    "\n",
    "## Fechar o arquivo: libera os recursos do SO\n",
    "arquivo.close()"
   ]
  },
  {
   "cell_type": "markdown",
   "id": "4e098276",
   "metadata": {},
   "source": [
    "\n",
    "### Leitura On Streamming | Versão 3.0 \n",
    "\n"
   ]
  },
  {
   "cell_type": "markdown",
   "id": "8cbd984f",
   "metadata": {},
   "source": [
    "\n",
    "### Leitura On Streamming | Versão 4.0 \n",
    "\n"
   ]
  },
  {
   "cell_type": "markdown",
   "id": "1fa48d3a",
   "metadata": {},
   "source": [
    "\n",
    "### Leitura On Streamming | Versão 5.0 \n",
    "\n"
   ]
  },
  {
   "cell_type": "markdown",
   "id": "c4a58eb4",
   "metadata": {},
   "source": [
    "\n",
    "### Escrita On Streamming | Versão 6.0 \n",
    "\n"
   ]
  },
  {
   "cell_type": "code",
   "execution_count": null,
   "id": "eca3f3b6",
   "metadata": {},
   "outputs": [],
   "source": [
    "# Antes de iniciar verifique se o programa.py e o arquivo.csv estejam dentro do mesmo diretório.\n",
    "\n",
    "# Pela CLI: entre no diretório\n",
    "\n",
    "# Início do programa\n",
    "\n",
    "## Ao executar o programa, faça:\n",
    "\n",
    "# Abra o arquivo.csv e reserve como 'arquivo'\n",
    "with open('actors.csv') as arquivo:\n",
    "    \n",
    "    # Com a abertura da saida.txt, habilitado para escrita, realize a seguinte operação e reserve como 'saida':\n",
    "    with open('todos-os-atores.txt', 'w') as saida:\n",
    "\n",
    "        # Percorra as linhas do arquivo\n",
    "        for registro in arquivo:\n",
    "            \n",
    "            # Leia e reserve\n",
    "            ator = registro.strip().split(',')\n",
    "            \n",
    "            # Escreva a saída\n",
    "            print('Actor: {}| {}| {}| {}| {}| {}\\n'.format(*ator), file=saida)\n",
    "\n",
    "## Se o arquivo de entrada tiver sido fechado sem erros, imprima:\n",
    "if arquivo.closed:\n",
    "    print('\\nDataset fechado com sucesso! | //^.^// ')\n",
    "\n",
    "## Se o arquivo de saída tiver sido fechado sem erros, imprima:\n",
    "if saida.closed:\n",
    "    print('\\nExtração fechado com sucesso! | //^.^// ')    "
   ]
  },
  {
   "cell_type": "markdown",
   "id": "f2ab67b7",
   "metadata": {},
   "source": [
    "## Try .. Finally\n",
    "\n",
    "- [W3Schools | Try Except](https://www.w3schools.com/python/python_try_except.asp)"
   ]
  },
  {
   "cell_type": "code",
   "execution_count": null,
   "id": "f0cf0e44",
   "metadata": {},
   "outputs": [],
   "source": [
    "# Antes de iniciar verifique se o programa.py e o arquivo.csv estejam dentro do mesmo diretório.\n",
    "\n",
    "# Pela CLI: entre no diretório\n",
    "\n",
    "# Início do programa\n",
    "\n",
    "## Ao executar o programa, tente:\n",
    "try:\n",
    "    arquivo = open('actors.csv')\n",
    "\n",
    "    for registro in arquivo:\n",
    "        \n",
    "        # Sem colchete\n",
    "        print(*registro.split(','))\n",
    "\n",
    "## Por fim, faça:\n",
    "finally:\n",
    "    arquivo.close()\n",
    "\n",
    "## Se o arquivo tiver sido fechado sem erros, imprima:\n",
    "if arquivo.closed:\n",
    "    print('Arquivo fechado com sucesso! | //^.^// ')"
   ]
  },
  {
   "cell_type": "markdown",
   "id": "6ade995b",
   "metadata": {},
   "source": []
  },
  {
   "cell_type": "markdown",
   "id": "8a669598",
   "metadata": {},
   "source": [
    "## Desafios | Cod3r"
   ]
  },
  {
   "cell_type": "code",
   "execution_count": null,
   "id": "e7169c4d",
   "metadata": {},
   "outputs": [],
   "source": [
    "# Desafio 1: Qual é o percentual do salario que é comprometido com as despesas mensais?\n",
    "\n",
    "salario = 4930\n",
    "despesas = 2803\n",
    "\n",
    "percentual = despesas / salario * 100\n",
    "\n",
    "print('Percentual = {0:.2f}%'.format(percentual))\n"
   ]
  },
  {
   "cell_type": "code",
   "execution_count": null,
   "id": "8366def7",
   "metadata": {},
   "outputs": [],
   "source": [
    "# Desafio 2: Uma pessoa realiza seu trabalho na terça e na quinta. Estes podem dar ou não certo. A pessoa, seu Juracir, prometeu à familia que:\n",
    "# Caso 1: ambos os trabalhos deem certo, ele vai ao shopping com a familia comprar uma TV de 50' + sorvete\n",
    "# Caso 2: apenas um dos trabalhos dê certo, ele vai comprar a TV de 32' + sorvete\n",
    "# Caso 3: quando nenhum dos dois trabalhos dão certo e o seu Juracir fica com saúde.\n",
    "\n",
    "# Liste e imprima as possibilidades do cenário de Juracir\n",
    "trabalho_terca = True\n",
    "trabalho_quinta = False\n",
    "\n",
    "\n",
    "tv50 = trabalho_terca and trabalho_quinta\n",
    "tv32 = trabalho_terca != trabalho_quinta\n",
    "sorvete = trabalho_terca or trabalho_quinta\n",
    "saude = not sorvete\n",
    "\n",
    "print('Tv50: {}\\nTv32: {}\\nSorvete: {}\\nSaúde: {}'.format(tv50, tv32, sorvete, saude))\n"
   ]
  },
  {
   "cell_type": "code",
   "execution_count": null,
   "id": "683520e5",
   "metadata": {},
   "outputs": [],
   "source": [
    "# Desafio 3: If / Else\n",
    "\n",
    "if "
   ]
  },
  {
   "cell_type": "code",
   "execution_count": 38,
   "id": "5b5e0835",
   "metadata": {},
   "outputs": [
    {
     "name": "stdout",
     "output_type": "stream",
     "text": [
      "Não acertou o número\n"
     ]
    }
   ],
   "source": [
    "# Desafio 4: For\n",
    "from random import randint\n",
    "\n",
    "def sortear_dado():\n",
    "    return randint(1,6)\n",
    "\n",
    "valor_sorteado = sortear_dado()\n",
    "\n",
    "for i in range(1,7):\n",
    "        \n",
    "    if i % 2 != 0:\n",
    "        continue\n",
    "    \n",
    "    if i == valor_sorteado:\n",
    "        print('Acertou!', i)\n",
    "        break\n",
    "\n",
    "else:\n",
    "    print('Não acertou o número')\n"
   ]
  },
  {
   "cell_type": "code",
   "execution_count": null,
   "id": "34d8d5c4",
   "metadata": {},
   "outputs": [],
   "source": [
    "# Desafio SET: Palavras proibidas\n",
    "\n",
    "PALAVRAS_PROIBIDAS = {'política', 'religião', 'futebol' }"
   ]
  },
  {
   "cell_type": "markdown",
   "id": "1a6ea7ad",
   "metadata": {},
   "source": []
  }
 ],
 "metadata": {
  "kernelspec": {
   "display_name": "Python 3 (ipykernel)",
   "language": "python",
   "name": "python3"
  },
  "language_info": {
   "codemirror_mode": {
    "name": "ipython",
    "version": 3
   },
   "file_extension": ".py",
   "mimetype": "text/x-python",
   "name": "python",
   "nbconvert_exporter": "python",
   "pygments_lexer": "ipython3",
   "version": "3.11.4"
  }
 },
 "nbformat": 4,
 "nbformat_minor": 5
}
