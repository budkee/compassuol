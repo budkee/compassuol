{
 "cells": [
  {
   "cell_type": "markdown",
   "id": "76cc7491-8b05-4d1a-8f48-1bee445ff74f",
   "metadata": {},
   "source": [
    "# Tarefa 1: Consumindo a API\n",
    "\n",
    "- [Documentação API | TMDB](https://developer.themoviedb.org/docs/finding-data)\n",
    "- [API Reference | TMDB](https://developer.themoviedb.org/reference/)"
   ]
  },
  {
   "cell_type": "markdown",
   "id": "cd11d3cb-ae48-4937-aa71-42aeb1e9be26",
   "metadata": {
    "tags": []
   },
   "source": [
    "## Imports | Layer AWS Lambda"
   ]
  },
  {
   "cell_type": "code",
   "execution_count": null,
   "id": "d0ca3e8a-ac30-4fea-9e96-3a325e17ec5c",
   "metadata": {
    "tags": []
   },
   "outputs": [
    {
     "ename": "",
     "evalue": "",
     "output_type": "error",
     "traceback": [
      "\u001b[1;31mA execução de células com 'Python 3.12.2' requer o pacote ipykernel.\n",
      "\u001b[1;31mExecute o seguinte comando para instalar \"ipykernel\" no ambiente do Python. \n",
      "\u001b[1;31mComando: \"/opt/homebrew/bin/python3.12 -m pip install ipykernel -U --user --force-reinstall\""
     ]
    }
   ],
   "source": [
    "import requests\n",
    "import pandas as pd\n",
    "from IPython.display import display"
   ]
  },
  {
   "cell_type": "markdown",
   "id": "720f619a-e761-4e5e-9002-23ff08d7a365",
   "metadata": {
    "tags": []
   },
   "source": [
    "## Requisição e consumo | API"
   ]
  },
  {
   "cell_type": "markdown",
   "id": "cdff6c54-42c2-4ce8-8048-cba5ac0f24b5",
   "metadata": {
    "tags": []
   },
   "source": [
    "### Autenticação TMDB"
   ]
  },
  {
   "cell_type": "code",
   "execution_count": 3,
   "id": "a5fb990b-fc37-4e53-bd05-5c41e0b86ef6",
   "metadata": {},
   "outputs": [],
   "source": [
    "api_key = \"$YOUR_API_KEY\"\n",
    "\n",
    "headers = {\n",
    "    \"accept\": \"application/json\",\n",
    "    \"Authorization\": \"$AUTH_BEARER\"\n",
    "}"
   ]
  },
  {
   "cell_type": "markdown",
   "id": "599cb8a1-8482-4d37-a5cd-8a8ee5b04f4e",
   "metadata": {
    "tags": []
   },
   "source": [
    "### Parâmetros e Endpoint | Quais são os dados de interesse?"
   ]
  },
  {
   "cell_type": "code",
   "execution_count": 68,
   "id": "98b9439e-51a3-4237-9997-cb4bbab86d76",
   "metadata": {},
   "outputs": [],
   "source": [
    "## Parâmetros\n",
    "parametros = \"include_adult=false&include_video=false&with_genres=10759&language=pt-BR\"\n",
    "\n",
    "## Lista de Filmes\n",
    "#endpoint = \"3/discover/movie\"\n",
    "### de series\n",
    "endpoint = \"3/discover/tv\"\n",
    "\n",
    "## Lista de paises \n",
    "#endpoint = \"3/configuration/countries\"\n"
   ]
  },
  {
   "cell_type": "markdown",
   "id": "800899c5-2edd-4dda-9f10-78d5cdc898d6",
   "metadata": {
    "tags": []
   },
   "source": [
    "### Requisição"
   ]
  },
  {
   "cell_type": "code",
   "execution_count": 69,
   "id": "8d665481-92a2-4b31-a08b-b3ef49de8cf5",
   "metadata": {},
   "outputs": [
    {
     "name": "stdout",
     "output_type": "stream",
     "text": [
      "Sucesso!\n",
      "Você está trabalhando com:  <class 'dict'>\n"
     ]
    }
   ],
   "source": [
    "url = f\"https://api.themoviedb.org/{endpoint}?api_key={api_key}&parametros\"\n",
    "response = requests.get(url)\n",
    "dados_api = response.json()\n",
    "\n",
    "# Verifique o código de status da resposta\n",
    "if response.status_code == 200:\n",
    "    print('Sucesso!')\n",
    "    print('Você está trabalhando com: ', type(dados_api))\n",
    "else:\n",
    "    print('Erro:', response.status_code)\n",
    "    print(response.text) "
   ]
  },
  {
   "cell_type": "markdown",
   "id": "c41cc41b-cbae-4952-9536-1cdaf3aeb175",
   "metadata": {
    "tags": []
   },
   "source": [
    "## Explorando os dados | Endpoints"
   ]
  },
  {
   "cell_type": "markdown",
   "id": "bc28e8dd-8323-471c-9e21-5bda6a356726",
   "metadata": {
    "tags": []
   },
   "source": [
    "### Visualização dos dados com Pandas"
   ]
  },
  {
   "cell_type": "code",
   "execution_count": 70,
   "id": "ef0b5236-204b-45c3-8dc0-219da3e55c3d",
   "metadata": {},
   "outputs": [
    {
     "data": {
      "text/html": [
       "<div>\n",
       "<style scoped>\n",
       "    .dataframe tbody tr th:only-of-type {\n",
       "        vertical-align: middle;\n",
       "    }\n",
       "\n",
       "    .dataframe tbody tr th {\n",
       "        vertical-align: top;\n",
       "    }\n",
       "\n",
       "    .dataframe thead th {\n",
       "        text-align: right;\n",
       "    }\n",
       "</style>\n",
       "<table border=\"1\" class=\"dataframe\">\n",
       "  <thead>\n",
       "    <tr style=\"text-align: right;\">\n",
       "      <th></th>\n",
       "      <th>page</th>\n",
       "      <th>results</th>\n",
       "      <th>total_pages</th>\n",
       "      <th>total_results</th>\n",
       "    </tr>\n",
       "  </thead>\n",
       "  <tbody>\n",
       "    <tr>\n",
       "      <th>0</th>\n",
       "      <td>1</td>\n",
       "      <td>{'backdrop_path': '/xl1wGwaPZInJo1JAnpKqnFozWB...</td>\n",
       "      <td>7930</td>\n",
       "      <td>158596</td>\n",
       "    </tr>\n",
       "    <tr>\n",
       "      <th>1</th>\n",
       "      <td>1</td>\n",
       "      <td>{'backdrop_path': '/jWXrQstj7p3Wl5MfYWY6IHqRpD...</td>\n",
       "      <td>7930</td>\n",
       "      <td>158596</td>\n",
       "    </tr>\n",
       "    <tr>\n",
       "      <th>2</th>\n",
       "      <td>1</td>\n",
       "      <td>{'backdrop_path': '/5AkPhazx8F0Ht74CUdJU03vNzB...</td>\n",
       "      <td>7930</td>\n",
       "      <td>158596</td>\n",
       "    </tr>\n",
       "    <tr>\n",
       "      <th>3</th>\n",
       "      <td>1</td>\n",
       "      <td>{'backdrop_path': '/l7LRGYJY3NzIGBlpvHpMsNXHbm...</td>\n",
       "      <td>7930</td>\n",
       "      <td>158596</td>\n",
       "    </tr>\n",
       "    <tr>\n",
       "      <th>4</th>\n",
       "      <td>1</td>\n",
       "      <td>{'backdrop_path': '/218ZehBKlH8efPRRccmB7bu0oL...</td>\n",
       "      <td>7930</td>\n",
       "      <td>158596</td>\n",
       "    </tr>\n",
       "    <tr>\n",
       "      <th>5</th>\n",
       "      <td>1</td>\n",
       "      <td>{'backdrop_path': '/9TXcHOeCsM8W3ZKKIKjdYUsRSe...</td>\n",
       "      <td>7930</td>\n",
       "      <td>158596</td>\n",
       "    </tr>\n",
       "    <tr>\n",
       "      <th>6</th>\n",
       "      <td>1</td>\n",
       "      <td>{'backdrop_path': '/9xxLWtnFxkpJ2h1uthpvCRK6vt...</td>\n",
       "      <td>7930</td>\n",
       "      <td>158596</td>\n",
       "    </tr>\n",
       "    <tr>\n",
       "      <th>7</th>\n",
       "      <td>1</td>\n",
       "      <td>{'backdrop_path': '/oOce9hLMVFubjAJliau4kiSNPn...</td>\n",
       "      <td>7930</td>\n",
       "      <td>158596</td>\n",
       "    </tr>\n",
       "    <tr>\n",
       "      <th>8</th>\n",
       "      <td>1</td>\n",
       "      <td>{'backdrop_path': '/5MkBAawsj7O9zitVtzMXagyrIB...</td>\n",
       "      <td>7930</td>\n",
       "      <td>158596</td>\n",
       "    </tr>\n",
       "    <tr>\n",
       "      <th>9</th>\n",
       "      <td>1</td>\n",
       "      <td>{'backdrop_path': '/q3jHCb4dMfYF6ojikKuHd6Lscx...</td>\n",
       "      <td>7930</td>\n",
       "      <td>158596</td>\n",
       "    </tr>\n",
       "    <tr>\n",
       "      <th>10</th>\n",
       "      <td>1</td>\n",
       "      <td>{'backdrop_path': '/4w3AZvQMdzOS7oXXrrPnRD59dB...</td>\n",
       "      <td>7930</td>\n",
       "      <td>158596</td>\n",
       "    </tr>\n",
       "    <tr>\n",
       "      <th>11</th>\n",
       "      <td>1</td>\n",
       "      <td>{'backdrop_path': '/aDRIKJuB63tuJUZf1O4mRmbMTV...</td>\n",
       "      <td>7930</td>\n",
       "      <td>158596</td>\n",
       "    </tr>\n",
       "    <tr>\n",
       "      <th>12</th>\n",
       "      <td>1</td>\n",
       "      <td>{'backdrop_path': '/2N4LXvTkUwPRkbvyzdmzvtnCHg...</td>\n",
       "      <td>7930</td>\n",
       "      <td>158596</td>\n",
       "    </tr>\n",
       "    <tr>\n",
       "      <th>13</th>\n",
       "      <td>1</td>\n",
       "      <td>{'backdrop_path': '/i4n8ZKmCUaxcGMkPhm12selZif...</td>\n",
       "      <td>7930</td>\n",
       "      <td>158596</td>\n",
       "    </tr>\n",
       "    <tr>\n",
       "      <th>14</th>\n",
       "      <td>1</td>\n",
       "      <td>{'backdrop_path': '/2GflJk6Hm1L3FFVWIvnuOskDFG...</td>\n",
       "      <td>7930</td>\n",
       "      <td>158596</td>\n",
       "    </tr>\n",
       "    <tr>\n",
       "      <th>15</th>\n",
       "      <td>1</td>\n",
       "      <td>{'backdrop_path': '/rj3jBAZwPiOgkwAy1205MAgLah...</td>\n",
       "      <td>7930</td>\n",
       "      <td>158596</td>\n",
       "    </tr>\n",
       "    <tr>\n",
       "      <th>16</th>\n",
       "      <td>1</td>\n",
       "      <td>{'backdrop_path': '/jO803koX4pYjGuxjOkLytCusuJ...</td>\n",
       "      <td>7930</td>\n",
       "      <td>158596</td>\n",
       "    </tr>\n",
       "    <tr>\n",
       "      <th>17</th>\n",
       "      <td>1</td>\n",
       "      <td>{'backdrop_path': '/1stoC4UstDtmST8x8VATtf08Kf...</td>\n",
       "      <td>7930</td>\n",
       "      <td>158596</td>\n",
       "    </tr>\n",
       "    <tr>\n",
       "      <th>18</th>\n",
       "      <td>1</td>\n",
       "      <td>{'backdrop_path': '/hwUQsL1cWt0bmbTxzCompqqvTH...</td>\n",
       "      <td>7930</td>\n",
       "      <td>158596</td>\n",
       "    </tr>\n",
       "    <tr>\n",
       "      <th>19</th>\n",
       "      <td>1</td>\n",
       "      <td>{'backdrop_path': '/69Jblm3seQgiPuPQMrJqg9Nxha...</td>\n",
       "      <td>7930</td>\n",
       "      <td>158596</td>\n",
       "    </tr>\n",
       "  </tbody>\n",
       "</table>\n",
       "</div>"
      ],
      "text/plain": [
       "    page                                            results  total_pages  \\\n",
       "0      1  {'backdrop_path': '/xl1wGwaPZInJo1JAnpKqnFozWB...         7930   \n",
       "1      1  {'backdrop_path': '/jWXrQstj7p3Wl5MfYWY6IHqRpD...         7930   \n",
       "2      1  {'backdrop_path': '/5AkPhazx8F0Ht74CUdJU03vNzB...         7930   \n",
       "3      1  {'backdrop_path': '/l7LRGYJY3NzIGBlpvHpMsNXHbm...         7930   \n",
       "4      1  {'backdrop_path': '/218ZehBKlH8efPRRccmB7bu0oL...         7930   \n",
       "5      1  {'backdrop_path': '/9TXcHOeCsM8W3ZKKIKjdYUsRSe...         7930   \n",
       "6      1  {'backdrop_path': '/9xxLWtnFxkpJ2h1uthpvCRK6vt...         7930   \n",
       "7      1  {'backdrop_path': '/oOce9hLMVFubjAJliau4kiSNPn...         7930   \n",
       "8      1  {'backdrop_path': '/5MkBAawsj7O9zitVtzMXagyrIB...         7930   \n",
       "9      1  {'backdrop_path': '/q3jHCb4dMfYF6ojikKuHd6Lscx...         7930   \n",
       "10     1  {'backdrop_path': '/4w3AZvQMdzOS7oXXrrPnRD59dB...         7930   \n",
       "11     1  {'backdrop_path': '/aDRIKJuB63tuJUZf1O4mRmbMTV...         7930   \n",
       "12     1  {'backdrop_path': '/2N4LXvTkUwPRkbvyzdmzvtnCHg...         7930   \n",
       "13     1  {'backdrop_path': '/i4n8ZKmCUaxcGMkPhm12selZif...         7930   \n",
       "14     1  {'backdrop_path': '/2GflJk6Hm1L3FFVWIvnuOskDFG...         7930   \n",
       "15     1  {'backdrop_path': '/rj3jBAZwPiOgkwAy1205MAgLah...         7930   \n",
       "16     1  {'backdrop_path': '/jO803koX4pYjGuxjOkLytCusuJ...         7930   \n",
       "17     1  {'backdrop_path': '/1stoC4UstDtmST8x8VATtf08Kf...         7930   \n",
       "18     1  {'backdrop_path': '/hwUQsL1cWt0bmbTxzCompqqvTH...         7930   \n",
       "19     1  {'backdrop_path': '/69Jblm3seQgiPuPQMrJqg9Nxha...         7930   \n",
       "\n",
       "    total_results  \n",
       "0          158596  \n",
       "1          158596  \n",
       "2          158596  \n",
       "3          158596  \n",
       "4          158596  \n",
       "5          158596  \n",
       "6          158596  \n",
       "7          158596  \n",
       "8          158596  \n",
       "9          158596  \n",
       "10         158596  \n",
       "11         158596  \n",
       "12         158596  \n",
       "13         158596  \n",
       "14         158596  \n",
       "15         158596  \n",
       "16         158596  \n",
       "17         158596  \n",
       "18         158596  \n",
       "19         158596  "
      ]
     },
     "execution_count": 70,
     "metadata": {},
     "output_type": "execute_result"
    }
   ],
   "source": [
    "# Informações sobre o esquema e os dados\n",
    "## Criando o dataframe com Pandas\n",
    "df = pd.DataFrame(dados_api)\n",
    "## Criando o dataframe com PySpark\n",
    "#df_pyspark = spark.createDataFrame(dados_api)\n",
    "\n",
    "#display(dados_api)\n",
    "#display(df)\n",
    "df"
   ]
  },
  {
   "cell_type": "markdown",
   "id": "dfc798e0-4548-4d2e-b247-a237cdc6d8cc",
   "metadata": {
    "tags": []
   },
   "source": [
    "### Filmes do momento (novembro/2023)\n",
    "\n",
    "    endpoint = \"3/movie/popular\""
   ]
  },
  {
   "cell_type": "code",
   "execution_count": 71,
   "id": "34d46221-3ac6-420d-8ed8-35d3b51f39e8",
   "metadata": {},
   "outputs": [
    {
     "name": "stdout",
     "output_type": "stream",
     "text": [
      "page\n",
      "results\n",
      "total_pages\n",
      "total_results\n"
     ]
    }
   ],
   "source": [
    "# Colunas do dataframe\n",
    "for coluna in df.columns:\n",
    "    print(coluna)"
   ]
  },
  {
   "cell_type": "code",
   "execution_count": 72,
   "id": "fe6962fc-15e2-44a2-a012-c49c79458fec",
   "metadata": {},
   "outputs": [
    {
     "data": {
      "text/plain": [
       "{'backdrop_path': '/jWXrQstj7p3Wl5MfYWY6IHqRpDb.jpg',\n",
       " 'first_air_date': '1952-12-26',\n",
       " 'genre_ids': [10763],\n",
       " 'id': 94722,\n",
       " 'name': 'Tagesschau',\n",
       " 'origin_country': ['DE'],\n",
       " 'original_language': 'de',\n",
       " 'original_name': 'Tagesschau',\n",
       " 'overview': 'German daily news program, the oldest still existing program on German television.',\n",
       " 'popularity': 3171.909,\n",
       " 'poster_path': '/7dFZJ2ZJJdcmkp05B9NWlqTJ5tq.jpg',\n",
       " 'vote_average': 7.4,\n",
       " 'vote_count': 156}"
      ]
     },
     "execution_count": 72,
     "metadata": {},
     "output_type": "execute_result"
    }
   ],
   "source": [
    "#df['total_pages']\n",
    "#df['total_results']\n",
    "df['results']\n",
    "df['results'][1]"
   ]
  },
  {
   "cell_type": "code",
   "execution_count": 77,
   "id": "aa59e52a-cc87-4638-acf7-f715d1ccb5bd",
   "metadata": {},
   "outputs": [
    {
     "data": {
      "text/plain": [
       "[35, 9648, 10766, 18]"
      ]
     },
     "metadata": {},
     "output_type": "display_data"
    }
   ],
   "source": [
    "#filmes = df['results']\n",
    "series = df['results']\n",
    "#generos = dados_api.get('genres_ids', [28, 12])\n",
    "\n",
    "display(series[4]['genre_ids'])\n",
    "#filmes['genre_ids']"
   ]
  },
  {
   "cell_type": "markdown",
   "id": "d7c6c3af-f83c-43f6-86db-877d93dd81bb",
   "metadata": {},
   "source": [
    "### Coletando os dados que desejo a partir do ID"
   ]
  },
  {
   "cell_type": "code",
   "execution_count": null,
   "id": "0106042d-7f9f-4392-8eb3-84be3e5b5ca8",
   "metadata": {},
   "outputs": [],
   "source": [
    "## Filmes de ação e aventura\n",
    "filmes_aa = []\n",
    "id_acao = 28\n",
    "id_aventura = 12\n",
    "\n",
    "for filme in filmes:\n",
    "    \n",
    "    genre_ids = filme.get(\"genre_ids\", [])\n",
    "    \n",
    "    # Verifique se o filme pertence a ação ou aventura\n",
    "    if id_acao in genre_ids or id_aventura in genre_ids:\n",
    "        filmes_aa.append(filme)\n",
    "#display(filmes_aa)\n",
    "#len(filmes_aa)"
   ]
  },
  {
   "cell_type": "code",
   "execution_count": 82,
   "id": "e5903227-308e-4e90-8861-14b1995aeaae",
   "metadata": {},
   "outputs": [
    {
     "data": {
      "text/plain": [
       "[]"
      ]
     },
     "metadata": {},
     "output_type": "display_data"
    },
    {
     "data": {
      "text/plain": [
       "0"
      ]
     },
     "execution_count": 82,
     "metadata": {},
     "output_type": "execute_result"
    }
   ],
   "source": [
    "## Series de ação e aventura\n",
    "series_aa = []\n",
    "id_acao_aventura = 10759\n",
    "\n",
    "for serie in series:\n",
    "    \n",
    "    genre_id = series.get(\"genre_ids\", [])\n",
    "    \n",
    "    # Verifique se o filme pertence a ação ou aventura\n",
    "    if id_acao_aventura in genre_id:\n",
    "        series_aa.append(serie)\n",
    "\n",
    "display(series_aa)\n",
    "len(series_aa)"
   ]
  },
  {
   "cell_type": "code",
   "execution_count": null,
   "id": "e4f14496-69cf-4bcc-95fb-f250e84ac802",
   "metadata": {},
   "outputs": [],
   "source": [
    "# Criando a estrutura de dados de interesse | Discover\n",
    "\n",
    "\n",
    "\n",
    "## Percorrendo do df\n",
    "for _ in filme:\n",
    "    \n",
    "    dic = {\n",
    "\n",
    "            'Titulo': _['title'],\n",
    "            'ID do Gênero': _['genre_ids'],\n",
    "            'Data de lançamento': _['release_date'],\n",
    "            'Visão geral': _['overview'],\n",
    "            'Votos': _['vote_count'],\n",
    "            'Média de votos:': _['vote_average'],\n",
    "            'Popularidade:': _['popularity']        \n",
    "\n",
    "        }\n",
    "    \n",
    "    # Adiciona na lista de filmes\n",
    "    filmes_aa.append(dic)\n",
    "        \n",
    "filmes_aa\n",
    "#filmes_aa"
   ]
  },
  {
   "cell_type": "code",
   "execution_count": null,
   "id": "4491ea2e-f9f1-4967-aa5d-56658368440a",
   "metadata": {},
   "outputs": [],
   "source": [
    "len(filmes_aa)\n",
    "#filmes\n",
    "#filmes[0]['genre_ids']\n"
   ]
  },
  {
   "cell_type": "code",
   "execution_count": null,
   "id": "7efa2017-1ab8-4ecb-b5dd-1a98734b5816",
   "metadata": {},
   "outputs": [],
   "source": [
    "# Filmes coletados\n",
    "\n",
    "# Lista do Python\n",
    "filmes\n",
    "\n",
    "# DataFrame do Pandas \n",
    "df_pandas = pd.DataFrame(filmes)\n",
    "display(df_pandas)\n",
    "\n",
    "# DataFrame do Spark\n",
    "df_spark = spark.createDataFrame(df_pandas)\n",
    "df_spark.show()"
   ]
  },
  {
   "cell_type": "code",
   "execution_count": null,
   "id": "8ae0b360-dbb7-474f-9fc8-7ca779c657fd",
   "metadata": {},
   "outputs": [],
   "source": [
    "## Informações gerais\n",
    "#df.info()\n",
    "\n",
    "### Tipo do dado\n",
    "#df.dtypes\n",
    "\n",
    "### Quantas linhas tem o objeto?\n",
    "len(df)\n",
    "#df.count()\n"
   ]
  },
  {
   "cell_type": "code",
   "execution_count": null,
   "id": "2f2d2a02-479f-4d40-93f1-14ad43db7bd6",
   "metadata": {},
   "outputs": [],
   "source": [
    "## Primeiras 5 linhas \n",
    "df.head()"
   ]
  },
  {
   "cell_type": "code",
   "execution_count": null,
   "id": "738b6786-0c45-4241-b2c2-7a78334c03c0",
   "metadata": {},
   "outputs": [],
   "source": [
    "#genero = data['genres'][0]\n",
    "#genero['id']\n",
    "#df['native_name'][0]"
   ]
  },
  {
   "cell_type": "markdown",
   "id": "b9e94c96-aa97-43cf-bc33-6061535cc0fc",
   "metadata": {
    "tags": []
   },
   "source": [
    "### Séries do momento (novembro/2023)\n",
    "\n",
    "    endpoint = \"\""
   ]
  },
  {
   "cell_type": "code",
   "execution_count": null,
   "id": "c3ddb873-341c-4836-aa1e-79127b0f1092",
   "metadata": {},
   "outputs": [],
   "source": [
    "# IDs dos gêneros | ação e aventura(10759)\n",
    "#series = []\n",
    "#data['genres']\n",
    "\n",
    "## Objeto de análise\n",
    "for genero in data['genres']:\n",
    "    \n",
    "    if genero['id'] == 10759:\n",
    "        genero['name']\n",
    "        "
   ]
  },
  {
   "cell_type": "code",
   "execution_count": null,
   "id": "8c5e13ab-7c51-4caf-bdf2-0c4fb9ac137a",
   "metadata": {},
   "outputs": [],
   "source": [
    "# Construindo a estrutura de dados | Top rated\n",
    "for serie in series:\n",
    "    \n",
    "    dic = {\n",
    "        'Titulo': serie['title'],\n",
    "        'chave': serie['id'],\n",
    "        'chave': serie['id'],\n",
    "        'chave': serie['id']\n",
    "    }\n",
    "    \n",
    "    # Adiciona na lista de series\n",
    "    series.append(dic)"
   ]
  },
  {
   "cell_type": "code",
   "execution_count": null,
   "id": "9935f81d-e3e7-43cf-bc4f-76468d55cdf4",
   "metadata": {},
   "outputs": [],
   "source": [
    "# Series coletadas\n",
    "\n",
    "# Lista do Python\n",
    "series\n",
    "\n",
    "# DataFrame do Pandas \n",
    "df_pandas = pd.DataFrame(series)\n",
    "display(df_pandas)\n",
    "\n",
    "# Pandas to Spark\n",
    "df_spark = spark.createDataFrame(df_pandas)\n",
    "df_spark.show()"
   ]
  },
  {
   "cell_type": "code",
   "execution_count": null,
   "id": "b1b0f921-6465-42a0-9b66-bff29287e08b",
   "metadata": {},
   "outputs": [],
   "source": [
    "## Informações gerais\n",
    "#df.info()\n",
    "\n",
    "### Tipo do dado\n",
    "#df.dtypes\n",
    "\n",
    "### Quantas linhas tem o objeto?\n",
    "len(df)\n",
    "#df.count()\n"
   ]
  },
  {
   "cell_type": "code",
   "execution_count": null,
   "id": "7f09beab-730d-4f0d-84de-7761df220790",
   "metadata": {},
   "outputs": [],
   "source": [
    "## Primeiras 5 linhas \n",
    "df.head()"
   ]
  },
  {
   "cell_type": "code",
   "execution_count": null,
   "id": "7231fa94-10d8-4c50-a2b4-936a3b48610b",
   "metadata": {},
   "outputs": [],
   "source": [
    "#genero = data['genres'][0]\n",
    "#genero['id']\n",
    "#df['native_name'][0]"
   ]
  },
  {
   "cell_type": "markdown",
   "id": "119e1103-a73b-45bc-8be7-5637ca05c82b",
   "metadata": {},
   "source": [
    "## Cargos e departamentos\n",
    "\n",
    "    endpoint = \"3/configuration/jobs\""
   ]
  },
  {
   "cell_type": "code",
   "execution_count": null,
   "id": "4319082f-0ece-4b9b-b7f1-7b1d56b5f13c",
   "metadata": {},
   "outputs": [],
   "source": [
    "# Colunas\n",
    "#df.columns\n",
    "#df['jobs']\n",
    "df['department'][0]\n",
    "departamento = df['department']\n",
    "departamento\n",
    "#df['jobs']\n",
    "\n",
    "#df['jobs'][0]"
   ]
  },
  {
   "cell_type": "code",
   "execution_count": null,
   "id": "b95ee7f5-f303-4fa3-8682-639a9198b428",
   "metadata": {},
   "outputs": [],
   "source": [
    "# Trabalhos por departamento\n",
    "\n",
    "## Objeto de análise\n",
    "for _ in departamento:\n",
    "    if _ == 'Directing':\n",
    "        indice = departamento[departamento == 'Directing'].index[0]\n",
    "        \n",
    "        ## Saída\n",
    "        df['jobs'][indice]\n",
    "        "
   ]
  },
  {
   "cell_type": "markdown",
   "id": "0b70be93-f1c6-4d9f-a005-1e34baa7b3d5",
   "metadata": {
    "tags": []
   },
   "source": [
    "## Recolhendo os dados de interesse"
   ]
  },
  {
   "cell_type": "markdown",
   "id": "1f7974eb-e651-43f4-829c-1e7454a350d8",
   "metadata": {
    "jp-MarkdownHeadingCollapsed": true,
    "tags": []
   },
   "source": [
    "### País"
   ]
  },
  {
   "cell_type": "code",
   "execution_count": null,
   "id": "532427f7-1e1c-4cc7-bae5-a728eb1a6d42",
   "metadata": {},
   "outputs": [],
   "source": [
    "# Brasil | Visualização de dados \n",
    "#display(data)\n",
    "#df['english_name']\n",
    "#df['native_name']\n",
    "#df_sigla = df['iso_3166_1']\n",
    "#df_sigla[2]\n",
    "#df['native_name'][_]\n",
    "\n",
    "## Loop para verificar se é o objeto de interesse\n",
    "for _ in df_sigla:\n",
    "    if _ == 'BR':\n",
    "        indice = df_sigla[df_sigla == 'BR'].index[0]\n",
    "        df['native_name'][indice]\n",
    "        "
   ]
  }
 ],
 "metadata": {
  "kernelspec": {
   "display_name": "Python 3 (ipykernel)",
   "language": "python",
   "name": "python3"
  },
  "language_info": {
   "codemirror_mode": {
    "name": "ipython",
    "version": 3
   },
   "file_extension": ".py",
   "mimetype": "text/x-python",
   "name": "python",
   "nbconvert_exporter": "python",
   "pygments_lexer": "ipython3",
   "version": "3.12.2"
  }
 },
 "nbformat": 4,
 "nbformat_minor": 5
}
