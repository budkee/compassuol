{
 "cells": [
  {
   "cell_type": "markdown",
   "id": "d8a0baf2-c0d2-4b9b-80d8-fc7f944e57ae",
   "metadata": {},
   "source": [
    "# Desafio 02\n",
    "\n",
    "- **Objetivo:** enriquecer o data lake"
   ]
  },
  {
   "cell_type": "markdown",
   "id": "24933036-b2f4-48e1-8f83-45ff5049f9fd",
   "metadata": {},
   "source": [
    "## Script Final"
   ]
  },
  {
   "cell_type": "code",
   "execution_count": 1,
   "id": "c26e83f7-e3fa-421c-81e1-9883b82dee59",
   "metadata": {},
   "outputs": [
    {
     "name": "stdout",
     "output_type": "stream",
     "text": [
      "Starting Spark application\n"
     ]
    },
    {
     "data": {
      "text/html": [
       "<table>\n",
       "<tr><th>ID</th><th>YARN Application ID</th><th>Kind</th><th>State</th><th>Spark UI</th><th>Driver log</th><th>User</th><th>Current session?</th></tr><tr><td>0</td><td>None</td><td>pyspark</td><td>idle</td><td></td><td></td><td>None</td><td>✔</td></tr></table>"
      ],
      "text/plain": [
       "<IPython.core.display.HTML object>"
      ]
     },
     "metadata": {},
     "output_type": "display_data"
    },
    {
     "data": {
      "application/vnd.jupyter.widget-view+json": {
       "model_id": "",
       "version_major": 2,
       "version_minor": 0
      },
      "text/plain": [
       "FloatProgress(value=0.0, bar_style='info', description='Progress:', layout=Layout(height='25px', width='50%'),…"
      ]
     },
     "metadata": {},
     "output_type": "display_data"
    },
    {
     "name": "stdout",
     "output_type": "stream",
     "text": [
      "SparkSession available as 'spark'.\n"
     ]
    },
    {
     "data": {
      "application/vnd.jupyter.widget-view+json": {
       "model_id": "",
       "version_major": 2,
       "version_minor": 0
      },
      "text/plain": [
       "FloatProgress(value=0.0, bar_style='info', description='Progress:', layout=Layout(height='25px', width='50%'),…"
      ]
     },
     "metadata": {},
     "output_type": "display_data"
    }
   ],
   "source": [
    "import os # Sistema operacional \n",
    "import sys # Funções e variáveis da shell do Python\n",
    "#import getopt # Criação de opções de entrada pela CLI\n",
    "import json\n",
    "import requests\n",
    "import pandas as pd\n",
    "from IPython.display import display\n",
    "\n",
    "# Spark\n",
    "import pyspark  \n",
    "from pyspark import SparkContext \n",
    "from pyspark.sql import SparkSession \n",
    "from pyspark.sql.functions import * \n"
   ]
  },
  {
   "cell_type": "code",
   "execution_count": null,
   "id": "31264df4-e438-4d24-802f-2dbb0a5d085f",
   "metadata": {},
   "outputs": [],
   "source": [
    "# Execução passando o nome da tarefa, o caminho S3 do arquivo de entrada e o caminho S3 do arquivo de saída\n",
    "\n",
    "# Job\n",
    "if __name__ == \"__main__\":"
   ]
  },
  {
   "cell_type": "code",
   "execution_count": 2,
   "id": "76b201a1-a410-4a9c-ba4a-ac9a0e605da7",
   "metadata": {},
   "outputs": [
    {
     "data": {
      "application/vnd.jupyter.widget-view+json": {
       "model_id": "",
       "version_major": 2,
       "version_minor": 0
      },
      "text/plain": [
       "FloatProgress(value=0.0, bar_style='info', description='Progress:', layout=Layout(height='25px', width='50%'),…"
      ]
     },
     "metadata": {},
     "output_type": "display_data"
    },
    {
     "name": "stdout",
     "output_type": "stream",
     "text": [
      "Foram encontrados 15 filmes de ação/aventura!\n",
      "Dados exportados para dados_api.json"
     ]
    }
   ],
   "source": [
    "# Autorização API\n",
    "api_key = \"$YOUR_API_KEY\"\n",
    "\n",
    "headers = {\n",
    "    \"accept\": \"application/json\",\n",
    "    \"Authorization\": \"$AUTH_BEARER\"\n",
    "}\n",
    "## Parâmetros\n",
    "parametros = \"include_adult=false&include_video=false&language=pt-BR\"\n",
    "\n",
    "## Lista de Filmes\n",
    "filmes = []\n",
    "endpoint = \"3/discover/movie\"\n",
    "\n",
    "# Declarações de Entradas e Saídas\n",
    "url = f\"https://api.themoviedb.org/{endpoint}?api_key={api_key}&{parametros}\"\n",
    "output_path = \"/home/glue_user/workspace/arq_saida\"\n",
    "\n",
    "# Requisição e coleta\n",
    "response = requests.get(url)\n",
    "\n",
    "if response.status_code == 200:\n",
    "    \n",
    "    dados_api = response.json()\n",
    "    df = pd.DataFrame(dados_api)\n",
    "    filmes = df['results']\n",
    "    filmes_aa = []\n",
    "    id_acao = 28\n",
    "    id_aventura = 12\n",
    "    num = 0\n",
    "    \n",
    "    for filme in filmes:\n",
    "    \n",
    "        genre_ids = filme.get(\"genre_ids\", [])\n",
    "        \n",
    "        # Verifique se o filme pertence a ação ou aventura\n",
    "        if id_acao in genre_ids or id_aventura in genre_ids:\n",
    "            filmes_aa.append(filme)\n",
    "            num += 1\n",
    "    \n",
    "    print(f\"Foram encontrados {len(filmes_aa)} filmes de ação/aventura!\")\n",
    "    \n",
    "    ## Exportando pro arquivo json\n",
    "    dados_api = \"dados_api.json\"\n",
    "\n",
    "    with open(dados_api, 'w') as arquivo_json:\n",
    "        json.dump(filmes_aa, arquivo_json)\n",
    "\n",
    "    print(f'Dados exportados para {dados_api}')\n",
    "    #display(filmes_aa)\n",
    "    \n",
    "else:\n",
    "    print(f'Erro na solicitação: {response.status_code}')\n",
    "\n"
   ]
  },
  {
   "cell_type": "code",
   "execution_count": 3,
   "id": "b8533a6c-61e5-4101-a154-b4aae043b8d5",
   "metadata": {},
   "outputs": [
    {
     "data": {
      "application/vnd.jupyter.widget-view+json": {
       "model_id": "",
       "version_major": 2,
       "version_minor": 0
      },
      "text/plain": [
       "FloatProgress(value=0.0, bar_style='info', description='Progress:', layout=Layout(height='25px', width='50%'),…"
      ]
     },
     "metadata": {},
     "output_type": "display_data"
    },
    {
     "name": "stdout",
     "output_type": "stream",
     "text": [
      "[{'adult': False, 'backdrop_path': '/628Dep6AxEtDxjZoGP78TsOxYbK.jpg', 'genre_ids': [28, 53], 'id': 575264, 'original_language': 'en', 'original_title': 'Mission: Impossible - Dead Reckoning Part One', 'overview': 'Ethan Hunt e sua equipe embarcam em sua missão mais perigosa: rastrear uma nova arma aterrorizante que ameaça toda a humanidade antes que caia em mãos erradas. Com o controle do futuro e o destino do mundo em jogo e as forças sombrias do passado de Ethan se aproximando, uma corrida mortal ao redor do globo começa. Confrontado por um inimigo misterioso e todo-poderoso, Ethan é forçado a considerar que nada pode importar mais do que sua missão – nem mesmo a vida daqueles com quem ele mais se importa.', 'popularity': 1624.102, 'poster_path': '/8hjno4uE19pm0qlfUDcM8e5WK13.jpg', 'release_date': '2023-07-08', 'title': 'Missão: Impossível - Acerto de Contas Parte 1', 'video': False, 'vote_average': 7.6, 'vote_count': 2373}, {'adult': False, 'backdrop_path': '/rMvPXy8PUjj1o8o1pzgQbdNCsvj.jpg', 'genre_ids': [28, 12, 53], 'id': 299054, 'original_language': 'en', 'original_title': 'Expend4bles', 'overview': 'Os Mercenários enfrentam um traficante de armas que comanda o poder de um enorme exército privado.', 'popularity': 1362.272, 'poster_path': '/dQxlUkhKGILgq9jbVEe3WPaiW2q.jpg', 'release_date': '2023-09-15', 'title': 'Os Mercenários 4', 'video': False, 'vote_average': 6.5, 'vote_count': 691}, {'adult': False, 'backdrop_path': '/pA3vdhadJPxF5GA1uo8OPTiNQDT.jpg', 'genre_ids': [28, 18], 'id': 678512, 'original_language': 'en', 'original_title': 'Sound of Freedom', 'overview': 'A história de Tim Ballard, um ex-agente do governo dos EUA, que largou seu emprego para dedicar sua vida a resgatar crianças de traficantes sexuais globais.', 'popularity': 1017.896, 'poster_path': '/hwOHbymoAhjrMx7v5ShHCNIP4NI.jpg', 'release_date': '2023-07-03', 'title': 'Som da Liberdade', 'video': False, 'vote_average': 8.1, 'vote_count': 1400}, {'adult': False, 'backdrop_path': '/4XM8DUTQb3lhLemJC51Jx4a2EuA.jpg', 'genre_ids': [28, 80, 53], 'id': 385687, 'original_language': 'en', 'original_title': 'Fast X', 'overview': 'O fim da estrada está chegando. Velozes & Furiosos 10, é o décimo filme da franquia Velozes & Furiosos, lança os capítulos finais de uma grande saga, uma das mais famosas e populares do cinema, agora com sua terceira década e ainda mais forte. Com o mesmo elenco e personagens principais de quando começou. Ao longo de muitas missões e lutando contra todos os obstáculos impossíveis, Dom Toretto (Vin Diesel) e sua família foram mais espertos, mais furiosos e mais rápidos do que todos os inimigos em seu caminho. Agora, eles enfrentam o seu oponente mais letal: uma ameaça terrível das sombras do passado, alimentada por sede de vingança e determinada a destruir esta família.', 'popularity': 948.841, 'poster_path': '/wDWAA5QApz5L5BKfFaaj8HJCAQM.jpg', 'release_date': '2023-05-17', 'title': 'Velozes & Furiosos 10', 'video': False, 'vote_average': 7.2, 'vote_count': 4239}, {'adult': False, 'backdrop_path': '/feSiISwgEpVzR1v3zv2n2AU4ANJ.jpg', 'genre_ids': [28, 12, 878], 'id': 609681, 'original_language': 'en', 'original_title': 'The Marvels', 'overview': 'Quando suas obrigações a levam a uma fenda espacial anômala ligada a um revolucionário Kree, os poderes de Carol Danvers, a Capitã Marvel, se entrelaçam aos de Kamala Khan, a Ms. Marvel, e aos da sobrinha de Carol, astronauta da S.A.B.E.R., Capitã Monica Rambeau. Juntas, esse trio improvável deve ser unir para salvar o universo como \"As Marvels\".', 'popularity': 856.703, 'poster_path': '/sPmmgdmApfjX9x2mg02bo0aUOU9.jpg', 'release_date': '2023-11-08', 'title': 'As Marvels', 'video': False, 'vote_average': 6.6, 'vote_count': 348}, {'adult': False, 'backdrop_path': '/tC78Pck2YCsUAtEdZwuHYUFYtOj.jpg', 'genre_ids': [28, 53, 80], 'id': 926393, 'original_language': 'en', 'original_title': 'The Equalizer 3', 'overview': 'Sentindo-se em casa no sul da Itália, o ex-agente Robert McCall logo descobre que seus novos amigos estão sob o controle dos chefes do crime local.  À medida que os acontecimentos se tornam mortais, McCall sabe o que tem de fazer: tornar-se o protetor dos seus amigos, enfrentando a máfia.', 'popularity': 770.584, 'poster_path': '/AnJOKbSQsp0QqiUhsQooqFRjPsD.jpg', 'release_date': '2023-08-30', 'title': 'O Protetor: Capítulo Final', 'video': False, 'vote_average': 7.4, 'vote_count': 1586}, {'adult': False, 'backdrop_path': '/tj7mp7uWjVw5N73G5Hwm1bkMOcD.jpg', 'genre_ids': [28, 10752], 'id': 975902, 'original_language': 'en', 'original_title': 'Boudica', 'overview': 'Boudica governa o povo Iceniano com seu marido, Prasutagus. O rei morre nas mãos de soldados romanos, deixando o reino de Boudica sem um herdeiro do sexo masculino, e os romanos se apoderam de suas terras e propriedades.', 'popularity': 696.765, 'poster_path': '/ohCOQcyNaK08And0ReE5rHle9SE.jpg', 'release_date': '2023-10-26', 'title': 'Boudica', 'video': False, 'vote_average': 6.4, 'vote_count': 75}, {'adult': False, 'backdrop_path': '/usKCKmo1UcVsz0t3NNbkPXCmyk1.jpg', 'genre_ids': [28, 18, 80], 'id': 823395, 'original_language': 'en', 'original_title': 'The Baker', 'overview': 'Um homem quieto e estóico, vive uma existência de monge em um exílio auto-imposto. Quando seu filho afastado é morto em um negócio de drogas que deu errado, ele fica encarregado de cuidar de uma neta que ele nunca soube que existia e é forçado a voltar a uma vida que tentou deixar para trás.', 'popularity': 669.936, 'poster_path': '/ApRW9CPK83fF4KCXPR00KCzXOjL.jpg', 'release_date': '2023-07-27', 'title': 'O Padeiro', 'video': False, 'vote_average': 6.7, 'vote_count': 24}, {'adult': False, 'backdrop_path': '/eSsMzJpzAwCa69tm6Wco2il44aJ.jpg', 'genre_ids': [28, 80, 18, 53], 'id': 939335, 'original_language': 'en', 'original_title': 'Muzzle', 'overview': '', 'popularity': 661.786, 'poster_path': '/qXChf7MFL36BgoLkiB3BzXiwW82.jpg', 'release_date': '2023-09-29', 'title': 'Muzzle', 'video': False, 'vote_average': 6.7, 'vote_count': 119}, {'adult': False, 'backdrop_path': '/3H9NA1KWEQN0ItL3Wl3SFZYP6yV.jpg', 'genre_ids': [28, 878, 12], 'id': 565770, 'original_language': 'en', 'original_title': 'Blue Beetle', 'overview': 'Jaime Reyes, um adolescente de origem mexicana que encontra um artefato alienígena que lhe dá um exoesqueleto mecanizado e poderes, tornando-o no Besouro Azul.', 'popularity': 646.083, 'poster_path': '/y5sdkgO4IJMTnkjh9PG7kREPWrP.jpg', 'release_date': '2023-08-16', 'title': 'Besouro Azul', 'video': False, 'vote_average': 7, 'vote_count': 1562}, {'adult': False, 'backdrop_path': '/iiXliCeykkzmJ0Eg9RYJ7F2CWSz.jpg', 'genre_ids': [28, 53, 80], 'id': 762430, 'original_language': 'en', 'original_title': 'Retribution', 'overview': 'Com seus filhos presos no banco de trás e uma bomba que explodirá se eles saírem do carro, um trajeto normal se torna um jogo distorcido de vida ou morte enquanto Matt Turner segue as instruções cada vez mais perigosas de um estranho em uma corrida contra o tempo para salvar sua  família.', 'popularity': 619.953, 'poster_path': '/eqaSh2PjYcGpS6rybz6UjLNuvrg.jpg', 'release_date': '2023-08-23', 'title': 'A Chamada', 'video': False, 'vote_average': 7, 'vote_count': 656}, {'adult': False, 'backdrop_path': '/r7DuyYJ0N3cD8bRKsR5Ygq2P7oa.jpg', 'genre_ids': [12, 28, 18], 'id': 980489, 'original_language': 'en', 'original_title': 'Gran Turismo', 'overview': 'Baseado na história de Jann Mardenborough, e relata a trajetória de um jogador de videogame que utilizou suas habilidades nos simuladores para se tornar um piloto profissional de verdade.', 'popularity': 606.191, 'poster_path': '/qU60nhBRbKU23gIGrZi2CvUj6MQ.jpg', 'release_date': '2023-08-09', 'title': 'Gran Turismo: De Jogador a Corredor', 'video': False, 'vote_average': 8, 'vote_count': 1402}, {'adult': False, 'backdrop_path': '/wVTvfxz53pDqrIvbrxhVdKcLhip.jpg', 'genre_ids': [28, 12, 878, 53], 'id': 9381, 'original_language': 'en', 'original_title': 'Babylon A.D.', 'overview': 'Toorop é um mercenário que segue como código de sobrevivência o lema matar ou morrer. Ele é contratado para escoltar Aurora, que vive em um convento no Cazaquistão, para Nova York. Juntamente com a irmã Rebeka, protetora de Aurora, eles atravessam o território conhecido como a \"nova Rússia\" para chegar ao estreito de Bhering, por onde pretendem entrar na América do Norte.', 'popularity': 543.979, 'poster_path': '/hv5pWWC6wNBz3HRAWk3QXV8pHU8.jpg', 'release_date': '2008-08-20', 'title': 'Missão Babilônia', 'video': False, 'vote_average': 5.6, 'vote_count': 1897}, {'adult': False, 'backdrop_path': '/5mzr6JZbrqnqD8rCEvPhuCE5Fw2.jpg', 'genre_ids': [28, 878, 27], 'id': 615656, 'original_language': 'en', 'original_title': 'Meg 2: The Trench', 'overview': 'Um mergulho exploratório nas profundezas do oceano de uma ousada equipe de pesquisa se transforma em caos quando uma operação de mineração malévola ameaça sua missão e os força a uma batalha de alto risco pela sobrevivência.', 'popularity': 540.988, 'poster_path': '/klGKGITBYYyTiHrph1VDSgGULOR.jpg', 'release_date': '2023-08-02', 'title': 'Megatubarão 2', 'video': False, 'vote_average': 6.8, 'vote_count': 2516}, {'adult': False, 'backdrop_path': '/nohrh9aHNB1ehXmdtTZV5vStzcs.jpg', 'genre_ids': [28, 35, 80], 'id': 1000081, 'original_language': 'fr', 'original_title': 'Sentinelle', 'overview': 'François Sentinelle tem uma vida dupla. Durante o dia, ele é o policial mais famoso da Ilha da Reunião, conhecido por suas abordagens rígidas e camisas floridas, perseguindo criminosos em seu famoso Defender amarelo. Mas, no restante do tempo, Sentinelle também é um charmoso cantor.', 'popularity': 528.305, 'poster_path': '/wrFg0Q1kqfOhxlRvb8Dle7WF58F.jpg', 'release_date': '2023-08-27', 'title': 'Sentinelle: Desafinando em Dobro', 'video': False, 'vote_average': 5.3, 'vote_count': 192}]"
     ]
    }
   ],
   "source": [
    "display(filmes_aa)"
   ]
  },
  {
   "cell_type": "code",
   "execution_count": null,
   "id": "4390fc37-c568-4c9e-90da-70fe593c184c",
   "metadata": {},
   "outputs": [],
   "source": [
    "# Criação do dataframe\n",
    "#esquema = \"nome STRING, sexo STRING, total INT, ano INT\"\n",
    "#nomes = spark.read.csv(sys.argv[1:], header=True, schema=esquema)\n",
    "#df = spark.read.json(input_path)\n",
    "df = pd.createDataFrame(input_path)\n"
   ]
  },
  {
   "cell_type": "code",
   "execution_count": null,
   "id": "ec5c10b0-ad2a-499d-986d-9946d5a3ae49",
   "metadata": {},
   "outputs": [],
   "source": [
    "# Explorando os dados de entrada: \n",
    "## Análise 1: Contagem das linhas do DataFrame\n",
    "linhas = nomes.count()\n"
   ]
  },
  {
   "cell_type": "code",
   "execution_count": null,
   "id": "ee3e4bee-f9a0-45bf-b960-8388d9c89244",
   "metadata": {},
   "outputs": [],
   "source": [
    "## Task 1: Colocar os valores da coluna 'nome' em Maiúsculo\n",
    "#from pyspark.sql.functions import upper\n",
    "#nome_maiusc_col = nomes.withColumn(\"nome\", upper(nomes[\"nome\"]))\n",
    "df_transformado = df.withColumn(\"coluna\" \"\"\", expr(\"função de transformação\")\"\"\")\n"
   ]
  },
  {
   "cell_type": "code",
   "execution_count": null,
   "id": "930e434b-322a-4b22-8d9b-435a547de467",
   "metadata": {},
   "outputs": [],
   "source": [
    "# Saída do Job | Sem partição\n",
    "\n",
    "df_transformado.write.format(\"json\").save(output_path)\n",
    "print(\"O arquivo foi gerado em glue_jupyter_lab:/{}\".format(output_path))\n",
    "\n",
    "#nome_maiusc_col.write.format(\"console\").save()\n"
   ]
  },
  {
   "cell_type": "code",
   "execution_count": null,
   "id": "38cf3b03-4cc1-495b-a882-6858ca929392",
   "metadata": {},
   "outputs": [],
   "source": [
    "# Saída do job por variável | Com partição\n",
    "df_transformado.write.partitionBy(\"var_1\", \"var_2\").json(output_path)\n"
   ]
  },
  {
   "cell_type": "code",
   "execution_count": null,
   "id": "740bd572-f6ca-44a6-9fce-68d4085e7789",
   "metadata": {},
   "outputs": [],
   "source": [
    "# Fim da aplicação\n",
    "#spark.stop()"
   ]
  }
 ],
 "metadata": {
  "kernelspec": {
   "display_name": "PySpark",
   "language": "python",
   "name": "pysparkkernel"
  },
  "language_info": {
   "codemirror_mode": {
    "name": "python",
    "version": 3
   },
   "file_extension": ".py",
   "mimetype": "text/x-python",
   "name": "pyspark",
   "pygments_lexer": "python3"
  }
 },
 "nbformat": 4,
 "nbformat_minor": 5
}
