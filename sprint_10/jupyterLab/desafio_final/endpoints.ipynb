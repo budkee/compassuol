{
 "cells": [
  {
   "cell_type": "markdown",
   "id": "36d44691-f442-4dcc-a1ab-f2ebeb993bac",
   "metadata": {},
   "source": [
    "# Trabalhando com Endpoints\n",
    "\n",
    "- [Documentação API | TMDB](https://developer.themoviedb.org/docs/finding-data)\n",
    "- [API Reference | TMDB](https://developer.themoviedb.org/reference/)"
   ]
  },
  {
   "cell_type": "markdown",
   "id": "dc23b0a7-97c2-43ff-a708-f0d23573c5ae",
   "metadata": {
    "jp-MarkdownHeadingCollapsed": true,
    "tags": []
   },
   "source": [
    "## Chamadas HTTP\n",
    "\n",
    "- GET: Usado para recuperar dados de um recurso.\n",
    "- POST: Usado para enviar dados e criar um novo recurso.\n",
    "- PUT: Usado para atualizar um recurso inteiramente.\n",
    "- DELETE: Usado para remover um recurso.\n",
    "- PATCH: Usado para fazer modificações parciais em um recurso existente.\n",
    "- OPTIONS: Usado para obter informações sobre os métodos suportados pelo servidor."
   ]
  },
  {
   "cell_type": "markdown",
   "id": "4f5fc266-3fed-4ca8-9892-42771e809b0e",
   "metadata": {
    "jp-MarkdownHeadingCollapsed": true,
    "tags": []
   },
   "source": [
    "### GET\n",
    "\n",
    "- Pega uma informação pra mim, por favor."
   ]
  },
  {
   "cell_type": "markdown",
   "id": "084f0cc3-b32d-4546-b71e-c2e17455be23",
   "metadata": {
    "tags": []
   },
   "source": [
    "### Template de Código\n",
    "    import requests\n",
    "\n",
    "    # Defina a URL da sua API\n",
    "    url = 'https://exemplo.com/api/endpoint'\n",
    "    \n",
    "    # Realize a chamada GET\n",
    "    response = requests.get(url)\n",
    "\n",
    "    # Verifique o código de status da resposta\n",
    "    if response.status_code == 200:\n",
    "        print('Sucesso!')\n",
    "        print(response.json()) # Se a resposta for em formato JSON\n",
    "    else:\n",
    "        print('Erro:', response.status_code)\n",
    "        print(response.text) # Exibir a resposta em caso de erro"
   ]
  },
  {
   "cell_type": "code",
   "execution_count": 15,
   "id": "1023a804-271c-414a-a810-f32296c931b8",
   "metadata": {
    "tags": []
   },
   "outputs": [],
   "source": [
    "import requests\n",
    "import pandas as pd"
   ]
  },
  {
   "cell_type": "code",
   "execution_count": 16,
   "id": "1eac518b-af45-4eb2-ad27-f34111d116cb",
   "metadata": {},
   "outputs": [],
   "source": [
    "from IPython.display import display"
   ]
  },
  {
   "cell_type": "code",
   "execution_count": 48,
   "id": "22cc46ff-da4a-44fd-a8b5-37546c43b009",
   "metadata": {},
   "outputs": [],
   "source": [
    "api_key = \"$YOUR_API_KEY\"\n",
    "\n",
    "endpoint = \"3/configuration/jobs\"\n",
    "\n",
    "url = f\"https://api.themoviedb.org/{endpoint}?api_key={api_key}&language=pt-BR\""
   ]
  },
  {
   "cell_type": "code",
   "execution_count": 49,
   "id": "7a320e37-09ef-4ff2-9f92-93e713988e29",
   "metadata": {},
   "outputs": [],
   "source": [
    "# Realize a chamada GET\n",
    "response = requests.get(url)"
   ]
  },
  {
   "cell_type": "code",
   "execution_count": 60,
   "id": "872eadde-d5ff-4033-b507-d8b0aba45eb2",
   "metadata": {},
   "outputs": [],
   "source": [
    "# Declare a variável dos dados\n",
    "data = response.json()\n",
    "type(data)\n",
    "\n",
    "# Todos os departamentos\n",
    "departamentos = list(map(lambda x: x['department'], data))"
   ]
  },
  {
   "cell_type": "code",
   "execution_count": 61,
   "id": "0fd6cd42-750d-491a-a1d8-731abdde477e",
   "metadata": {},
   "outputs": [
    {
     "data": {
      "text/plain": [
       "['Lighting',\n",
       " 'Directing',\n",
       " 'Crew',\n",
       " 'Production',\n",
       " 'Costume & Make-Up',\n",
       " 'Actors',\n",
       " 'Writing',\n",
       " 'Art',\n",
       " 'Camera',\n",
       " 'Editing',\n",
       " 'Sound',\n",
       " 'Visual Effects']"
      ]
     },
     "metadata": {},
     "output_type": "display_data"
    }
   ],
   "source": [
    "display(departamentos)"
   ]
  },
  {
   "cell_type": "code",
   "execution_count": 43,
   "id": "9d0ef1e8-9c16-412a-bbd0-bcfc4033e9f2",
   "metadata": {},
   "outputs": [
    {
     "name": "stdout",
     "output_type": "stream",
     "text": [
      "Sucesso!\n",
      "<class 'dict'>\n"
     ]
    }
   ],
   "source": [
    "# Verifique o código de status da resposta\n",
    "if response.status_code == 200:\n",
    "    print('Sucesso!')\n",
    "    print(type(data)) # Se a resposta for em formato JSON\n",
    "    \n",
    "    # Faça algo com os dados coletados, como armazená-los em um banco de dados ou arquivo (Persistência).\n",
    "else:\n",
    "    print('Erro:', response.status_code)\n",
    "    print(response.text) # Exibir a resposta em caso de erro"
   ]
  },
  {
   "cell_type": "markdown",
   "id": "d964f472-08d6-4abe-a3c2-c6756a52b843",
   "metadata": {
    "tags": []
   },
   "source": [
    "## Endpoints\n",
    "\n",
    "- São operações que podemos executar através de uma API.\n",
    "- Elas são realizadas através da sua URL própria, com o padrão variando de API para API.\n",
    "\n",
    "### Padrão do TMDB\n",
    "\n",
    "    https://api.themoviedb.org/3/{endpoint}?api_key={sua_chave_de_api}&{parâmetros_opcionais}\n",
    "    https://api.themoviedb.org/3/discover/movie\n"
   ]
  }
 ],
 "metadata": {
  "kernelspec": {
   "display_name": "Python 3 (ipykernel)",
   "language": "python",
   "name": "python3"
  },
  "language_info": {
   "codemirror_mode": {
    "name": "ipython",
    "version": 3
   },
   "file_extension": ".py",
   "mimetype": "text/x-python",
   "name": "python",
   "nbconvert_exporter": "python",
   "pygments_lexer": "ipython3",
   "version": "3.10.2"
  }
 },
 "nbformat": 4,
 "nbformat_minor": 5
}
