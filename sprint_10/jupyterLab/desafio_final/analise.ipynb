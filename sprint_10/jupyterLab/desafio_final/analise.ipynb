{
 "cells": [
  {
   "cell_type": "markdown",
   "id": "1bdfc03d-2e91-49ca-83da-8a364dd6bcf1",
   "metadata": {},
   "source": [
    "# Análise \n",
    "\n",
    "- Caderno reservado para desenvolvimento da análise do conjunto de dados referente a filmes e séries nos gêneros de `ação` e `aventura`."
   ]
  },
  {
   "cell_type": "markdown",
   "id": "e9fcfc18-6b46-4465-89b6-acd9e91822b8",
   "metadata": {},
   "source": [
    "## Escopo\n",
    "\n",
    "### O que você irá analisar?\n",
    "\n",
    "- Dados referente aos filmes e séries de ação e aventura.\n",
    "\n",
    "### Como irá analisar?\n",
    "\n",
    "Os recortes serão por:\n",
    "\n",
    "- faturamento: receita - orçamento \n",
    "\n",
    "### Qual mensagem quer passar/espera passar?\n",
    "\n",
    "Dentro do sistema capitalista, branco, cis e heteronormativo no qual estamos inseridos, existe a tendência a favorecer indivíduos que naturalmente possuem esses atributos sociais. Os exemplos que mais escutamos falar é sobre a média de faturamento  \n",
    "Do conjunto de dados que trabalhamos nos últimos `X` meses, temos que de `Y` filmes, `y` apresentam um elenco com `Z%` do gênero masculino, em comparação a `W%` do gênero feminino, onde apenas `w%` representam o gênero não-binário.\n",
    "\n",
    "Assim, através desta análise, pretendo argumentar que a meritocracia é um conceito que, quando mal colocado/contextualizado, apresenta-se como uma romantização para pessoas que não apresentam as características sociais do sistema que estamos inseridos. Deste modo, o público no qual, sistemáticamente falando, possuem como atributos sociais (i) gênero masculino, vão continuar recebendo maiores oportunidades, salários e, consequentemente, terão melhores condições de vida. \n",
    "\n",
    "Tem muito branco, cis, heteronormativo no mundo ganhando dinheiro e poucos negros, cis ou trans\n",
    "como a presença ou ausência das comunidades lgbtqiapn+ afetaram ou não o faturamento anual da empresa? "
   ]
  },
  {
   "cell_type": "code",
   "execution_count": null,
   "id": "cfa06bed-90a1-44c3-bb34-6ca926a6e53d",
   "metadata": {},
   "outputs": [],
   "source": []
  }
 ],
 "metadata": {
  "kernelspec": {
   "display_name": "PySpark",
   "language": "python",
   "name": "pysparkkernel"
  },
  "language_info": {
   "codemirror_mode": {
    "name": "python",
    "version": 3
   },
   "file_extension": ".py",
   "mimetype": "text/x-python",
   "name": "pyspark",
   "pygments_lexer": "python3"
  }
 },
 "nbformat": 4,
 "nbformat_minor": 5
}
