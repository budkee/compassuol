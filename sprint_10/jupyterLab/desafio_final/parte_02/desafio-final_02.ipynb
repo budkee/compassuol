{
 "cells": [
  {
   "cell_type": "markdown",
   "id": "a6b655e2-7558-4fc2-9b50-81afac71c3bc",
   "metadata": {},
   "source": [
    "## Quais dados a API me fornece?\n",
    "\n",
    "- Lista de Filmes\n"
   ]
  },
  {
   "cell_type": "markdown",
   "id": "d7d6eb69-f789-41b1-bf5d-0c029fae2257",
   "metadata": {},
   "source": [
    "## Quais dados preciso para fortalecer meus argumentos?\n",
    "\n",
    "- [Cargos e Departamentos](https://developer.themoviedb.org/reference/configuration-jobs)\n",
    "- [Detalhes de uma pessoa](https://developer.themoviedb.org/reference/person-details)\n",
    "- []()"
   ]
  },
  {
   "cell_type": "code",
   "execution_count": null,
   "id": "b6f48599-611c-4f71-9930-f96259353405",
   "metadata": {},
   "outputs": [],
   "source": []
  }
 ],
 "metadata": {
  "kernelspec": {
   "display_name": "PySpark",
   "language": "python",
   "name": "pysparkkernel"
  },
  "language_info": {
   "codemirror_mode": {
    "name": "python",
    "version": 3
   },
   "file_extension": ".py",
   "mimetype": "text/x-python",
   "name": "pyspark",
   "pygments_lexer": "python3"
  }
 },
 "nbformat": 4,
 "nbformat_minor": 5
}
