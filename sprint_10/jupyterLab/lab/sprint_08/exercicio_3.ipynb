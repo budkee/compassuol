{
 "cells": [
  {
   "cell_type": "markdown",
   "id": "eca26956-984f-4be4-b6a8-5bc0a687d154",
   "metadata": {},
   "source": [
    "# Exercício 3 | Apache Spark\n",
    "\n",
    "- Geração de dados em massa."
   ]
  },
  {
   "cell_type": "markdown",
   "id": "62f82646-3ab4-40dc-bf0b-5350c1f88e74",
   "metadata": {
    "tags": []
   },
   "source": [
    "## Aquecimento 1\n",
    "\n",
    "- [x] Em Python, declare e inicialize uma lista contendo 250 inteiros obtidos de forma aleatória. Após, aplicar o método reverse sobre o conteúdo da lista e imprimir o resultado."
   ]
  },
  {
   "cell_type": "code",
   "execution_count": null,
   "id": "0c8e65fd-d91a-4dcb-aaee-7b4f8c4650c6",
   "metadata": {},
   "outputs": [],
   "source": [
    "import random\n",
    "\n",
    "lista = []"
   ]
  },
  {
   "cell_type": "code",
   "execution_count": null,
   "id": "9aaf468b-723d-441f-a56e-81258fbd0b81",
   "metadata": {},
   "outputs": [],
   "source": [
    "# Gerando os números\n",
    "gerar_numero_aleatorio = lambda: random.randint(1, 1000)"
   ]
  },
  {
   "cell_type": "code",
   "execution_count": null,
   "id": "a95134fd-822b-4dfa-af9a-cde454294244",
   "metadata": {},
   "outputs": [],
   "source": [
    "# Adicionando à lista\n",
    "for _ in range(250):\n",
    "    numero_aleatorio = gerar_numero_aleatorio()\n",
    "    lista.append(numero_aleatorio)"
   ]
  },
  {
   "cell_type": "code",
   "execution_count": null,
   "id": "d432bdaa-8726-4bab-aa0b-f0f743ae2a2c",
   "metadata": {},
   "outputs": [],
   "source": [
    "# Lista antes\n",
    "lista"
   ]
  },
  {
   "cell_type": "code",
   "execution_count": null,
   "id": "7410e217-1cb9-4f38-833d-91fea794013a",
   "metadata": {},
   "outputs": [],
   "source": [
    "# Método reverse: inverte a ordem dos elementos do vetor\n",
    "lista.reverse()"
   ]
  },
  {
   "cell_type": "code",
   "execution_count": null,
   "id": "1370470b-6706-4522-a25a-0e2355c0aa92",
   "metadata": {},
   "outputs": [],
   "source": [
    "# Lista depois\n",
    "print(lista)"
   ]
  },
  {
   "cell_type": "markdown",
   "id": "6fe95377-51a8-4496-83a9-f15ac4a8ea32",
   "metadata": {
    "tags": []
   },
   "source": [
    "## Aquecimento 2\n",
    "\n",
    "- [x] Em Python, declare e inicialize uma lista contendo o nome de 20 animais. Ordene-os em ordem crescente e itere sobre os itens, imprimindo um a um (você pode utilizar list comprehension aqui).  Na sequência, armazene o conteúdo da lista em um arquivo de texto, um item em cada linha, no formato CSV."
   ]
  },
  {
   "cell_type": "code",
   "execution_count": 39,
   "id": "f7cc7a13-3467-49a0-bf8d-27af36fc7c87",
   "metadata": {},
   "outputs": [
    {
     "data": {
      "application/vnd.jupyter.widget-view+json": {
       "model_id": "",
       "version_major": 2,
       "version_minor": 0
      },
      "text/plain": [
       "FloatProgress(value=0.0, bar_style='info', description='Progress:', layout=Layout(height='25px', width='50%'),…"
      ]
     },
     "metadata": {},
     "output_type": "display_data"
    }
   ],
   "source": [
    "import random\n",
    "import csv"
   ]
  },
  {
   "cell_type": "code",
   "execution_count": 61,
   "id": "c5ca59bb-d5f4-4f4d-8bc4-83369c44d161",
   "metadata": {},
   "outputs": [
    {
     "data": {
      "application/vnd.jupyter.widget-view+json": {
       "model_id": "",
       "version_major": 2,
       "version_minor": 0
      },
      "text/plain": [
       "FloatProgress(value=0.0, bar_style='info', description='Progress:', layout=Layout(height='25px', width='50%'),…"
      ]
     },
     "metadata": {},
     "output_type": "display_data"
    }
   ],
   "source": [
    "lista_animais = [\"Canguru\", \"Coala\", \"Hipopótamo\", \"Leão\", \"Jacaré\", \"Panda\", \"Urso\", \"Arara-canindé\", \"Tucano\", \"Koala\", \"Tatu-bola\", \"Cisne-negro\", \"Dragão-de-Komodo\", \"Vaca\", \"Porco\", \"Jaguatirica\", \"Pato\", \"Tubarão\", \"Aranha\", \"Camaleão\", \"Macaco\"]"
   ]
  },
  {
   "cell_type": "code",
   "execution_count": 42,
   "id": "48086758-105c-4ba7-8327-f1193de95830",
   "metadata": {},
   "outputs": [
    {
     "data": {
      "application/vnd.jupyter.widget-view+json": {
       "model_id": "",
       "version_major": 2,
       "version_minor": 0
      },
      "text/plain": [
       "FloatProgress(value=0.0, bar_style='info', description='Progress:', layout=Layout(height='25px', width='50%'),…"
      ]
     },
     "metadata": {},
     "output_type": "display_data"
    }
   ],
   "source": [
    "lista_ordenada = sorted(lista_animais)"
   ]
  },
  {
   "cell_type": "code",
   "execution_count": 64,
   "id": "495b7f65-1d76-4988-a2c2-363dbf55e1fb",
   "metadata": {},
   "outputs": [
    {
     "data": {
      "application/vnd.jupyter.widget-view+json": {
       "model_id": "",
       "version_major": 2,
       "version_minor": 0
      },
      "text/plain": [
       "FloatProgress(value=0.0, bar_style='info', description='Progress:', layout=Layout(height='25px', width='50%'),…"
      ]
     },
     "metadata": {},
     "output_type": "display_data"
    },
    {
     "name": "stdout",
     "output_type": "stream",
     "text": [
      "Aranha\n",
      "Arara-canindé\n",
      "Cisne-negro\n",
      "Cisne-negro\n",
      "Cisne-negro\n",
      "Dragão-de-Komodo\n",
      "Dragão-de-Komodo\n",
      "Jacaré\n",
      "Jacaré\n",
      "Macaco\n",
      "Panda\n",
      "Pato\n",
      "Tatu-bola\n",
      "Tatu-bola\n",
      "Tatu-bola\n",
      "Tubarão\n",
      "Urso\n",
      "Urso\n",
      "Vaca\n",
      "Vaca"
     ]
    }
   ],
   "source": [
    "# Com list comprehension\n",
    "lista_final = [print(animal) for animal in lista_ordenada]"
   ]
  },
  {
   "cell_type": "code",
   "execution_count": 43,
   "id": "497c95bf-39e8-4c13-9aa8-3710554042a2",
   "metadata": {},
   "outputs": [
    {
     "data": {
      "application/vnd.jupyter.widget-view+json": {
       "model_id": "",
       "version_major": 2,
       "version_minor": 0
      },
      "text/plain": [
       "FloatProgress(value=0.0, bar_style='info', description='Progress:', layout=Layout(height='25px', width='50%'),…"
      ]
     },
     "metadata": {},
     "output_type": "display_data"
    },
    {
     "name": "stdout",
     "output_type": "stream",
     "text": [
      "Aranha\n",
      "Arara-canindé\n",
      "Cisne-negro\n",
      "Cisne-negro\n",
      "Cisne-negro\n",
      "Dragão-de-Komodo\n",
      "Dragão-de-Komodo\n",
      "Jacaré\n",
      "Jacaré\n",
      "Macaco\n",
      "Panda\n",
      "Pato\n",
      "Tatu-bola\n",
      "Tatu-bola\n",
      "Tatu-bola\n",
      "Tubarão\n",
      "Urso\n",
      "Urso\n",
      "Vaca\n",
      "Vaca"
     ]
    }
   ],
   "source": [
    "# Sem list comprehension\n",
    "for animal in lista_ordenada:\n",
    "    print(animal)"
   ]
  },
  {
   "cell_type": "code",
   "execution_count": 45,
   "id": "2875d2c5-eda5-41cd-9188-047409b6b07b",
   "metadata": {},
   "outputs": [
    {
     "data": {
      "application/vnd.jupyter.widget-view+json": {
       "model_id": "",
       "version_major": 2,
       "version_minor": 0
      },
      "text/plain": [
       "FloatProgress(value=0.0, bar_style='info', description='Progress:', layout=Layout(height='25px', width='50%'),…"
      ]
     },
     "metadata": {},
     "output_type": "display_data"
    },
    {
     "name": "stdout",
     "output_type": "stream",
     "text": [
      "Arquivo fechado com sucesso!"
     ]
    }
   ],
   "source": [
    "with open('exercicio_3.csv', 'w', newline='') as arquivo:\n",
    "    \n",
    "    escrita = csv.writer(arquivo)\n",
    "\n",
    "    # Escreva os nomes dos animais no arquivo CSV\n",
    "    for animal in lista_ordenada:\n",
    "        escrita.writerow([animal])\n",
    "\n",
    "print('Arquivo fechado com sucesso!')"
   ]
  },
  {
   "cell_type": "markdown",
   "id": "4e27f2e0-d1fe-4e6d-9e68-bdbaab0717fa",
   "metadata": {
    "tags": []
   },
   "source": [
    "## Exercício proposto\n",
    "\n",
    "- [x] Elaborar um código Python para gerar um dataset de nomes de pessoas.\n",
    "    - [x] Instalar biblioteca names para geração de nomes aleatórios. O comando de instalação é `pip install names`.\n",
    "    - [x] Importar as bibliotecas `random`, `time`, `os` e `names` em seu código"
   ]
  },
  {
   "cell_type": "code",
   "execution_count": 53,
   "id": "1b0a4d7b-e183-45ab-8d15-797c56f54bd6",
   "metadata": {},
   "outputs": [
    {
     "data": {
      "application/vnd.jupyter.widget-view+json": {
       "model_id": "",
       "version_major": 2,
       "version_minor": 0
      },
      "text/plain": [
       "FloatProgress(value=0.0, bar_style='info', description='Progress:', layout=Layout(height='25px', width='50%'),…"
      ]
     },
     "metadata": {},
     "output_type": "display_data"
    }
   ],
   "source": [
    "import os\n",
    "import time\n",
    "import names\n",
    "import random"
   ]
  },
  {
   "cell_type": "markdown",
   "id": "94d688ee-b888-40a1-ad20-f80baea1e363",
   "metadata": {},
   "source": [
    "- [x] Definir os parâmetros para geração do dataset, ou seja, a quantidades de nomes aleatórios e a quantidade de nomes que devem ser únicos."
   ]
  },
  {
   "cell_type": "code",
   "execution_count": 54,
   "id": "5d583a4d-5f9a-414b-bc28-02f0d666bb05",
   "metadata": {},
   "outputs": [
    {
     "data": {
      "application/vnd.jupyter.widget-view+json": {
       "model_id": "",
       "version_major": 2,
       "version_minor": 0
      },
      "text/plain": [
       "FloatProgress(value=0.0, bar_style='info', description='Progress:', layout=Layout(height='25px', width='50%'),…"
      ]
     },
     "metadata": {},
     "output_type": "display_data"
    }
   ],
   "source": [
    "# Define a semente de aleatoriedade\n",
    "random.seed(40)\n",
    "qtd_nomes_unicos = 3000\n",
    "qtd_nomes_aleatorios = 10000000"
   ]
  },
  {
   "cell_type": "markdown",
   "id": "57804d63-1a6b-4ac1-a81c-0422995cb460",
   "metadata": {},
   "source": [
    "- [x] Gerar os nomes aleatórios."
   ]
  },
  {
   "cell_type": "code",
   "execution_count": 58,
   "id": "e50442aa-b135-4346-97e4-efc826afa45a",
   "metadata": {},
   "outputs": [
    {
     "data": {
      "application/vnd.jupyter.widget-view+json": {
       "model_id": "",
       "version_major": 2,
       "version_minor": 0
      },
      "text/plain": [
       "FloatProgress(value=0.0, bar_style='info', description='Progress:', layout=Layout(height='25px', width='50%'),…"
      ]
     },
     "metadata": {},
     "output_type": "display_data"
    },
    {
     "name": "stdout",
     "output_type": "stream",
     "text": [
      "Gerando 10000000 nomes aleatórios"
     ]
    }
   ],
   "source": [
    "# Auxiliar para pegar os nomes completos da lib\n",
    "aux=[]\n",
    "\n",
    "# Gerando nomes aleatórios\n",
    "for i in range(0, qtd_nomes_unicos):\n",
    "\n",
    "    aux.append(names.get_full_name())\n",
    "\n",
    "print(\"Gerando {} nomes aleatórios\".format(qtd_nomes_aleatorios))\n",
    "\n",
    "# Lista de nomes\n",
    "nomes=[]\n",
    "\n",
    "# Adicionando os nomes de forma pseudoaleatória\n",
    "for i in range(0,qtd_nomes_aleatorios):\n",
    "\n",
    "    nomes.append(random.choice(aux))"
   ]
  },
  {
   "cell_type": "markdown",
   "id": "ec268c7c-ce6d-445a-94ef-b01e633275d5",
   "metadata": {},
   "source": [
    "- [x] Gerar um arquivo de texto contendo todos os nomes, um a cada linha. O nome do arquivo deve ser nomes_aleatorios.txt"
   ]
  },
  {
   "cell_type": "code",
   "execution_count": 60,
   "id": "cca1051f-2311-44eb-9eb4-a648be69f487",
   "metadata": {},
   "outputs": [
    {
     "data": {
      "application/vnd.jupyter.widget-view+json": {
       "model_id": "",
       "version_major": 2,
       "version_minor": 0
      },
      "text/plain": [
       "FloatProgress(value=0.0, bar_style='info', description='Progress:', layout=Layout(height='25px', width='50%'),…"
      ]
     },
     "metadata": {},
     "output_type": "display_data"
    },
    {
     "name": "stdout",
     "output_type": "stream",
     "text": [
      "Arquivo fechado com sucesso!"
     ]
    }
   ],
   "source": [
    "with open('nomes_aleatorios.txt', 'w') as arquivo:\n",
    "    \n",
    "    for nome in nomes:\n",
    "        print(nome, file=arquivo)\n",
    "\n",
    "print('Arquivo fechado com sucesso!')"
   ]
  }
 ],
 "metadata": {
  "kernelspec": {
   "display_name": "PySpark",
   "language": "python",
   "name": "pysparkkernel"
  },
  "language_info": {
   "codemirror_mode": {
    "name": "python",
    "version": 3
   },
   "file_extension": ".py",
   "mimetype": "text/x-python",
   "name": "pyspark",
   "pygments_lexer": "python3"
  }
 },
 "nbformat": 4,
 "nbformat_minor": 5
}
