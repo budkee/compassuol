{
 "cells": [
  {
   "cell_type": "markdown",
   "id": "7b4987f6-05d6-4ee9-a6de-0c7b96198a8c",
   "metadata": {},
   "source": [
    "## Área de teste | Ingestão Batch"
   ]
  },
  {
   "cell_type": "markdown",
   "id": "3f6d3f16-23c7-4a74-9a4c-7b1720f8d8d8",
   "metadata": {
    "jp-MarkdownHeadingCollapsed": true,
    "tags": []
   },
   "source": [
    "## Área de teste | Nomes\n"
   ]
  },
  {
   "cell_type": "code",
   "execution_count": 1,
   "id": "28cd5a43-1d7d-4c15-a97e-2d9bfe874c16",
   "metadata": {},
   "outputs": [
    {
     "name": "stdout",
     "output_type": "stream",
     "text": [
      "Starting Spark application\n"
     ]
    },
    {
     "data": {
      "text/html": [
       "<table>\n",
       "<tr><th>ID</th><th>YARN Application ID</th><th>Kind</th><th>State</th><th>Spark UI</th><th>Driver log</th><th>User</th><th>Current session?</th></tr><tr><td>1</td><td>None</td><td>pyspark</td><td>idle</td><td></td><td></td><td>None</td><td>✔</td></tr></table>"
      ],
      "text/plain": [
       "<IPython.core.display.HTML object>"
      ]
     },
     "metadata": {},
     "output_type": "display_data"
    },
    {
     "data": {
      "application/vnd.jupyter.widget-view+json": {
       "model_id": "",
       "version_major": 2,
       "version_minor": 0
      },
      "text/plain": [
       "FloatProgress(value=0.0, bar_style='info', description='Progress:', layout=Layout(height='25px', width='50%'),…"
      ]
     },
     "metadata": {},
     "output_type": "display_data"
    },
    {
     "name": "stdout",
     "output_type": "stream",
     "text": [
      "SparkSession available as 'spark'.\n"
     ]
    },
    {
     "data": {
      "application/vnd.jupyter.widget-view+json": {
       "model_id": "",
       "version_major": 2,
       "version_minor": 0
      },
      "text/plain": [
       "FloatProgress(value=0.0, bar_style='info', description='Progress:', layout=Layout(height='25px', width='50%'),…"
      ]
     },
     "metadata": {},
     "output_type": "display_data"
    }
   ],
   "source": [
    "schema = \"nome STRING, sexo STRING, total INT, ano INT\"\n",
    "nomes = spark.read.csv(\"/home/glue_user/workspace/jupyter_workspace/dados_brutos/nomes.csv\", header=True, schema=schema)\n",
    "    \n",
    "# Job\n"
   ]
  },
  {
   "cell_type": "code",
   "execution_count": 2,
   "id": "e85fe6db-1e6d-4eb2-bc98-e1100b20f792",
   "metadata": {
    "collapsed": true,
    "jupyter": {
     "outputs_hidden": true
    },
    "tags": []
   },
   "outputs": [
    {
     "data": {
      "application/vnd.jupyter.widget-view+json": {
       "model_id": "",
       "version_major": 2,
       "version_minor": 0
      },
      "text/plain": [
       "FloatProgress(value=0.0, bar_style='info', description='Progress:', layout=Layout(height='25px', width='50%'),…"
      ]
     },
     "metadata": {},
     "output_type": "display_data"
    },
    {
     "name": "stdout",
     "output_type": "stream",
     "text": [
      "+---------+----+-----+----+\n",
      "|     nome|sexo|total| ano|\n",
      "+---------+----+-----+----+\n",
      "| Jennifer|   F|54336|1983|\n",
      "|  Jessica|   F|45278|1983|\n",
      "|   Amanda|   F|33752|1983|\n",
      "|   Ashley|   F|33292|1983|\n",
      "|    Sarah|   F|27228|1983|\n",
      "|  Melissa|   F|23472|1983|\n",
      "|   Nicole|   F|22392|1983|\n",
      "|Stephanie|   F|22323|1983|\n",
      "|  Heather|   F|20749|1983|\n",
      "|Elizabeth|   F|19838|1983|\n",
      "|  Crystal|   F|17904|1983|\n",
      "|      Amy|   F|17095|1983|\n",
      "| Michelle|   F|16828|1983|\n",
      "|  Tiffany|   F|15960|1983|\n",
      "| Kimberly|   F|15374|1983|\n",
      "|Christina|   F|15359|1983|\n",
      "|    Amber|   F|14886|1983|\n",
      "|     Erin|   F|14835|1983|\n",
      "|  Rebecca|   F|14711|1983|\n",
      "|   Rachel|   F|14588|1983|\n",
      "+---------+----+-----+----+\n",
      "only showing top 20 rows"
     ]
    }
   ],
   "source": [
    "nomes.show()"
   ]
  },
  {
   "cell_type": "code",
   "execution_count": 31,
   "id": "5703dde8-1e0d-4d30-a1db-afc617ff2b09",
   "metadata": {},
   "outputs": [
    {
     "data": {
      "application/vnd.jupyter.widget-view+json": {
       "model_id": "",
       "version_major": 2,
       "version_minor": 0
      },
      "text/plain": [
       "FloatProgress(value=0.0, bar_style='info', description='Progress:', layout=Layout(height='25px', width='50%'),…"
      ]
     },
     "metadata": {},
     "output_type": "display_data"
    }
   ],
   "source": [
    "## Filtros de interesse \n",
    "# 1. Colocar os valores da coluna 'nome' em Maiúsculo\n",
    "from pyspark.sql.functions import upper\n",
    "nome_maiusc_col = nomes.withColumn(\"nome\", upper(nomes[\"nome\"]))\n",
    "\n",
    "# 2. Contagem das linhas do DataFrame\n",
    "linhas = nomes.count()\n",
    "\n",
    "# 3. Contagem de nomes agrupado por ano e sexo, e ordenado por ano de modo decrescente\n",
    "from pyspark.sql.functions import count\n",
    "contagem_nomes = nomes.groupBy(\"ano\", \"sexo\").agg(count(\"nome\").alias(\"contagem\"))\n",
    "contagem_nomes_ano = contagem_nomes.orderBy(\"ano\", ascending=False)\n",
    "\n",
    "# 4. Nome feminino mais registrado e o respectivo ano de registro\n",
    "from pyspark.sql.functions import *\n",
    "from pyspark.sql.window import Window\n",
    "\n",
    "janela_analise = Window.partitionBy(\"ano\").orderBy(desc(\"total\"))\n",
    "\n",
    "# Criação do DataFrame de interesse\n",
    "nomes_fem = nomes.filter(col('sexo') == \"F\")\n",
    "nfs_mais_registrados = nomes_fem.withColumn(\"rank\", dense_rank().over(janela_analise))\n",
    "nf_mais_registrado_ano = nfs_mais_registrados.filter(nfs_mais_registrados.rank==1)\n",
    "nf_mais_registrado_final = nf_mais_registrado_ano.select(\"nome\", \"ano\", \"total\").orderBy(\"total\", ascending=False)\n",
    "\n",
    "# 5. Nome masculino mais registrado e o respectivo ano de registro\n",
    "\n",
    "# Criação do DataFrame de interesse\n",
    "nomes_masc = nomes.filter(nomes.sexo == \"M\")\n",
    "nms_mais_registrados = nomes_masc.withColumn(\"rank\", dense_rank().over(janela_analise))\n",
    "nm_mais_registrado_ano = nms_mais_registrados.filter(nms_mais_registrados.rank==1)\n",
    "nm_mais_registrado_final = nm_mais_registrado_ano.select(\"nome\", \"ano\", \"total\").orderBy(\"total\", ascending=False)\n",
    "\n",
    "# 6. Total de registros para cada ano (Apresentar as 10 primeiras linhas ordenada por Ano de modo crescente)\n",
    "\n",
    "# Criação do DataFrame de interesse\n",
    "registros_ano = nomes.groupBy(\"ano\").agg(sum(\"total\").alias(\"total de registros por ano\"))\n",
    "registros_ordenados = registros_ano.orderBy(\"ano\").limit(10)"
   ]
  },
  {
   "cell_type": "code",
   "execution_count": 32,
   "id": "67bce6b2-feea-4351-8c7e-c618e7175253",
   "metadata": {
    "tags": []
   },
   "outputs": [
    {
     "data": {
      "application/vnd.jupyter.widget-view+json": {
       "model_id": "",
       "version_major": 2,
       "version_minor": 0
      },
      "text/plain": [
       "FloatProgress(value=0.0, bar_style='info', description='Progress:', layout=Layout(height='25px', width='50%'),…"
      ]
     },
     "metadata": {},
     "output_type": "display_data"
    },
    {
     "name": "stdout",
     "output_type": "stream",
     "text": [
      "+----+--------------------------+\n",
      "| ano|total de registros por ano|\n",
      "+----+--------------------------+\n",
      "|1880|                    201484|\n",
      "|1881|                    192699|\n",
      "|1882|                    221538|\n",
      "|1883|                    216950|\n",
      "|1884|                    243467|\n",
      "|1885|                    240855|\n",
      "|1886|                    255319|\n",
      "|1887|                    247396|\n",
      "|1888|                    299480|\n",
      "|1889|                    288950|\n",
      "+----+--------------------------+"
     ]
    }
   ],
   "source": [
    "registros_ordenados.show()"
   ]
  },
  {
   "cell_type": "code",
   "execution_count": 14,
   "id": "f05b77dd-b88a-4c3e-9138-a0d61c5f7a88",
   "metadata": {},
   "outputs": [
    {
     "data": {
      "application/vnd.jupyter.widget-view+json": {
       "model_id": "",
       "version_major": 2,
       "version_minor": 0
      },
      "text/plain": [
       "FloatProgress(value=0.0, bar_style='info', description='Progress:', layout=Layout(height='25px', width='50%'),…"
      ]
     },
     "metadata": {},
     "output_type": "display_data"
    },
    {
     "name": "stdout",
     "output_type": "stream",
     "text": [
      "+-----------+----+-----+----+\n",
      "|       nome|sexo|total| ano|\n",
      "+-----------+----+-----+----+\n",
      "|    Michael|   M|67986|1983|\n",
      "|Christopher|   M|59325|1983|\n",
      "|    Matthew|   M|50202|1983|\n",
      "|      David|   M|39192|1983|\n",
      "|     Joshua|   M|36704|1983|\n",
      "|      James|   M|36336|1983|\n",
      "|      Jason|   M|35105|1983|\n",
      "|     Daniel|   M|34739|1983|\n",
      "|       John|   M|33142|1983|\n",
      "|     Robert|   M|32739|1983|\n",
      "|     Joseph|   M|30447|1983|\n",
      "|     Justin|   M|28293|1983|\n",
      "|       Ryan|   M|27835|1983|\n",
      "|      Brian|   M|26060|1983|\n",
      "|     Andrew|   M|25568|1983|\n",
      "|    William|   M|25379|1983|\n",
      "|    Brandon|   M|23515|1983|\n",
      "|       Adam|   M|23480|1983|\n",
      "|   Jonathan|   M|22742|1983|\n",
      "|       Eric|   M|20337|1983|\n",
      "+-----------+----+-----+----+\n",
      "only showing top 20 rows"
     ]
    }
   ],
   "source": [
    "nomes_masc.show()"
   ]
  },
  {
   "cell_type": "code",
   "execution_count": null,
   "id": "7c5ba860-9031-4280-8f4f-22e82a74c67f",
   "metadata": {},
   "outputs": [],
   "source": [
    "resultado.show()"
   ]
  },
  {
   "cell_type": "code",
   "execution_count": null,
   "id": "aee940f8-c9e7-400e-837b-e9271946355f",
   "metadata": {},
   "outputs": [],
   "source": [
    "nomesPandas."
   ]
  }
 ],
 "metadata": {
  "kernelspec": {
   "display_name": "PySpark",
   "language": "python",
   "name": "pysparkkernel"
  },
  "language_info": {
   "codemirror_mode": {
    "name": "python",
    "version": 3
   },
   "file_extension": ".py",
   "mimetype": "text/x-python",
   "name": "pyspark",
   "pygments_lexer": "python3"
  }
 },
 "nbformat": 4,
 "nbformat_minor": 5
}
