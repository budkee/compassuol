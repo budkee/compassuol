{
 "cells": [
  {
   "cell_type": "markdown",
   "id": "a0025a4e-12b5-4500-93c1-630c87437eb7",
   "metadata": {},
   "source": [
    "# Exercício 4 | Apache Spark"
   ]
  },
  {
   "cell_type": "code",
   "execution_count": 1,
   "id": "003827a2-3a58-45eb-a412-d814cb80e68e",
   "metadata": {},
   "outputs": [
    {
     "name": "stdout",
     "output_type": "stream",
     "text": [
      "Starting Spark application\n"
     ]
    },
    {
     "data": {
      "text/html": [
       "<table>\n",
       "<tr><th>ID</th><th>YARN Application ID</th><th>Kind</th><th>State</th><th>Spark UI</th><th>Driver log</th><th>User</th><th>Current session?</th></tr><tr><td>1</td><td>None</td><td>pyspark</td><td>idle</td><td></td><td></td><td>None</td><td>✔</td></tr></table>"
      ],
      "text/plain": [
       "<IPython.core.display.HTML object>"
      ]
     },
     "metadata": {},
     "output_type": "display_data"
    },
    {
     "data": {
      "application/vnd.jupyter.widget-view+json": {
       "model_id": "",
       "version_major": 2,
       "version_minor": 0
      },
      "text/plain": [
       "FloatProgress(value=0.0, bar_style='info', description='Progress:', layout=Layout(height='25px', width='50%'),…"
      ]
     },
     "metadata": {},
     "output_type": "display_data"
    },
    {
     "name": "stdout",
     "output_type": "stream",
     "text": [
      "SparkSession available as 'spark'.\n"
     ]
    },
    {
     "data": {
      "application/vnd.jupyter.widget-view+json": {
       "model_id": "",
       "version_major": 2,
       "version_minor": 0
      },
      "text/plain": [
       "FloatProgress(value=0.0, bar_style='info', description='Progress:', layout=Layout(height='25px', width='50%'),…"
      ]
     },
     "metadata": {},
     "output_type": "display_data"
    }
   ],
   "source": [
    "# Para o script externo \n",
    "# from pyspark.sql import SparkSession\n",
    "# spark = SparkSession.builder.master(\"local[*]\").appName(\"Exercicio Intro\").getOrCreate()\n",
    "\n",
    "# Para o script interno\n",
    "from pyspark import SparkContext, SQLContext\n",
    "import pandas as pd\n"
   ]
  },
  {
   "cell_type": "code",
   "execution_count": 2,
   "id": "f4658353-673f-4e54-b5b2-614f8710c663",
   "metadata": {},
   "outputs": [
    {
     "data": {
      "application/vnd.jupyter.widget-view+json": {
       "model_id": "",
       "version_major": 2,
       "version_minor": 0
      },
      "text/plain": [
       "FloatProgress(value=0.0, bar_style='info', description='Progress:', layout=Layout(height='25px', width='50%'),…"
      ]
     },
     "metadata": {},
     "output_type": "display_data"
    }
   ],
   "source": [
    "# Leitura do arquivo\n",
    "df_nomes = spark.read.csv('/home/glue_user/workspace/nomes_aleatorios.txt')"
   ]
  },
  {
   "cell_type": "code",
   "execution_count": 3,
   "id": "e0bef97f-38cf-4bda-90ab-8dda3a52c9a5",
   "metadata": {},
   "outputs": [
    {
     "data": {
      "application/vnd.jupyter.widget-view+json": {
       "model_id": "",
       "version_major": 2,
       "version_minor": 0
      },
      "text/plain": [
       "FloatProgress(value=0.0, bar_style='info', description='Progress:', layout=Layout(height='25px', width='50%'),…"
      ]
     },
     "metadata": {},
     "output_type": "display_data"
    },
    {
     "name": "stdout",
     "output_type": "stream",
     "text": [
      "+----------------+\n",
      "|             _c0|\n",
      "+----------------+\n",
      "|Jonathan Jamison|\n",
      "|   Nancy Jackson|\n",
      "|   Betty Millman|\n",
      "|     Ethel White|\n",
      "|     Erin Holmes|\n",
      "+----------------+\n",
      "only showing top 5 rows"
     ]
    }
   ],
   "source": [
    "# Verificando o carregamento\n",
    "df_nomes.show(5)"
   ]
  },
  {
   "cell_type": "code",
   "execution_count": 4,
   "id": "95324437-42d9-42cf-9527-9b0f99443ae9",
   "metadata": {},
   "outputs": [
    {
     "data": {
      "application/vnd.jupyter.widget-view+json": {
       "model_id": "",
       "version_major": 2,
       "version_minor": 0
      },
      "text/plain": [
       "FloatProgress(value=0.0, bar_style='info', description='Progress:', layout=Layout(height='25px', width='50%'),…"
      ]
     },
     "metadata": {},
     "output_type": "display_data"
    },
    {
     "name": "stdout",
     "output_type": "stream",
     "text": [
      "root\n",
      " |-- _c0: string (nullable = true)"
     ]
    }
   ],
   "source": [
    "# Verificando o Schema antes\n",
    "df_nomes.printSchema()"
   ]
  },
  {
   "cell_type": "code",
   "execution_count": 5,
   "id": "306b175b-c768-486a-8a25-69c9d97cbf70",
   "metadata": {},
   "outputs": [
    {
     "data": {
      "application/vnd.jupyter.widget-view+json": {
       "model_id": "",
       "version_major": 2,
       "version_minor": 0
      },
      "text/plain": [
       "FloatProgress(value=0.0, bar_style='info', description='Progress:', layout=Layout(height='25px', width='50%'),…"
      ]
     },
     "metadata": {},
     "output_type": "display_data"
    }
   ],
   "source": [
    "# Renomear a coluna\n",
    "df_nomes = df_nomes.withColumnRenamed('_c0','Nomes')"
   ]
  },
  {
   "cell_type": "code",
   "execution_count": 6,
   "id": "5e5ce951-cfb1-4d8e-9e31-84069616de9c",
   "metadata": {},
   "outputs": [
    {
     "data": {
      "application/vnd.jupyter.widget-view+json": {
       "model_id": "",
       "version_major": 2,
       "version_minor": 0
      },
      "text/plain": [
       "FloatProgress(value=0.0, bar_style='info', description='Progress:', layout=Layout(height='25px', width='50%'),…"
      ]
     },
     "metadata": {},
     "output_type": "display_data"
    },
    {
     "name": "stdout",
     "output_type": "stream",
     "text": [
      "root\n",
      " |-- Nomes: string (nullable = true)"
     ]
    }
   ],
   "source": [
    "# Verificando o Schema depois\n",
    "df_nomes.printSchema()"
   ]
  },
  {
   "cell_type": "code",
   "execution_count": 7,
   "id": "2a628820-e6c3-4c8b-8b42-3028c02e1c17",
   "metadata": {},
   "outputs": [
    {
     "data": {
      "application/vnd.jupyter.widget-view+json": {
       "model_id": "",
       "version_major": 2,
       "version_minor": 0
      },
      "text/plain": [
       "FloatProgress(value=0.0, bar_style='info', description='Progress:', layout=Layout(height='25px', width='50%'),…"
      ]
     },
     "metadata": {},
     "output_type": "display_data"
    },
    {
     "name": "stdout",
     "output_type": "stream",
     "text": [
      "+----------------+\n",
      "|           Nomes|\n",
      "+----------------+\n",
      "|Jonathan Jamison|\n",
      "|   Nancy Jackson|\n",
      "|   Betty Millman|\n",
      "|     Ethel White|\n",
      "|     Erin Holmes|\n",
      "| Delbert Gilliam|\n",
      "|Richard Harrison|\n",
      "|  Myrtle Douglas|\n",
      "|   Charles Purdy|\n",
      "| Craig Patterson|\n",
      "+----------------+\n",
      "only showing top 10 rows"
     ]
    }
   ],
   "source": [
    "# Verificando a alteração da coluna\n",
    "df_nomes.show(10)"
   ]
  },
  {
   "cell_type": "code",
   "execution_count": 35,
   "id": "ecdde071-7fdf-4c7d-93bd-3d14c937a057",
   "metadata": {},
   "outputs": [
    {
     "data": {
      "application/vnd.jupyter.widget-view+json": {
       "model_id": "",
       "version_major": 2,
       "version_minor": 0
      },
      "text/plain": [
       "FloatProgress(value=0.0, bar_style='info', description='Progress:', layout=Layout(height='25px', width='50%'),…"
      ]
     },
     "metadata": {},
     "output_type": "display_data"
    }
   ],
   "source": [
    "# Adicionando uma nova coluna referente à escolaridade\n",
    "\n",
    "import random\n",
    "from pyspark.sql.functions import lit, when, expr, col\n",
    "\n",
    "# Valores a serem atribuídos\n",
    "escolaridade = ['Fundamental', 'Médio', 'Superior']\n",
    "\n",
    "# Criando a coluna\n",
    "df_nomes = df_nomes.withColumn('Escolaridade', expr(\"array(\" + \", \".join([f\"'{nivel}'\" for nivel in escolaridade]) + \")[int(rand() * 3)]\"))"
   ]
  },
  {
   "cell_type": "code",
   "execution_count": 9,
   "id": "2bb5e250-f222-4b01-a12a-908803487800",
   "metadata": {},
   "outputs": [
    {
     "data": {
      "application/vnd.jupyter.widget-view+json": {
       "model_id": "",
       "version_major": 2,
       "version_minor": 0
      },
      "text/plain": [
       "FloatProgress(value=0.0, bar_style='info', description='Progress:', layout=Layout(height='25px', width='50%'),…"
      ]
     },
     "metadata": {},
     "output_type": "display_data"
    },
    {
     "name": "stdout",
     "output_type": "stream",
     "text": [
      "+-----------------+------------+\n",
      "|            Nomes|Escolaridade|\n",
      "+-----------------+------------+\n",
      "| Jonathan Jamison|       Médio|\n",
      "|    Nancy Jackson|    Superior|\n",
      "|    Betty Millman|    Superior|\n",
      "|      Ethel White| Fundamental|\n",
      "|      Erin Holmes|       Médio|\n",
      "|  Delbert Gilliam| Fundamental|\n",
      "| Richard Harrison|    Superior|\n",
      "|   Myrtle Douglas| Fundamental|\n",
      "|    Charles Purdy|    Superior|\n",
      "|  Craig Patterson|       Médio|\n",
      "|Ricardo Windmeyer| Fundamental|\n",
      "|    Joanne Garner| Fundamental|\n",
      "|     Devona Boyer| Fundamental|\n",
      "|       Susan Lane|    Superior|\n",
      "| Michael Stpierre|    Superior|\n",
      "+-----------------+------------+\n",
      "only showing top 15 rows"
     ]
    }
   ],
   "source": [
    "# Verificando a criação da coluna\n",
    "df_nomes.show(15)"
   ]
  },
  {
   "cell_type": "code",
   "execution_count": 10,
   "id": "010d9d80-40e6-48bc-bcf2-d9972e7c56af",
   "metadata": {},
   "outputs": [
    {
     "data": {
      "application/vnd.jupyter.widget-view+json": {
       "model_id": "",
       "version_major": 2,
       "version_minor": 0
      },
      "text/plain": [
       "FloatProgress(value=0.0, bar_style='info', description='Progress:', layout=Layout(height='25px', width='50%'),…"
      ]
     },
     "metadata": {},
     "output_type": "display_data"
    }
   ],
   "source": [
    "# Adicionando uma nova coluna referente aos países\n",
    "\n",
    "paises_sul_america = [\"Brasil\", \"Argentina\", \"Chile\", \"Colômbia\", \"Equador\", \"Peru\", \"Venezuela\", \"Uruguai\", \"Bolívia\", \"Paraguai\", \"Suriname\", \"Guiana\", \"Guiana Francesa\"]\n",
    "\n",
    "df_nomes = df_nomes.withColumn(\"Pais\", expr(\"array(\" + \", \".join([f\"'{pais}'\" for pais in paises_sul_america]) + \")[int(rand() * 13)]\"))"
   ]
  },
  {
   "cell_type": "code",
   "execution_count": 11,
   "id": "6898a7a9-74e6-4883-bcd2-fc58a1c0b1a6",
   "metadata": {},
   "outputs": [
    {
     "data": {
      "application/vnd.jupyter.widget-view+json": {
       "model_id": "",
       "version_major": 2,
       "version_minor": 0
      },
      "text/plain": [
       "FloatProgress(value=0.0, bar_style='info', description='Progress:', layout=Layout(height='25px', width='50%'),…"
      ]
     },
     "metadata": {},
     "output_type": "display_data"
    },
    {
     "name": "stdout",
     "output_type": "stream",
     "text": [
      "+-----------------+------------+---------+\n",
      "|            Nomes|Escolaridade|     Pais|\n",
      "+-----------------+------------+---------+\n",
      "| Jonathan Jamison|       Médio|  Equador|\n",
      "|    Nancy Jackson|    Superior|    Chile|\n",
      "|    Betty Millman|    Superior|  Equador|\n",
      "|      Ethel White| Fundamental|  Bolívia|\n",
      "|      Erin Holmes|       Médio|Argentina|\n",
      "|  Delbert Gilliam| Fundamental|Argentina|\n",
      "| Richard Harrison|    Superior|Venezuela|\n",
      "|   Myrtle Douglas| Fundamental| Paraguai|\n",
      "|    Charles Purdy|    Superior|  Bolívia|\n",
      "|  Craig Patterson|       Médio|  Bolívia|\n",
      "|Ricardo Windmeyer| Fundamental|  Equador|\n",
      "|    Joanne Garner| Fundamental| Paraguai|\n",
      "|     Devona Boyer| Fundamental|   Brasil|\n",
      "|       Susan Lane|    Superior| Colômbia|\n",
      "| Michael Stpierre|    Superior|Argentina|\n",
      "+-----------------+------------+---------+\n",
      "only showing top 15 rows"
     ]
    }
   ],
   "source": [
    "# Verificando a criação da coluna\n",
    "df_nomes.show(15)"
   ]
  },
  {
   "cell_type": "code",
   "execution_count": 12,
   "id": "06e5d36e-664a-48cd-8d91-665d2d0e3168",
   "metadata": {},
   "outputs": [
    {
     "data": {
      "application/vnd.jupyter.widget-view+json": {
       "model_id": "",
       "version_major": 2,
       "version_minor": 0
      },
      "text/plain": [
       "FloatProgress(value=0.0, bar_style='info', description='Progress:', layout=Layout(height='25px', width='50%'),…"
      ]
     },
     "metadata": {},
     "output_type": "display_data"
    }
   ],
   "source": [
    "# Adicionando o ano de nascimento (entre 1945 e 2010) a cada nome\n",
    "df_nomes = df_nomes.withColumn('AnoNascimento', expr(\"1945 + int(rand() * (2011 - 1945))\"))"
   ]
  },
  {
   "cell_type": "code",
   "execution_count": 13,
   "id": "1da0baad-c654-4897-bbae-9d6de99dfa02",
   "metadata": {},
   "outputs": [
    {
     "data": {
      "application/vnd.jupyter.widget-view+json": {
       "model_id": "",
       "version_major": 2,
       "version_minor": 0
      },
      "text/plain": [
       "FloatProgress(value=0.0, bar_style='info', description='Progress:', layout=Layout(height='25px', width='50%'),…"
      ]
     },
     "metadata": {},
     "output_type": "display_data"
    },
    {
     "name": "stdout",
     "output_type": "stream",
     "text": [
      "+-----------------+------------+---------+-------------+\n",
      "|            Nomes|Escolaridade|     Pais|AnoNascimento|\n",
      "+-----------------+------------+---------+-------------+\n",
      "| Jonathan Jamison|       Médio|  Equador|         1957|\n",
      "|    Nancy Jackson|    Superior|    Chile|         1955|\n",
      "|    Betty Millman|    Superior|  Equador|         1950|\n",
      "|      Ethel White| Fundamental|  Bolívia|         1968|\n",
      "|      Erin Holmes|       Médio|Argentina|         2000|\n",
      "|  Delbert Gilliam| Fundamental|Argentina|         1990|\n",
      "| Richard Harrison|    Superior|Venezuela|         1962|\n",
      "|   Myrtle Douglas| Fundamental| Paraguai|         1954|\n",
      "|    Charles Purdy|    Superior|  Bolívia|         1983|\n",
      "|  Craig Patterson|       Médio|  Bolívia|         1986|\n",
      "|Ricardo Windmeyer| Fundamental|  Equador|         1970|\n",
      "|    Joanne Garner| Fundamental| Paraguai|         1984|\n",
      "|     Devona Boyer| Fundamental|   Brasil|         1964|\n",
      "|       Susan Lane|    Superior| Colômbia|         1952|\n",
      "| Michael Stpierre|    Superior|Argentina|         1950|\n",
      "+-----------------+------------+---------+-------------+\n",
      "only showing top 15 rows"
     ]
    }
   ],
   "source": [
    "# Verificando a criação da coluna\n",
    "df_nomes.show(15)"
   ]
  },
  {
   "cell_type": "code",
   "execution_count": 25,
   "id": "9a9aee4e-e003-4a76-a8c3-a61fed2bd540",
   "metadata": {},
   "outputs": [
    {
     "data": {
      "application/vnd.jupyter.widget-view+json": {
       "model_id": "",
       "version_major": 2,
       "version_minor": 0
      },
      "text/plain": [
       "FloatProgress(value=0.0, bar_style='info', description='Progress:', layout=Layout(height='25px', width='50%'),…"
      ]
     },
     "metadata": {},
     "output_type": "display_data"
    }
   ],
   "source": [
    "# Selecione as pessoas que nasceram neste século | Select Pyspark\n",
    "\n",
    "df_seculo_xxi = df_nomes.where(df_nomes['AnoNascimento'] > 2000)\n",
    "df_select = df_seculo_xxi.select('Nomes', 'AnoNascimento')"
   ]
  },
  {
   "cell_type": "code",
   "execution_count": 26,
   "id": "c5bc5d10-f786-4177-84d4-3be2964bc4df",
   "metadata": {},
   "outputs": [
    {
     "data": {
      "application/vnd.jupyter.widget-view+json": {
       "model_id": "",
       "version_major": 2,
       "version_minor": 0
      },
      "text/plain": [
       "FloatProgress(value=0.0, bar_style='info', description='Progress:', layout=Layout(height='25px', width='50%'),…"
      ]
     },
     "metadata": {},
     "output_type": "display_data"
    },
    {
     "name": "stdout",
     "output_type": "stream",
     "text": [
      "+----------------+-------------+\n",
      "|           Nomes|AnoNascimento|\n",
      "+----------------+-------------+\n",
      "|    Martin Orser|         2003|\n",
      "|   Claudia Meyer|         2002|\n",
      "|     Carl Chavez|         2010|\n",
      "|   Richard Rosen|         2005|\n",
      "|    Michael Wert|         2001|\n",
      "|      June White|         2005|\n",
      "|    Jean Daniels|         2008|\n",
      "|  Earnest Ybanez|         2008|\n",
      "|Florrie Strieker|         2002|\n",
      "|   Judith Denson|         2006|\n",
      "+----------------+-------------+\n",
      "only showing top 10 rows"
     ]
    }
   ],
   "source": [
    "# Verifica a seleção\n",
    "df_select.show(10)"
   ]
  },
  {
   "cell_type": "code",
   "execution_count": 27,
   "id": "fd20d74f-45eb-40f4-86bf-e45de310265b",
   "metadata": {},
   "outputs": [
    {
     "data": {
      "application/vnd.jupyter.widget-view+json": {
       "model_id": "",
       "version_major": 2,
       "version_minor": 0
      },
      "text/plain": [
       "FloatProgress(value=0.0, bar_style='info', description='Progress:', layout=Layout(height='25px', width='50%'),…"
      ]
     },
     "metadata": {},
     "output_type": "display_data"
    }
   ],
   "source": [
    "# Criando uma tabela temporária com Spark SQL\n",
    "df_nomes.createOrReplaceTempView (\"pessoas\")"
   ]
  },
  {
   "cell_type": "code",
   "execution_count": 28,
   "id": "66583f74-37ab-4899-a7f3-c05b3b9d6b30",
   "metadata": {},
   "outputs": [
    {
     "data": {
      "application/vnd.jupyter.widget-view+json": {
       "model_id": "",
       "version_major": 2,
       "version_minor": 0
      },
      "text/plain": [
       "FloatProgress(value=0.0, bar_style='info', description='Progress:', layout=Layout(height='25px', width='50%'),…"
      ]
     },
     "metadata": {},
     "output_type": "display_data"
    },
    {
     "name": "stdout",
     "output_type": "stream",
     "text": [
      "+-----------------+------------+---------+-------------+\n",
      "|            Nomes|Escolaridade|     Pais|AnoNascimento|\n",
      "+-----------------+------------+---------+-------------+\n",
      "| Jonathan Jamison|       Médio|  Equador|         1957|\n",
      "|    Nancy Jackson|    Superior|    Chile|         1955|\n",
      "|    Betty Millman|    Superior|  Equador|         1950|\n",
      "|      Ethel White| Fundamental|  Bolívia|         1968|\n",
      "|      Erin Holmes|       Médio|Argentina|         2000|\n",
      "|  Delbert Gilliam| Fundamental|Argentina|         1990|\n",
      "| Richard Harrison|    Superior|Venezuela|         1962|\n",
      "|   Myrtle Douglas| Fundamental| Paraguai|         1954|\n",
      "|    Charles Purdy|    Superior|  Bolívia|         1983|\n",
      "|  Craig Patterson|       Médio|  Bolívia|         1986|\n",
      "|Ricardo Windmeyer| Fundamental|  Equador|         1970|\n",
      "|    Joanne Garner| Fundamental| Paraguai|         1984|\n",
      "|     Devona Boyer| Fundamental|   Brasil|         1964|\n",
      "|       Susan Lane|    Superior| Colômbia|         1952|\n",
      "| Michael Stpierre|    Superior|Argentina|         1950|\n",
      "|    Rachel Murphy|    Superior|   Guiana|         1947|\n",
      "|     Martin Orser|    Superior|Argentina|         2003|\n",
      "|     Linda Muller| Fundamental|  Bolívia|         1956|\n",
      "| Leandro Robotham| Fundamental| Suriname|         1969|\n",
      "|    Claudia Meyer|    Superior|   Guiana|         2002|\n",
      "+-----------------+------------+---------+-------------+\n",
      "only showing top 20 rows"
     ]
    }
   ],
   "source": [
    "# Selecionando a tabela \n",
    "spark.sql(\"select * from pessoas\").show()"
   ]
  },
  {
   "cell_type": "code",
   "execution_count": 29,
   "id": "adc3fa15-e350-4822-b97b-c0df3511793a",
   "metadata": {},
   "outputs": [
    {
     "data": {
      "application/vnd.jupyter.widget-view+json": {
       "model_id": "",
       "version_major": 2,
       "version_minor": 0
      },
      "text/plain": [
       "FloatProgress(value=0.0, bar_style='info', description='Progress:', layout=Layout(height='25px', width='50%'),…"
      ]
     },
     "metadata": {},
     "output_type": "display_data"
    }
   ],
   "source": [
    "# Selecione as pessoas que nasceram neste século | Select Spark SQL\n",
    "consulta_sql = \"\"\"\n",
    "SELECT Nomes, AnoNascimento\n",
    "FROM pessoas\n",
    "WHERE AnoNascimento > 2000\n",
    "\"\"\"\n",
    "df_seculo_xxi = spark.sql(consulta_sql)"
   ]
  },
  {
   "cell_type": "code",
   "execution_count": 30,
   "id": "6ad145c6-d597-43d4-9a51-dc17c6b65c12",
   "metadata": {},
   "outputs": [
    {
     "data": {
      "application/vnd.jupyter.widget-view+json": {
       "model_id": "",
       "version_major": 2,
       "version_minor": 0
      },
      "text/plain": [
       "FloatProgress(value=0.0, bar_style='info', description='Progress:', layout=Layout(height='25px', width='50%'),…"
      ]
     },
     "metadata": {},
     "output_type": "display_data"
    },
    {
     "name": "stdout",
     "output_type": "stream",
     "text": [
      "+----------------+-------------+\n",
      "|           Nomes|AnoNascimento|\n",
      "+----------------+-------------+\n",
      "|    Martin Orser|         2003|\n",
      "|   Claudia Meyer|         2002|\n",
      "|     Carl Chavez|         2010|\n",
      "|   Richard Rosen|         2005|\n",
      "|    Michael Wert|         2001|\n",
      "|      June White|         2005|\n",
      "|    Jean Daniels|         2008|\n",
      "|  Earnest Ybanez|         2008|\n",
      "|Florrie Strieker|         2002|\n",
      "|   Judith Denson|         2006|\n",
      "+----------------+-------------+\n",
      "only showing top 10 rows"
     ]
    }
   ],
   "source": [
    "# Verifica a seleção\n",
    "df_seculo_xxi.show(10)"
   ]
  },
  {
   "cell_type": "code",
   "execution_count": 37,
   "id": "318facc3-7d1d-4da9-ab52-a2a705d3da50",
   "metadata": {},
   "outputs": [
    {
     "data": {
      "application/vnd.jupyter.widget-view+json": {
       "model_id": "",
       "version_major": 2,
       "version_minor": 0
      },
      "text/plain": [
       "FloatProgress(value=0.0, bar_style='info', description='Progress:', layout=Layout(height='25px', width='50%'),…"
      ]
     },
     "metadata": {},
     "output_type": "display_data"
    },
    {
     "name": "stdout",
     "output_type": "stream",
     "text": [
      "2271451"
     ]
    }
   ],
   "source": [
    "# Contagem da geração Millenials (1980 a 1994) | Pyspark\n",
    "## Selecione todas as pessoas nascidas entre 1980 e 1994\n",
    "df_millenials = df_nomes.where((col('AnoNascimento') >= 1980) & (col('AnoNascimento') <= 1994))\n",
    "df_select = df_millenials.select('Nomes', 'AnoNascimento')\n",
    "## Conte o numero de registros\n",
    "df_select.count()"
   ]
  },
  {
   "cell_type": "code",
   "execution_count": 32,
   "id": "6e2a041c-2b56-4662-8f98-ab8b3bfd8bd0",
   "metadata": {},
   "outputs": [
    {
     "data": {
      "application/vnd.jupyter.widget-view+json": {
       "model_id": "",
       "version_major": 2,
       "version_minor": 0
      },
      "text/plain": [
       "FloatProgress(value=0.0, bar_style='info', description='Progress:', layout=Layout(height='25px', width='50%'),…"
      ]
     },
     "metadata": {},
     "output_type": "display_data"
    },
    {
     "name": "stdout",
     "output_type": "stream",
     "text": [
      "2271451"
     ]
    }
   ],
   "source": [
    "# Contagem da geração Millenials (1980 a 1994) | Spark SQL\n",
    "## Selecione todas as pessoas nascidas entre 1980 e 1994\n",
    "consulta_sql = \"\"\"\n",
    "SELECT Nomes, AnoNascimento\n",
    "FROM pessoas\n",
    "WHERE AnoNascimento >= 1980 AND AnoNascimento <= 1994\n",
    "\"\"\"\n",
    "df_millenials = spark.sql(consulta_sql)\n",
    "\n",
    "## Conte o numero de registros\n",
    "df_millenials.count()"
   ]
  },
  {
   "cell_type": "code",
   "execution_count": 41,
   "id": "a7417224-d4d3-4c90-b407-ebd31fb46766",
   "metadata": {},
   "outputs": [
    {
     "data": {
      "application/vnd.jupyter.widget-view+json": {
       "model_id": "",
       "version_major": 2,
       "version_minor": 0
      },
      "text/plain": [
       "FloatProgress(value=0.0, bar_style='info', description='Progress:', layout=Layout(height='25px', width='50%'),…"
      ]
     },
     "metadata": {},
     "output_type": "display_data"
    },
    {
     "name": "stdout",
     "output_type": "stream",
     "text": [
      "+---------------+---------------+\n",
      "|           Pais|sum(Quantidade)|\n",
      "+---------------+---------------+\n",
      "|      Argentina|         186085|\n",
      "|           Peru|         186925|\n",
      "|       Suriname|         186216|\n",
      "|        Equador|         186487|\n",
      "|       Colômbia|         186438|\n",
      "|         Guiana|         186205|\n",
      "|          Chile|         186471|\n",
      "|       Paraguai|         186121|\n",
      "|      Venezuela|         186570|\n",
      "|         Brasil|         186669|\n",
      "|Guiana Francesa|         186867|\n",
      "|        Uruguai|         185995|\n",
      "|        Bolívia|         186706|\n",
      "+---------------+---------------+"
     ]
    }
   ],
   "source": [
    "# Quantidade de pessoas de cada país da geração Z (1995 a 2015)\n",
    "## Geração Z\n",
    "df_genZ = spark.sql(\"\"\"\n",
    "SELECT Pais, AnoNascimento, COUNT(*) AS Quantidade\n",
    "FROM pessoas\n",
    "WHERE AnoNascimento >= 1995 AND AnoNascimento <= 2015\n",
    "GROUP BY Pais, AnoNascimento\n",
    "ORDER BY Pais, AnoNascimento, Quantidade\n",
    "\"\"\")\n",
    "\n",
    "## Armazenando o resultado em um novo dataframe\n",
    "df_por_pais = df_genZ.groupBy(\"Pais\").agg({\"Quantidade\": \"sum\"})\n",
    "\n",
    "## Show\n",
    "df_por_pais.show()"
   ]
  }
 ],
 "metadata": {
  "kernelspec": {
   "display_name": "PySpark",
   "language": "python",
   "name": "pysparkkernel"
  },
  "language_info": {
   "codemirror_mode": {
    "name": "python",
    "version": 3
   },
   "file_extension": ".py",
   "mimetype": "text/x-python",
   "name": "pyspark",
   "pygments_lexer": "python3"
  }
 },
 "nbformat": 4,
 "nbformat_minor": 5
}
