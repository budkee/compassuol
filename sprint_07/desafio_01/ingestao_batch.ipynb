{
 "cells": [
  {
   "cell_type": "markdown",
   "id": "75db1f8c-b7bb-45d9-bc8d-7f8dfbdc6d09",
   "metadata": {},
   "source": [
    "## Ingestão via Batch"
   ]
  },
  {
   "cell_type": "code",
   "execution_count": 1,
   "id": "35d55f73-2014-497d-a448-4eeaae63d3a8",
   "metadata": {},
   "outputs": [
    {
     "name": "stdout",
     "output_type": "stream",
     "text": [
      "Starting Spark application\n"
     ]
    },
    {
     "data": {
      "text/html": [
       "<table>\n",
       "<tr><th>ID</th><th>YARN Application ID</th><th>Kind</th><th>State</th><th>Spark UI</th><th>Driver log</th><th>User</th><th>Current session?</th></tr><tr><td>1</td><td>None</td><td>pyspark</td><td>idle</td><td></td><td></td><td>None</td><td>✔</td></tr></table>"
      ],
      "text/plain": [
       "<IPython.core.display.HTML object>"
      ]
     },
     "metadata": {},
     "output_type": "display_data"
    },
    {
     "data": {
      "application/vnd.jupyter.widget-view+json": {
       "model_id": "",
       "version_major": 2,
       "version_minor": 0
      },
      "text/plain": [
       "FloatProgress(value=0.0, bar_style='info', description='Progress:', layout=Layout(height='25px', width='50%'),…"
      ]
     },
     "metadata": {},
     "output_type": "display_data"
    },
    {
     "name": "stdout",
     "output_type": "stream",
     "text": [
      "SparkSession available as 'spark'.\n"
     ]
    },
    {
     "data": {
      "application/vnd.jupyter.widget-view+json": {
       "model_id": "",
       "version_major": 2,
       "version_minor": 0
      },
      "text/plain": [
       "FloatProgress(value=0.0, bar_style='info', description='Progress:', layout=Layout(height='25px', width='50%'),…"
      ]
     },
     "metadata": {},
     "output_type": "display_data"
    }
   ],
   "source": [
    "# Imports\n",
    "import os \n",
    "import boto3 \n",
    "import logging \n"
   ]
  },
  {
   "cell_type": "code",
   "execution_count": 2,
   "id": "25a9cb4e-e430-43cb-8ae5-370de2ee31fd",
   "metadata": {},
   "outputs": [
    {
     "data": {
      "application/vnd.jupyter.widget-view+json": {
       "model_id": "",
       "version_major": 2,
       "version_minor": 0
      },
      "text/plain": [
       "FloatProgress(value=0.0, bar_style='info', description='Progress:', layout=Layout(height='25px', width='50%'),…"
      ]
     },
     "metadata": {},
     "output_type": "display_data"
    }
   ],
   "source": [
    "# Funções\n",
    "from datetime import datetime"
   ]
  },
  {
   "cell_type": "code",
   "execution_count": 3,
   "id": "12a0bdcb-522c-4515-bb46-efcc6ff48e76",
   "metadata": {},
   "outputs": [
    {
     "data": {
      "application/vnd.jupyter.widget-view+json": {
       "model_id": "",
       "version_major": 2,
       "version_minor": 0
      },
      "text/plain": [
       "FloatProgress(value=0.0, bar_style='info', description='Progress:', layout=Layout(height='25px', width='50%'),…"
      ]
     },
     "metadata": {},
     "output_type": "display_data"
    }
   ],
   "source": [
    "# Declarações\n",
    "arquivo_local = \"/home/glue_user/workspace/jupyter_workspace/raw/series.csv\"\n",
    "bucket = \"dados-num-lago\"\n"
   ]
  },
  {
   "cell_type": "code",
   "execution_count": 4,
   "id": "50a604cb-fc6a-4e2b-894f-a949b14f7cbf",
   "metadata": {},
   "outputs": [
    {
     "data": {
      "application/vnd.jupyter.widget-view+json": {
       "model_id": "",
       "version_major": 2,
       "version_minor": 0
      },
      "text/plain": [
       "FloatProgress(value=0.0, bar_style='info', description='Progress:', layout=Layout(height='25px', width='50%'),…"
      ]
     },
     "metadata": {},
     "output_type": "display_data"
    }
   ],
   "source": [
    "# Movies\n",
    "s3_key_prefix = 'Raw/Local/CSV/Movies'\n",
    "current_date = datetime.now()\n",
    "\n",
    "# Series\n",
    "#s3_key_prefix = 'Raw/Local/CSV/Series'\n",
    "current_date = datetime.now()\n"
   ]
  },
  {
   "cell_type": "code",
   "execution_count": 5,
   "id": "6201374d-68fd-482f-8216-d3302f9c3605",
   "metadata": {
    "tags": []
   },
   "outputs": [
    {
     "data": {
      "application/vnd.jupyter.widget-view+json": {
       "model_id": "",
       "version_major": 2,
       "version_minor": 0
      },
      "text/plain": [
       "FloatProgress(value=0.0, bar_style='info', description='Progress:', layout=Layout(height='25px', width='50%'),…"
      ]
     },
     "metadata": {},
     "output_type": "display_data"
    }
   ],
   "source": [
    "s3_key_prefix += '/{}/{:02d}/{:02d}'.format(current_date.year, current_date.month, current_date.day)\n",
    "s3_object_key = os.path.join(s3_key_prefix, os.path.basename(arquivo_local))\n"
   ]
  },
  {
   "cell_type": "code",
   "execution_count": 7,
   "id": "19349326-1732-4799-ab03-9676f9647392",
   "metadata": {},
   "outputs": [
    {
     "data": {
      "application/vnd.jupyter.widget-view+json": {
       "model_id": "",
       "version_major": 2,
       "version_minor": 0
      },
      "text/plain": [
       "FloatProgress(value=0.0, bar_style='info', description='Progress:', layout=Layout(height='25px', width='50%'),…"
      ]
     },
     "metadata": {},
     "output_type": "display_data"
    }
   ],
   "source": [
    "# Escolhendo o perfil que vai enviar a atualização\n",
    "## Create your own session\n",
    "my_session = boto3.Session(profile_name='teste')"
   ]
  },
  {
   "cell_type": "code",
   "execution_count": 8,
   "id": "347d08a4-cce2-4dca-9229-3400695cbd72",
   "metadata": {},
   "outputs": [
    {
     "data": {
      "application/vnd.jupyter.widget-view+json": {
       "model_id": "",
       "version_major": 2,
       "version_minor": 0
      },
      "text/plain": [
       "FloatProgress(value=0.0, bar_style='info', description='Progress:', layout=Layout(height='25px', width='50%'),…"
      ]
     },
     "metadata": {},
     "output_type": "display_data"
    }
   ],
   "source": [
    "\n",
    "# Inicialize o cliente S3\n",
    "## Perfil de escolha\n",
    "s3 = my_session.client('s3')\n",
    "\n",
    "#s3 = boto3.client('s3') | perfil padrão\n"
   ]
  },
  {
   "cell_type": "code",
   "execution_count": 9,
   "id": "c00f15ba-95ad-4513-acf4-03b0a35ff800",
   "metadata": {},
   "outputs": [
    {
     "data": {
      "application/vnd.jupyter.widget-view+json": {
       "model_id": "",
       "version_major": 2,
       "version_minor": 0
      },
      "text/plain": [
       "FloatProgress(value=0.0, bar_style='info', description='Progress:', layout=Layout(height='25px', width='50%'),…"
      ]
     },
     "metadata": {},
     "output_type": "display_data"
    },
    {
     "name": "stdout",
     "output_type": "stream",
     "text": [
      "O arquivo foi enviado para o S3 em s3://dados-num-lago/Raw/Local/CSV/Series/2023/10/27/series.csv"
     ]
    }
   ],
   "source": [
    "# Realize o upload do arquivo para o S3\n",
    "s3.upload_file(arquivo_local, bucket, s3_object_key)\n",
    "\n",
    "# Fim da aplicação\n",
    "print(\"O arquivo foi enviado para o S3 em s3://{}/{}\".format(bucket, s3_object_key))"
   ]
  }
 ],
 "metadata": {
  "kernelspec": {
   "display_name": "PySpark",
   "language": "python",
   "name": "pysparkkernel"
  },
  "language_info": {
   "codemirror_mode": {
    "name": "python",
    "version": 3
   },
   "file_extension": ".py",
   "mimetype": "text/x-python",
   "name": "pyspark",
   "pygments_lexer": "python3"
  }
 },
 "nbformat": 4,
 "nbformat_minor": 5
}
