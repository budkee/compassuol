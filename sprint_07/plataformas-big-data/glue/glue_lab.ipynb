{
 "cells": [
  {
   "cell_type": "markdown",
   "id": "64f17a98-4de8-4163-9002-b871777cda1b",
   "metadata": {},
   "source": [
    "# Job | Glue Lab"
   ]
  },
  {
   "cell_type": "code",
   "execution_count": 6,
   "id": "d3faaa7a-1807-4d23-8ecb-cfe26c3da365",
   "metadata": {},
   "outputs": [
    {
     "name": "stdout",
     "output_type": "stream",
     "text": [
      "\u001b[34m==>\u001b[0m \u001b[1mDownloading https://formulae.brew.sh/api/formula.jws.json\u001b[0m\n",
      "######################################################################### 100.0%\n",
      "\u001b[34m==>\u001b[0m \u001b[1mDownloading https://formulae.brew.sh/api/cask.jws.json\u001b[0m\n",
      "######################################################################### 100.0%\n",
      "\u001b[33mWarning:\u001b[0m No available formula with the name \"awsglue\". Did you mean awsume?\n",
      "\u001b[34m==>\u001b[0m \u001b[1mSearching for similarly named formulae and casks...\u001b[0m\n",
      "\u001b[34m==>\u001b[0m \u001b[1mFormulae\u001b[0m\n",
      "awsume\n",
      "\n",
      "To install awsume, run:\n",
      "  brew install awsume\n"
     ]
    }
   ],
   "source": [
    "!brew install awsglue"
   ]
  },
  {
   "cell_type": "markdown",
   "id": "c99c4a03-0e9f-4f89-b7fe-b3d7821802b0",
   "metadata": {},
   "source": [
    "### 1. Importações"
   ]
  },
  {
   "cell_type": "code",
   "execution_count": 7,
   "id": "e9422024-b89e-4fb1-ac30-35c748a8508e",
   "metadata": {},
   "outputs": [],
   "source": [
    "import sys\n",
    "import boto3\n",
    "import findspark\n",
    "findspark.init()\n",
    "import pyspark"
   ]
  },
  {
   "cell_type": "markdown",
   "id": "6cfa16ac-0c7f-407f-a053-bd881c8c0fbc",
   "metadata": {},
   "source": [
    "### 2. Entradas"
   ]
  },
  {
   "cell_type": "markdown",
   "id": "1496f30c-7240-423b-8d6c-1c4ee5c890ad",
   "metadata": {},
   "source": [
    "### 3. Processamento"
   ]
  },
  {
   "cell_type": "markdown",
   "id": "6e4c4723-ebd0-4559-b0d3-df9467e94673",
   "metadata": {},
   "source": [
    "### 4. Saídas"
   ]
  }
 ],
 "metadata": {
  "kernelspec": {
   "display_name": "Python 3 (ipykernel)",
   "language": "python",
   "name": "python3"
  },
  "language_info": {
   "codemirror_mode": {
    "name": "ipython",
    "version": 3
   },
   "file_extension": ".py",
   "mimetype": "text/x-python",
   "name": "python",
   "nbconvert_exporter": "python",
   "pygments_lexer": "ipython3",
   "version": "3.10.11"
  }
 },
 "nbformat": 4,
 "nbformat_minor": 5
}
