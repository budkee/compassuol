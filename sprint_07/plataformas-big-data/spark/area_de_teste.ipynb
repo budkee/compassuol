{
 "cells": [
  {
   "cell_type": "markdown",
   "metadata": {},
   "source": [
    "# Tarefa do Job | Conta palavras"
   ]
  },
  {
   "cell_type": "markdown",
   "metadata": {},
   "source": [
    "**Objetivo:** contar a quantidade de ocorrências das palavras em um arquivo de texto.\n",
    "\n",
    "## Passos\n",
    "\n",
    "1. Escrever uma função para mapear as palavras: WordMapperClass -> wordMapper(); \n",
    "2. Escrever uma função para reduzir a lista de frequência: WordReducerClass -> wordReducer();\n",
    "3. Escrever um script que aponte para as funções criadas e execute os métodos: WordCounterClass -> main();"
   ]
  },
  {
   "cell_type": "code",
   "execution_count": 2,
   "metadata": {},
   "outputs": [],
   "source": [
    "import os \n",
    "import sys\n",
    "\n",
    "os.environ[\"PYSPARK_SESSION\"] = sys.executable\n",
    "\n",
    "# Spark\n",
    "import pyspark\n",
    "from pyspark.sql import SparkSession\n",
    "spark = SparkSession.builder.master(\"local[*]\").appName('SparkHelloWord').getOrCreate()"
   ]
  },
  {
   "cell_type": "markdown",
   "metadata": {},
   "source": [
    "### Passo 1: WordMapper Class\n",
    "\n",
    "- A função irá rodar uma só vez por cada linha do arquivo de texto; \n",
    "- **Input:** {\"num_da_linha\": \"Texto da linha\"}\n",
    "- **Output:** {\"palavra\": \"quantidade\"}"
   ]
  },
  {
   "cell_type": "code",
   "execution_count": null,
   "metadata": {},
   "outputs": [],
   "source": [
    "def WordMapper(args):\n",
    "    \n",
    "    for line in sys.stdin:\n",
    "        for word in line.split():\n",
    "            print \"%s\\t%s\" % (word,1)\n",
    "    \n",
    "    return par_palavras"
   ]
  },
  {
   "cell_type": "markdown",
   "metadata": {},
   "source": [
    "## Passo 2: WordReducer Class\n",
    "\n",
    "- A função irá rodar uma só vez por cada par de chave-valor ordenado pelo Hadoop;\n",
    "\n",
    "- **Input:** {\"palavra\": \"lista_de_frequencia\"}\n",
    "- **Output:** {\"palavra\": \"contagem\"}"
   ]
  },
  {
   "cell_type": "code",
   "execution_count": null,
   "metadata": {},
   "outputs": [],
   "source": [
    "def WordReducer(args):\n",
    "    \n",
    "    (last_key,count) = (None, 0)\n",
    "    for line in sys.stdin:\n",
    "        (key, value) = line.strip().split(\"\\t\")\n",
    "        if last_key and last_key!=key:\n",
    "            print \"%s\\t%s\" % (last_key,count)\n",
    "            (last_key,count) = (key,int(value))\n",
    "        else:\n",
    "            (last_key,count) = (key, count + int(value))\n",
    "    \n",
    "    return "
   ]
  },
  {
   "cell_type": "markdown",
   "metadata": {},
   "source": [
    "## Passo 3: Main\n",
    "\n",
    "- A função principal do programa contendo todas as configurações necessárias para realizar a tarefa;"
   ]
  },
  {
   "cell_type": "code",
   "execution_count": null,
   "metadata": {},
   "outputs": [],
   "source": [
    "import sys\n",
    "\n",
    "def WordCounter(input_path, output_path):\n",
    "    return\n"
   ]
  }
 ],
 "metadata": {
  "kernelspec": {
   "display_name": "Python 3 (ipykernel)",
   "language": "python",
   "name": "python3"
  },
  "language_info": {
   "codemirror_mode": {
    "name": "ipython",
    "version": 3
   },
   "file_extension": ".py",
   "mimetype": "text/x-python",
   "name": "python",
   "nbconvert_exporter": "python",
   "pygments_lexer": "ipython3",
   "version": "3.11.6"
  }
 },
 "nbformat": 4,
 "nbformat_minor": 2
}
