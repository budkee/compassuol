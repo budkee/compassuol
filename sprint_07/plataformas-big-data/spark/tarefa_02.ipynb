{
 "cells": [
  {
   "cell_type": "markdown",
   "metadata": {},
   "source": [
    "# Criando um Job em Python utilizando Docker + JupyterLab + Spark em uma VM"
   ]
  },
  {
   "cell_type": "markdown",
   "metadata": {},
   "source": [
    "## Passos\n",
    "- [x] Instalar a VM;\n",
    "- [x] Instalar o Docker;\n",
    "- [] Iniciar o Daemon do Docker;\n",
    "- [] Puxar a imagem ()"
   ]
  },
  {
   "cell_type": "code",
   "execution_count": null,
   "metadata": {},
   "outputs": [],
   "source": []
  }
 ],
 "metadata": {
  "language_info": {
   "name": "python"
  }
 },
 "nbformat": 4,
 "nbformat_minor": 2
}
