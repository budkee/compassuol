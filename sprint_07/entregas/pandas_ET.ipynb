{
 "cells": [
  {
   "cell_type": "markdown",
   "metadata": {
    "id": "ICmNDEkMOKIm"
   },
   "source": [
    "# Sprint 7 | Pandas\n",
    "\n",
    "- [Import das bibliotecas](https://colab.research.google.com/drive/12d4fyoktOh9k-yLf26UPnMLZZcrqpAag#scrollTo=m0K41eLYOB30&line=1&uniqifier=1)\n",
    "- [Extração dos dados]()\n",
    "- [Tarefa 01]()"
   ]
  },
  {
   "cell_type": "markdown",
   "metadata": {
    "id": "DnU6X9QkPykv"
   },
   "source": [
    "## Import das bibliotecas"
   ]
  },
  {
   "cell_type": "code",
   "execution_count": 2,
   "metadata": {
    "id": "m0K41eLYOB30"
   },
   "outputs": [],
   "source": [
    "# Bibliotecas\n",
    "from google.colab import files\n",
    "import numpy as np\n",
    "import pandas as pd"
   ]
  },
  {
   "cell_type": "markdown",
   "metadata": {
    "id": "H8_FZJ7aP3cc"
   },
   "source": [
    "## Extração dos dados"
   ]
  },
  {
   "cell_type": "code",
   "execution_count": 3,
   "metadata": {
    "colab": {
     "base_uri": "https://localhost:8080/",
     "height": 73
    },
    "id": "QT9bQ64NP5-f",
    "outputId": "5371f4ac-f8e5-476c-b8cc-efdae2aa97c5"
   },
   "outputs": [
    {
     "data": {
      "text/html": [
       "\n",
       "     <input type=\"file\" id=\"files-1b91935b-cace-4d5f-9b63-de1ceab1cefd\" name=\"files[]\" multiple disabled\n",
       "        style=\"border:none\" />\n",
       "     <output id=\"result-1b91935b-cace-4d5f-9b63-de1ceab1cefd\">\n",
       "      Upload widget is only available when the cell has been executed in the\n",
       "      current browser session. Please rerun this cell to enable.\n",
       "      </output>\n",
       "      <script>// Copyright 2017 Google LLC\n",
       "//\n",
       "// Licensed under the Apache License, Version 2.0 (the \"License\");\n",
       "// you may not use this file except in compliance with the License.\n",
       "// You may obtain a copy of the License at\n",
       "//\n",
       "//      http://www.apache.org/licenses/LICENSE-2.0\n",
       "//\n",
       "// Unless required by applicable law or agreed to in writing, software\n",
       "// distributed under the License is distributed on an \"AS IS\" BASIS,\n",
       "// WITHOUT WARRANTIES OR CONDITIONS OF ANY KIND, either express or implied.\n",
       "// See the License for the specific language governing permissions and\n",
       "// limitations under the License.\n",
       "\n",
       "/**\n",
       " * @fileoverview Helpers for google.colab Python module.\n",
       " */\n",
       "(function(scope) {\n",
       "function span(text, styleAttributes = {}) {\n",
       "  const element = document.createElement('span');\n",
       "  element.textContent = text;\n",
       "  for (const key of Object.keys(styleAttributes)) {\n",
       "    element.style[key] = styleAttributes[key];\n",
       "  }\n",
       "  return element;\n",
       "}\n",
       "\n",
       "// Max number of bytes which will be uploaded at a time.\n",
       "const MAX_PAYLOAD_SIZE = 100 * 1024;\n",
       "\n",
       "function _uploadFiles(inputId, outputId) {\n",
       "  const steps = uploadFilesStep(inputId, outputId);\n",
       "  const outputElement = document.getElementById(outputId);\n",
       "  // Cache steps on the outputElement to make it available for the next call\n",
       "  // to uploadFilesContinue from Python.\n",
       "  outputElement.steps = steps;\n",
       "\n",
       "  return _uploadFilesContinue(outputId);\n",
       "}\n",
       "\n",
       "// This is roughly an async generator (not supported in the browser yet),\n",
       "// where there are multiple asynchronous steps and the Python side is going\n",
       "// to poll for completion of each step.\n",
       "// This uses a Promise to block the python side on completion of each step,\n",
       "// then passes the result of the previous step as the input to the next step.\n",
       "function _uploadFilesContinue(outputId) {\n",
       "  const outputElement = document.getElementById(outputId);\n",
       "  const steps = outputElement.steps;\n",
       "\n",
       "  const next = steps.next(outputElement.lastPromiseValue);\n",
       "  return Promise.resolve(next.value.promise).then((value) => {\n",
       "    // Cache the last promise value to make it available to the next\n",
       "    // step of the generator.\n",
       "    outputElement.lastPromiseValue = value;\n",
       "    return next.value.response;\n",
       "  });\n",
       "}\n",
       "\n",
       "/**\n",
       " * Generator function which is called between each async step of the upload\n",
       " * process.\n",
       " * @param {string} inputId Element ID of the input file picker element.\n",
       " * @param {string} outputId Element ID of the output display.\n",
       " * @return {!Iterable<!Object>} Iterable of next steps.\n",
       " */\n",
       "function* uploadFilesStep(inputId, outputId) {\n",
       "  const inputElement = document.getElementById(inputId);\n",
       "  inputElement.disabled = false;\n",
       "\n",
       "  const outputElement = document.getElementById(outputId);\n",
       "  outputElement.innerHTML = '';\n",
       "\n",
       "  const pickedPromise = new Promise((resolve) => {\n",
       "    inputElement.addEventListener('change', (e) => {\n",
       "      resolve(e.target.files);\n",
       "    });\n",
       "  });\n",
       "\n",
       "  const cancel = document.createElement('button');\n",
       "  inputElement.parentElement.appendChild(cancel);\n",
       "  cancel.textContent = 'Cancel upload';\n",
       "  const cancelPromise = new Promise((resolve) => {\n",
       "    cancel.onclick = () => {\n",
       "      resolve(null);\n",
       "    };\n",
       "  });\n",
       "\n",
       "  // Wait for the user to pick the files.\n",
       "  const files = yield {\n",
       "    promise: Promise.race([pickedPromise, cancelPromise]),\n",
       "    response: {\n",
       "      action: 'starting',\n",
       "    }\n",
       "  };\n",
       "\n",
       "  cancel.remove();\n",
       "\n",
       "  // Disable the input element since further picks are not allowed.\n",
       "  inputElement.disabled = true;\n",
       "\n",
       "  if (!files) {\n",
       "    return {\n",
       "      response: {\n",
       "        action: 'complete',\n",
       "      }\n",
       "    };\n",
       "  }\n",
       "\n",
       "  for (const file of files) {\n",
       "    const li = document.createElement('li');\n",
       "    li.append(span(file.name, {fontWeight: 'bold'}));\n",
       "    li.append(span(\n",
       "        `(${file.type || 'n/a'}) - ${file.size} bytes, ` +\n",
       "        `last modified: ${\n",
       "            file.lastModifiedDate ? file.lastModifiedDate.toLocaleDateString() :\n",
       "                                    'n/a'} - `));\n",
       "    const percent = span('0% done');\n",
       "    li.appendChild(percent);\n",
       "\n",
       "    outputElement.appendChild(li);\n",
       "\n",
       "    const fileDataPromise = new Promise((resolve) => {\n",
       "      const reader = new FileReader();\n",
       "      reader.onload = (e) => {\n",
       "        resolve(e.target.result);\n",
       "      };\n",
       "      reader.readAsArrayBuffer(file);\n",
       "    });\n",
       "    // Wait for the data to be ready.\n",
       "    let fileData = yield {\n",
       "      promise: fileDataPromise,\n",
       "      response: {\n",
       "        action: 'continue',\n",
       "      }\n",
       "    };\n",
       "\n",
       "    // Use a chunked sending to avoid message size limits. See b/62115660.\n",
       "    let position = 0;\n",
       "    do {\n",
       "      const length = Math.min(fileData.byteLength - position, MAX_PAYLOAD_SIZE);\n",
       "      const chunk = new Uint8Array(fileData, position, length);\n",
       "      position += length;\n",
       "\n",
       "      const base64 = btoa(String.fromCharCode.apply(null, chunk));\n",
       "      yield {\n",
       "        response: {\n",
       "          action: 'append',\n",
       "          file: file.name,\n",
       "          data: base64,\n",
       "        },\n",
       "      };\n",
       "\n",
       "      let percentDone = fileData.byteLength === 0 ?\n",
       "          100 :\n",
       "          Math.round((position / fileData.byteLength) * 100);\n",
       "      percent.textContent = `${percentDone}% done`;\n",
       "\n",
       "    } while (position < fileData.byteLength);\n",
       "  }\n",
       "\n",
       "  // All done.\n",
       "  yield {\n",
       "    response: {\n",
       "      action: 'complete',\n",
       "    }\n",
       "  };\n",
       "}\n",
       "\n",
       "scope.google = scope.google || {};\n",
       "scope.google.colab = scope.google.colab || {};\n",
       "scope.google.colab._files = {\n",
       "  _uploadFiles,\n",
       "  _uploadFilesContinue,\n",
       "};\n",
       "})(self);\n",
       "</script> "
      ],
      "text/plain": [
       "<IPython.core.display.HTML object>"
      ]
     },
     "metadata": {},
     "output_type": "display_data"
    },
    {
     "name": "stdout",
     "output_type": "stream",
     "text": [
      "Saving actors.csv to actors.csv\n"
     ]
    }
   ],
   "source": [
    "# Subir o arquivo pro colab\n",
    "arquivo = files.upload()"
   ]
  },
  {
   "cell_type": "code",
   "execution_count": 4,
   "metadata": {
    "id": "NxQ2H-ywQfUl"
   },
   "outputs": [],
   "source": [
    "# Trazer os dados para o dataframe\n",
    "df = pd.read_csv('actors.csv')"
   ]
  },
  {
   "cell_type": "code",
   "execution_count": null,
   "metadata": {
    "id": "kecBaiqgSD12"
   },
   "outputs": [],
   "source": [
    "# Testando o DataFrame\n",
    "df"
   ]
  },
  {
   "cell_type": "code",
   "execution_count": null,
   "metadata": {
    "id": "_oLU1X-0SS4T"
   },
   "outputs": [],
   "source": [
    "df['#1 Movie']"
   ]
  },
  {
   "cell_type": "markdown",
   "metadata": {
    "id": "Hb1jOkt8OUiB"
   },
   "source": [
    "## Tarefas | Python e Pandas"
   ]
  },
  {
   "cell_type": "markdown",
   "metadata": {
    "id": "BODo50yGj09_"
   },
   "source": [
    "### 1. Identifique o ator/atriz com maior número de filmes e o respectivo número de filmes."
   ]
  },
  {
   "cell_type": "code",
   "execution_count": 8,
   "metadata": {
    "colab": {
     "base_uri": "https://localhost:8080/"
    },
    "id": "aneAT6-MR7E6",
    "outputId": "d62ff4c9-6f5d-4560-88bb-255126bdefda"
   },
   "outputs": [
    {
     "name": "stdout",
     "output_type": "stream",
     "text": [
      "Robert DeNiro: 79 filmes\n"
     ]
    }
   ],
   "source": [
    "## Maior número de filmes\n",
    "maior_num_filmes = df['Number of Movies'].max()\n",
    "#print(maior_num_filmes)\n",
    "\n",
    "## Nome do ator/atriz correspondente\n",
    "indice_nome = df[df['Number of Movies'] == maior_num_filmes]\n",
    "nome = df.iloc[19]['Actor']\n",
    "\n",
    "## Resultado 01\n",
    "tarefa_01 = [nome, maior_num_filmes]\n",
    "\n",
    "# Saída\n",
    "print('{}: {} filmes'.format(*tarefa_01))\n",
    "\n",
    "# Resposta: 'Robert DeNiro: 79 filmes'"
   ]
  },
  {
   "cell_type": "markdown",
   "metadata": {
    "id": "ZOzfVFaCR1Wd"
   },
   "source": [
    "### 2. Apresente a média da coluna contendo o número de filmes.\n"
   ]
  },
  {
   "cell_type": "code",
   "execution_count": 10,
   "metadata": {
    "colab": {
     "base_uri": "https://localhost:8080/"
    },
    "id": "HBcCVEaRfAoa",
    "outputId": "3a69b23a-00c8-4d8a-da38-b930dc8662fd"
   },
   "outputs": [
    {
     "name": "stdout",
     "output_type": "stream",
     "text": [
      "Média do número de filmes: 37.88\n"
     ]
    }
   ],
   "source": [
    "## Média da coluna\n",
    "media = df['Number of Movies'].mean()\n",
    "## Resultado 02\n",
    "etapa_02 = round(media, 2)\n",
    "\n",
    "# Saída\n",
    "print('Média do número de filmes: {}'.format(etapa_02))"
   ]
  },
  {
   "cell_type": "markdown",
   "metadata": {
    "id": "tDkAGH6BR3Hf"
   },
   "source": [
    "### 3. Apresente o nome do ator/atriz com a maior média por filme."
   ]
  },
  {
   "cell_type": "code",
   "execution_count": 11,
   "metadata": {
    "colab": {
     "base_uri": "https://localhost:8080/"
    },
    "id": "k2n6AnBogoPo",
    "outputId": "80cbfca8-83aa-4c00-bb29-6f19c2c49560"
   },
   "outputs": [
    {
     "name": "stdout",
     "output_type": "stream",
     "text": [
      "Anthony Daniels com uma média de $451.8 por filme\n"
     ]
    }
   ],
   "source": [
    "# Transformação\n",
    "## Média da coluna\n",
    "maior_media_filme = df['Average per Movie'].max()\n",
    "\n",
    "## Nome do ator/atriz correspondente\n",
    "indice = df[df['Average per Movie'] == maior_media_filme]\n",
    "nome = df.iloc[14]['Actor']\n",
    "\n",
    "## Resultado 03\n",
    "etapa_03 = [nome, maior_media_filme]\n",
    "\n",
    "# Saída\n",
    "print('{} com uma média de ${} por filme'.format(*etapa_03))\n",
    "\n",
    "# Resposta esperada: Anthony Daniels com uma média de $451.8 por filme."
   ]
  },
  {
   "cell_type": "markdown",
   "metadata": {
    "id": "6zIFHxJ4R6KJ"
   },
   "source": [
    "### 4. Apresente o nome do(s) filme(s) mais frequente(s) e sua respectiva frequência."
   ]
  },
  {
   "cell_type": "code",
   "execution_count": 12,
   "metadata": {
    "colab": {
     "base_uri": "https://localhost:8080/"
    },
    "id": "Q928FGlch8C3",
    "outputId": "0dbbeca5-915f-43c1-ee8e-14a96ad63d70"
   },
   "outputs": [
    {
     "data": {
      "text/plain": [
       "The Avengers                           6\n",
       "Catching Fire                          4\n",
       "Harry Potter / Deathly Hallows (P2)    4\n",
       "Star Wars: The Force Awakens           3\n",
       "The Dark Knight                        3\n",
       "Meet the Fockers                       3\n",
       "Avengers: Age of Ultron                2\n",
       "Return of the King                     2\n",
       "Night at the Museum                    2\n",
       "Dead Man's Chest                       2\n",
       "Shrek 2                                2\n",
       "The Grinch                             1\n",
       "World War Z                            1\n",
       "Transformers 4                         1\n",
       "American Sniper                        1\n",
       "Titanic                                1\n",
       "Minions                                1\n",
       "The LEGO Movie                         1\n",
       "Hotel Transylvania 2                   1\n",
       "The Phantom Menace                     1\n",
       "Men in Black                           1\n",
       "Ocean's Eleven                         1\n",
       "The Martian                            1\n",
       "Independence Day                       1\n",
       "Sixth Sense                            1\n",
       "War of the Worlds                      1\n",
       "Toy Story 3                            1\n",
       "The Dark Knight Rises                  1\n",
       "Name: #1 Movie, dtype: int64"
      ]
     },
     "execution_count": 12,
     "metadata": {},
     "output_type": "execute_result"
    }
   ],
   "source": [
    "## Frequência dos filmes\n",
    "frequencia = df['#1 Movie'].value_counts()\n",
    "frequencia\n"
   ]
  }
 ],
 "metadata": {
  "colab": {
   "provenance": []
  },
  "kernelspec": {
   "display_name": "Python 3 (ipykernel)",
   "language": "python",
   "name": "python3"
  },
  "language_info": {
   "codemirror_mode": {
    "name": "ipython",
    "version": 3
   },
   "file_extension": ".py",
   "mimetype": "text/x-python",
   "name": "python",
   "nbconvert_exporter": "python",
   "pygments_lexer": "ipython3",
   "version": "3.10.2"
  }
 },
 "nbformat": 4,
 "nbformat_minor": 4
}
